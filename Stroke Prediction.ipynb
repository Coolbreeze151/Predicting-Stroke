{
 "cells": [
  {
   "cell_type": "markdown",
   "metadata": {},
   "source": [
    "# Project on Stroke Prediction"
   ]
  },
  {
   "cell_type": "markdown",
   "metadata": {},
   "source": [
    "## Machine Learning Workflow\n",
    "\n",
    "Although the exact implementation details can vary, the general structure of a machine learning project stays relatively constant:\n",
    "\n",
    "    1) Data cleaning and formatting\n",
    "    2) Exploratory data analysis\n",
    "    3) Feature engineering and selection\n",
    "    4) Establish a baseline and compare several machine learning models on a performance metric\n",
    "    5) Perform hyperparameter tuning on the best model to optimize it for the problem\n",
    "    6) Evaluate the best model on the testing set\n",
    "    7) Interpret the model results to the extent possible\n",
    "    8) Draw conclusions and write a well-documented report"
   ]
  },
  {
   "cell_type": "markdown",
   "metadata": {},
   "source": [
    "# Import\n",
    "We will use the standard data science and machine learning libraries: numpy, pandas, and scikit-learn. We also use matplotlib and seaborn for visualization."
   ]
  },
  {
   "cell_type": "code",
   "execution_count": 2,
   "metadata": {},
   "outputs": [],
   "source": [
    "# Pandas and numpy for data manipulation\n",
    "import pandas as pd\n",
    "import numpy as np\n",
    "\n",
    "# No warnings about setting value on copy of slice, i.e. no annoying pink boxes\n",
    "pd.options.mode.chained_assignment = None\n",
    "\n",
    "# Display up to 60 columns of a dataframe\n",
    "pd.set_option('display.max_columns', 60)\n",
    "\n",
    "# Matplotlib visualization\n",
    "import matplotlib.pyplot as plt\n",
    "%matplotlib inline\n",
    "\n",
    "# Set default font size\n",
    "plt.rcParams['font.size'] = 24\n",
    "\n",
    "# Internal ipython tool for setting figure size\n",
    "from IPython.core.pylabtools import figsize\n",
    "\n",
    "# Seaborn for visualization\n",
    "import seaborn as sns\n",
    "sns.set(font_scale = 2)\n",
    "\n",
    "# Splitting data into training and testing\n",
    "from sklearn.model_selection import train_test_split"
   ]
  },
  {
   "cell_type": "markdown",
   "metadata": {},
   "source": [
    "# Data Cleaning and Formatting\n",
    "\n",
    "## Load in the Data and Examine\n",
    "\n",
    "We will be loading our data into a pandas dataframe, one of the most useful data structures for data science. Think of it as a spreadsheet within Python that we can easily manipulate, clean, and visualize. [Pandas has many methods](http://pandas.pydata.org/pandas-docs/stable/) to help make the data science/machine learning pipeline as smooth as possible."
   ]
  },
  {
   "cell_type": "code",
   "execution_count": 3,
   "metadata": {},
   "outputs": [
    {
     "data": {
      "text/html": [
       "<div>\n",
       "<style scoped>\n",
       "    .dataframe tbody tr th:only-of-type {\n",
       "        vertical-align: middle;\n",
       "    }\n",
       "\n",
       "    .dataframe tbody tr th {\n",
       "        vertical-align: top;\n",
       "    }\n",
       "\n",
       "    .dataframe thead th {\n",
       "        text-align: right;\n",
       "    }\n",
       "</style>\n",
       "<table border=\"1\" class=\"dataframe\">\n",
       "  <thead>\n",
       "    <tr style=\"text-align: right;\">\n",
       "      <th></th>\n",
       "      <th>id</th>\n",
       "      <th>gender</th>\n",
       "      <th>age</th>\n",
       "      <th>hypertension</th>\n",
       "      <th>heart_disease</th>\n",
       "      <th>ever_married</th>\n",
       "      <th>work_type</th>\n",
       "      <th>Residence_type</th>\n",
       "      <th>avg_glucose_level</th>\n",
       "      <th>bmi</th>\n",
       "      <th>smoking_status</th>\n",
       "      <th>stroke</th>\n",
       "    </tr>\n",
       "  </thead>\n",
       "  <tbody>\n",
       "    <tr>\n",
       "      <td>24106</td>\n",
       "      <td>29712</td>\n",
       "      <td>Male</td>\n",
       "      <td>64.0</td>\n",
       "      <td>0</td>\n",
       "      <td>0</td>\n",
       "      <td>Yes</td>\n",
       "      <td>Self-employed</td>\n",
       "      <td>Rural</td>\n",
       "      <td>95.18</td>\n",
       "      <td>45.3</td>\n",
       "      <td>never smoked</td>\n",
       "      <td>0</td>\n",
       "    </tr>\n",
       "    <tr>\n",
       "      <td>21972</td>\n",
       "      <td>7652</td>\n",
       "      <td>Male</td>\n",
       "      <td>78.0</td>\n",
       "      <td>0</td>\n",
       "      <td>1</td>\n",
       "      <td>Yes</td>\n",
       "      <td>Govt_job</td>\n",
       "      <td>Urban</td>\n",
       "      <td>93.34</td>\n",
       "      <td>29.8</td>\n",
       "      <td>formerly smoked</td>\n",
       "      <td>0</td>\n",
       "    </tr>\n",
       "    <tr>\n",
       "      <td>26777</td>\n",
       "      <td>59169</td>\n",
       "      <td>Female</td>\n",
       "      <td>19.0</td>\n",
       "      <td>0</td>\n",
       "      <td>0</td>\n",
       "      <td>No</td>\n",
       "      <td>Private</td>\n",
       "      <td>Rural</td>\n",
       "      <td>138.92</td>\n",
       "      <td>20.6</td>\n",
       "      <td>NaN</td>\n",
       "      <td>0</td>\n",
       "    </tr>\n",
       "    <tr>\n",
       "      <td>8063</td>\n",
       "      <td>34319</td>\n",
       "      <td>Female</td>\n",
       "      <td>24.0</td>\n",
       "      <td>0</td>\n",
       "      <td>0</td>\n",
       "      <td>Yes</td>\n",
       "      <td>Private</td>\n",
       "      <td>Rural</td>\n",
       "      <td>68.71</td>\n",
       "      <td>30.3</td>\n",
       "      <td>never smoked</td>\n",
       "      <td>0</td>\n",
       "    </tr>\n",
       "    <tr>\n",
       "      <td>14213</td>\n",
       "      <td>17636</td>\n",
       "      <td>Female</td>\n",
       "      <td>16.0</td>\n",
       "      <td>0</td>\n",
       "      <td>0</td>\n",
       "      <td>No</td>\n",
       "      <td>Private</td>\n",
       "      <td>Rural</td>\n",
       "      <td>79.81</td>\n",
       "      <td>25.8</td>\n",
       "      <td>formerly smoked</td>\n",
       "      <td>0</td>\n",
       "    </tr>\n",
       "  </tbody>\n",
       "</table>\n",
       "</div>"
      ],
      "text/plain": [
       "          id  gender   age  hypertension  heart_disease ever_married  \\\n",
       "24106  29712    Male  64.0             0              0          Yes   \n",
       "21972   7652    Male  78.0             0              1          Yes   \n",
       "26777  59169  Female  19.0             0              0           No   \n",
       "8063   34319  Female  24.0             0              0          Yes   \n",
       "14213  17636  Female  16.0             0              0           No   \n",
       "\n",
       "           work_type Residence_type  avg_glucose_level   bmi   smoking_status  \\\n",
       "24106  Self-employed          Rural              95.18  45.3     never smoked   \n",
       "21972       Govt_job          Urban              93.34  29.8  formerly smoked   \n",
       "26777        Private          Rural             138.92  20.6              NaN   \n",
       "8063         Private          Rural              68.71  30.3     never smoked   \n",
       "14213        Private          Rural              79.81  25.8  formerly smoked   \n",
       "\n",
       "       stroke  \n",
       "24106       0  \n",
       "21972       0  \n",
       "26777       0  \n",
       "8063        0  \n",
       "14213       0  "
      ]
     },
     "execution_count": 3,
     "metadata": {},
     "output_type": "execute_result"
    }
   ],
   "source": [
    "# Read in data into a dataframe \n",
    "train_df = pd.read_csv('train_2v.csv')\n",
    "test_df = pd.read_csv('test_2v.csv')\n",
    "\n",
    "# Because data is huge, for purpose of practice, will reduce it to 20% sample of the whole population for the time being.\n",
    "train_df = train_df.sample(frac=0.6, replace=True)\n",
    "\n",
    "# Display top of dataframe\n",
    "train_df.head()"
   ]
  },
  {
   "cell_type": "code",
   "execution_count": 4,
   "metadata": {},
   "outputs": [
    {
     "name": "stdout",
     "output_type": "stream",
     "text": [
      "<class 'pandas.core.frame.DataFrame'>\n",
      "Int64Index: 26040 entries, 24106 to 32793\n",
      "Data columns (total 12 columns):\n",
      "id                   26040 non-null int64\n",
      "gender               26040 non-null object\n",
      "age                  26040 non-null float64\n",
      "hypertension         26040 non-null int64\n",
      "heart_disease        26040 non-null int64\n",
      "ever_married         26040 non-null object\n",
      "work_type            26040 non-null object\n",
      "Residence_type       26040 non-null object\n",
      "avg_glucose_level    26040 non-null float64\n",
      "bmi                  25119 non-null float64\n",
      "smoking_status       18086 non-null object\n",
      "stroke               26040 non-null int64\n",
      "dtypes: float64(3), int64(4), object(5)\n",
      "memory usage: 2.6+ MB\n"
     ]
    }
   ],
   "source": [
    "train_df.info()"
   ]
  },
  {
   "cell_type": "markdown",
   "metadata": {},
   "source": [
    "Let's take a look to see if there are missing data in this dataframe set for Stroke"
   ]
  },
  {
   "cell_type": "code",
   "execution_count": 5,
   "metadata": {},
   "outputs": [],
   "source": [
    "# Function to calculate missing values by column\n",
    "def missing_values_table(df):\n",
    "        # Total missing values\n",
    "        mis_val = df.isnull().sum()\n",
    "        \n",
    "        # Percentage of missing values\n",
    "        mis_val_percent = 100 * df.isnull().sum() / len(df)\n",
    "        \n",
    "        # Make a table with the results\n",
    "        mis_val_table = pd.concat([mis_val, mis_val_percent], axis=1)\n",
    "        \n",
    "        # Rename the columns\n",
    "        mis_val_table_ren_columns = mis_val_table.rename(\n",
    "        columns = {0 : 'Missing Values', 1 : '% of Total Values'})\n",
    "        \n",
    "        # Sort the table by percentage of missing descending\n",
    "        mis_val_table_ren_columns = mis_val_table_ren_columns[\n",
    "            mis_val_table_ren_columns.iloc[:,1] != 0].sort_values(\n",
    "        '% of Total Values', ascending=False).round(1)\n",
    "        \n",
    "        # Print some summary information\n",
    "        print (\"Your selected dataframe has \" + str(df.shape[1]) + \" columns.\\n\"      \n",
    "            \"There are \" + str(mis_val_table_ren_columns.shape[0]) +\n",
    "              \" columns that have missing values.\")\n",
    "        \n",
    "        # Return the dataframe with missing information\n",
    "        return mis_val_table_ren_columns"
   ]
  },
  {
   "cell_type": "code",
   "execution_count": 6,
   "metadata": {},
   "outputs": [
    {
     "name": "stdout",
     "output_type": "stream",
     "text": [
      "Your selected dataframe has 12 columns.\n",
      "There are 2 columns that have missing values.\n"
     ]
    },
    {
     "data": {
      "text/html": [
       "<div>\n",
       "<style scoped>\n",
       "    .dataframe tbody tr th:only-of-type {\n",
       "        vertical-align: middle;\n",
       "    }\n",
       "\n",
       "    .dataframe tbody tr th {\n",
       "        vertical-align: top;\n",
       "    }\n",
       "\n",
       "    .dataframe thead th {\n",
       "        text-align: right;\n",
       "    }\n",
       "</style>\n",
       "<table border=\"1\" class=\"dataframe\">\n",
       "  <thead>\n",
       "    <tr style=\"text-align: right;\">\n",
       "      <th></th>\n",
       "      <th>Missing Values</th>\n",
       "      <th>% of Total Values</th>\n",
       "    </tr>\n",
       "  </thead>\n",
       "  <tbody>\n",
       "    <tr>\n",
       "      <td>smoking_status</td>\n",
       "      <td>7954</td>\n",
       "      <td>30.5</td>\n",
       "    </tr>\n",
       "    <tr>\n",
       "      <td>bmi</td>\n",
       "      <td>921</td>\n",
       "      <td>3.5</td>\n",
       "    </tr>\n",
       "  </tbody>\n",
       "</table>\n",
       "</div>"
      ],
      "text/plain": [
       "                Missing Values  % of Total Values\n",
       "smoking_status            7954               30.5\n",
       "bmi                        921                3.5"
      ]
     },
     "execution_count": 6,
     "metadata": {},
     "output_type": "execute_result"
    }
   ],
   "source": [
    "missing_values_table(train_df)"
   ]
  },
  {
   "cell_type": "markdown",
   "metadata": {},
   "source": [
    "# Exploratory Data Analysis"
   ]
  },
  {
   "cell_type": "code",
   "execution_count": 7,
   "metadata": {},
   "outputs": [],
   "source": [
    "train_df_stroke = train_df.loc[train_df['stroke'] == 1]\n",
    "sns.set(style=\"ticks\")"
   ]
  },
  {
   "cell_type": "code",
   "execution_count": 8,
   "metadata": {},
   "outputs": [],
   "source": [
    "numerical = [\n",
    "  'age', 'bmi', 'avg_glucose_level'\n",
    "]\n",
    "categorical = [\n",
    "  'gender', 'hypertension', 'heart_disease', 'ever_married', 'work_type', 'Residence_type', 'smoking_status'\n",
    "]"
   ]
  },
  {
   "cell_type": "code",
   "execution_count": 9,
   "metadata": {
    "scrolled": true
   },
   "outputs": [
    {
     "data": {
      "image/png": "[encoded data removed]",
      "text/plain": [
       "<Figure size 1440x720 with 8 Axes>"
      ]
     },
     "metadata": {},
     "output_type": "display_data"
    }
   ],
   "source": [
    "train_df_stroke[numerical].hist(bins=15, figsize=(20, 10), layout=(2, 4));"
   ]
  },
  {
   "cell_type": "markdown",
   "metadata": {},
   "source": [
    "For the numerical data columns theres a few deductions can make by looking at the counts.\n",
    "1. Chances of stroke is higher for people reaching the age of late 70s to their 80s.\n",
    "2. Number of people with stroke is higher for those who seem to have average glucose level that is within the [permitted range](https://www.webmd.com/diabetes/qa/what-are-normal-blood-sugar-levels). \n",
    "3. Those whose BMI were at the higher end of 20s seem to be more susceptible to getting stroke."
   ]
  },
  {
   "cell_type": "code",
   "execution_count": 10,
   "metadata": {},
   "outputs": [
    {
     "data": {
      "image/png": "[encoded data removed]",
      "text/plain": [
       "<Figure size 1296x720 with 8 Axes>"
      ]
     },
     "metadata": {},
     "output_type": "display_data"
    }
   ],
   "source": [
    "fig, ax = plt.subplots(2, 4, figsize=(18, 10))\n",
    "for variable, subplot in zip(categorical, ax.flatten()):\n",
    "    sns.countplot(train_df_stroke[variable], ax=subplot)\n",
    "    for label in subplot.get_xticklabels():\n",
    "        label.set_rotation(90)"
   ]
  },
  {
   "cell_type": "markdown",
   "metadata": {},
   "source": [
    "If we look at the count of victims with stroke for each feature, the likely stroke victim seems to be one who is Female, Urban, Private, never smoke, married. Each of this feature seems to have an impact on the prediction one whether the person may have stroke. Some deductions like not smoking goes against some of our assumptions. One would have thought that smoking would likely lead you to have stroke in comparison to a non-smoker. So lets take a look at each of them further. We begin by doing a quantitative and categorical summary anaysis for the features."
   ]
  },
  {
   "cell_type": "code",
   "execution_count": 11,
   "metadata": {},
   "outputs": [],
   "source": [
    "def quantitative_summarized(dataframe, x=None, y=None, hue=None, palette='Set1', ax=None, verbose=True, swarm=False):\n",
    "    '''\n",
    "    Helper function that gives a quick summary of quantattive data\n",
    "    Arguments\n",
    "    =========\n",
    "    dataframe: pandas dataframe\n",
    "    x: str. horizontal axis to plot the labels of categorical data (usually the target variable)\n",
    "    y: str. vertical axis to plot the quantitative data\n",
    "    hue: str. if you want to compare it another categorical variable (usually the target variable if x is another variable)\n",
    "    palette: array-like. Colour of the plot\n",
    "    swarm: if swarm is set to True, a swarm plot would be overlayed\n",
    "    Returns\n",
    "    =======\n",
    "    Quick Stats of the data and also the box plot of the distribution\n",
    "    '''\n",
    "    series = dataframe[y]\n",
    "    print(series.describe())\n",
    "    print('mode: ', series.mode())\n",
    "    if verbose:\n",
    "        print('='*80)\n",
    "        print(series.value_counts())\n",
    "\n",
    "    sns.boxplot(x=x, y=y, hue=hue, data=dataframe, palette=palette, ax=ax)\n",
    "\n",
    "    if swarm:\n",
    "        sns.swarmplot(x=x, y=y, hue=hue, data=dataframe,\n",
    "                      palette=palette, ax=ax)\n",
    "\n",
    "    plt.show()"
   ]
  },
  {
   "cell_type": "code",
   "execution_count": 12,
   "metadata": {},
   "outputs": [],
   "source": [
    "def categorical_summarized(dataframe, x=None, y=None, hue=None, palette='Set1', verbose=True):\n",
    "    '''\n",
    "    Helper function that gives a quick summary of a given column of categorical data\n",
    "    Arguments\n",
    "    =========\n",
    "    dataframe: pandas dataframe\n",
    "    x: str. horizontal axis to plot the labels of categorical data, y would be the count\n",
    "    y: str. vertical axis to plot the labels of categorical data, x would be the count\n",
    "    hue: str. if you want to compare it another variable (usually the target variable)\n",
    "    palette: array-like. Colour of the plot\n",
    "    Returns\n",
    "    =======\n",
    "    Quick Stats of the data and also the count plot\n",
    "    '''\n",
    "    if x == None:\n",
    "        column_interested = y\n",
    "    else:\n",
    "        column_interested = x\n",
    "    series = dataframe[column_interested]\n",
    "    print(series.describe())\n",
    "    print('mode: ', series.mode())\n",
    "    if verbose:\n",
    "        print('='*80)\n",
    "        print(series.value_counts())\n",
    "\n",
    "    sns.countplot(x=x, y=y, hue=hue, data=dataframe, palette=palette)\n",
    "    plt.show()\n"
   ]
  },
  {
   "cell_type": "code",
   "execution_count": 13,
   "metadata": {},
   "outputs": [],
   "source": [
    "c_palette = ['tab:blue', 'tab:orange']"
   ]
  },
  {
   "cell_type": "code",
   "execution_count": 14,
   "metadata": {},
   "outputs": [
    {
     "name": "stdout",
     "output_type": "stream",
     "text": [
      "count    480.000000\n",
      "mean      68.052083\n",
      "std       12.200628\n",
      "min       21.000000\n",
      "25%       61.000000\n",
      "50%       71.500000\n",
      "75%       78.000000\n",
      "max       82.000000\n",
      "Name: age, dtype: float64\n",
      "mode:  0    78.0\n",
      "1    79.0\n",
      "dtype: float64\n"
     ]
    },
    {
     "data": {
      "image/png": "[encoded data removed]",
      "text/plain": [
       "<Figure size 432x288 with 1 Axes>"
      ]
     },
     "metadata": {},
     "output_type": "display_data"
    }
   ],
   "source": [
    "#Bivariate Analysis with target variable\n",
    "quantitative_summarized(dataframe= train_df_stroke, y = 'age', x = 'gender', palette=c_palette, verbose=False, swarm=True)"
   ]
  },
  {
   "cell_type": "markdown",
   "metadata": {},
   "source": [
    "From the data we can see that the average age of people with stroke seem to be in their late 60s to 70s for both Males & Females. Females were likely to be a stroke victim at an older age among the 2 genders. It seems to me that gender may play a part in predicting stroke. Lets now take a look at smoking status of our data set. I'll be setting the hue to include gender to see if we can see any insights and relationship between gender and smoking status for our stroke victims."
   ]
  },
  {
   "cell_type": "code",
   "execution_count": 15,
   "metadata": {},
   "outputs": [
    {
     "data": {
      "image/png": "[encoded data removed]",
      "text/plain": [
       "<Figure size 436.35x360 with 1 Axes>"
      ]
     },
     "metadata": {},
     "output_type": "display_data"
    }
   ],
   "source": [
    "sns.catplot(x=\"smoking_status\", y=\"age\", hue=\"gender\", kind=\"swarm\", data=train_df_stroke);"
   ]
  },
  {
   "cell_type": "markdown",
   "metadata": {},
   "source": [
    "Based on the graph we can agree that our assumptions still hold that smoking does have an impact on stroke, in particular age. We can see that for the smoke category, age seems to have a wider spread. We can deduce that smoking does result in people getting stroke at a younger age in comparison to those that never smoke or formerly smoked. Lets take a look further at hypertension and age as a factor of stroke. We will carry out a multivariate analysis below on these variable factors. "
   ]
  },
  {
   "cell_type": "code",
   "execution_count": 16,
   "metadata": {},
   "outputs": [
    {
     "name": "stdout",
     "output_type": "stream",
     "text": [
      "count    480.000000\n",
      "mean      68.052083\n",
      "std       12.200628\n",
      "min       21.000000\n",
      "25%       61.000000\n",
      "50%       71.500000\n",
      "75%       78.000000\n",
      "max       82.000000\n",
      "Name: age, dtype: float64\n",
      "mode:  0    78.0\n",
      "1    79.0\n",
      "dtype: float64\n"
     ]
    },
    {
     "data": {
      "image/png": "[encoded data removed]",
      "text/plain": [
       "<Figure size 432x288 with 1 Axes>"
      ]
     },
     "metadata": {},
     "output_type": "display_data"
    }
   ],
   "source": [
    "# multivariate analysis with Embarked variable and Pclass variable\n",
    "quantitative_summarized(dataframe= train_df_stroke, y = 'age', x = 'stroke', hue = 'hypertension', palette=c_palette, verbose=False, swarm=False)\n"
   ]
  },
  {
   "cell_type": "markdown",
   "metadata": {},
   "source": [
    "Surprisingly stroke victims were more likely to be older if they actually had hypertension. This may actually seem counter intuitive but I believe this could be due to the fact that people who have hypertension were more likely to be on medication to control their blood pressure. This could possible be a factor that helped those with hypertension to prolong their health before falling to stroke at a later age."
   ]
  },
  {
   "cell_type": "markdown",
   "metadata": {},
   "source": [
    "I also decided to create a jointplot between bmi & age for stroke data to see if they have any related relationship. From the jointplot below, we can see that there is no clear cut linear relationship. Nevertheless there is a possibility that BMI & age can help us predict if one were to have stroke."
   ]
  },
  {
   "cell_type": "code",
   "execution_count": 17,
   "metadata": {},
   "outputs": [
    {
     "data": {
      "image/png": "[encoded data removed]",
      "text/plain": [
       "<Figure size 432x432 with 3 Axes>"
      ]
     },
     "metadata": {},
     "output_type": "display_data"
    }
   ],
   "source": [
    "sns.jointplot(x=train_df_stroke['bmi'], y=train_df_stroke['age']);"
   ]
  },
  {
   "cell_type": "markdown",
   "metadata": {},
   "source": [
    "# Feature Engineering & Selection"
   ]
  },
  {
   "cell_type": "markdown",
   "metadata": {},
   "source": [
    "## One Hot Encoding for Categorical Variables"
   ]
  },
  {
   "cell_type": "code",
   "execution_count": 18,
   "metadata": {},
   "outputs": [
    {
     "name": "stderr",
     "output_type": "stream",
     "text": [
      "C:\\Users\\Ismahfaris\\Anaconda3\\lib\\site-packages\\pandas\\core\\series.py:853: RuntimeWarning: divide by zero encountered in log\n",
      "  result = getattr(ufunc, method)(*inputs, **kwargs)\n"
     ]
    },
    {
     "data": {
      "text/plain": [
       "(26040, 28)"
      ]
     },
     "execution_count": 18,
     "metadata": {},
     "output_type": "execute_result"
    }
   ],
   "source": [
    "# PENDING CODE FOR ONE HOT ENCODING\n",
    "\n",
    "# Select the numeric columns\n",
    "numeric_subset = train_df.select_dtypes('number')\n",
    "\n",
    "# Create columns with log of numeric columns\n",
    "for col in numeric_subset.columns:\n",
    "    # Skip the target column\n",
    "    if col == 'stroke':\n",
    "        next\n",
    "    else:\n",
    "        numeric_subset['log_' + col] = np.log(numeric_subset[col])\n",
    "        \n",
    "# Select the categorical columns\n",
    "categorical_subset = train_df[['gender','ever_married','work_type','Residence_type','smoking_status']]\n",
    "\n",
    "# One hot encode\n",
    "categorical_subset = pd.get_dummies(categorical_subset)\n",
    "\n",
    "# Join the two dataframes using concat\n",
    "# Make sure to use axis = 1 to perform a column bind\n",
    "train_df = pd.concat([numeric_subset, categorical_subset], axis = 1)\n",
    "\n",
    "train_df.shape"
   ]
  },
  {
   "cell_type": "markdown",
   "metadata": {},
   "source": [
    "\n",
    "## Remove Collinear Features\n",
    "\n",
    "Since I mentioned about linear relationships, I think its good to highlight that highly [collinear features](http://psychologicalstatistics.blogspot.com/2013/11/multicollinearity-and-collinearity-in.html) have a significant correlation coefficent between them. Thus, to opmitimize our models, we should look to remove any of the collinear features. "
   ]
  },
  {
   "cell_type": "code",
   "execution_count": 19,
   "metadata": {},
   "outputs": [],
   "source": [
    "def remove_collinear_features(x, threshold):\n",
    "    '''\n",
    "    Objective:\n",
    "        Remove collinear features in a dataframe with a correlation coefficient\n",
    "        greater than the threshold. Removing collinear features can help a model\n",
    "        to generalize and improves the interpretability of the model.\n",
    "        \n",
    "    Inputs: \n",
    "        threshold: any features with correlations greater than this value are removed\n",
    "    \n",
    "    Output: \n",
    "        dataframe that contains only the non-highly-collinear features\n",
    "    '''\n",
    "    \n",
    "    # Dont want to remove correlations between Score\n",
    "    y = x['stroke']\n",
    "    x = x.drop(columns = ['stroke'])\n",
    "    \n",
    "    # Calculate the correlation matrix\n",
    "    corr_matrix = x.corr()\n",
    "    iters = range(len(corr_matrix.columns) - 1)\n",
    "    drop_cols = []\n",
    "    \n",
    "    # Iterate through the correlation matrix and compare correlations\n",
    "    for i in iters:\n",
    "        for j in range(i):\n",
    "            item = corr_matrix.iloc[j:(j+1), (i+1):(i+2)]\n",
    "            col = item.columns\n",
    "            row = item.index\n",
    "            val = abs(item.values)\n",
    "            \n",
    "            # If correlation exceeds the threshold\n",
    "            if val >= threshold:\n",
    "                # Print the correlated features and the correlation value\n",
    "                # print(col.values[0], \"|\", row.values[0], \"|\", round(val[0][0], 2))\n",
    "                drop_cols.append(col.values[0])\n",
    "\n",
    "    # Drop one of each pair of correlated columns\n",
    "    drops = set(drop_cols)\n",
    "    x = x.drop(columns = drops)\n",
    "\n",
    "    \n",
    "    # Add the score back in to the data\n",
    "    x['stroke'] = y\n",
    "               \n",
    "    return x"
   ]
  },
  {
   "cell_type": "code",
   "execution_count": 20,
   "metadata": {},
   "outputs": [
    {
     "name": "stderr",
     "output_type": "stream",
     "text": [
      "C:\\Users\\Ismahfaris\\Anaconda3\\lib\\site-packages\\ipykernel_launcher.py:33: RuntimeWarning: invalid value encountered in greater_equal\n"
     ]
    }
   ],
   "source": [
    "# Remove the collinear features above a specified correlation coefficient\n",
    "train_df = remove_collinear_features(train_df, 0.6);"
   ]
  },
  {
   "cell_type": "code",
   "execution_count": 21,
   "metadata": {
    "scrolled": false
   },
   "outputs": [
    {
     "name": "stdout",
     "output_type": "stream",
     "text": [
      "<class 'pandas.core.frame.DataFrame'>\n",
      "Int64Index: 26040 entries, 24106 to 32793\n",
      "Data columns (total 21 columns):\n",
      "id                                26040 non-null int64\n",
      "age                               26040 non-null float64\n",
      "hypertension                      26040 non-null int64\n",
      "heart_disease                     26040 non-null int64\n",
      "avg_glucose_level                 26040 non-null float64\n",
      "bmi                               25119 non-null float64\n",
      "log_hypertension                  26040 non-null float64\n",
      "log_heart_disease                 26040 non-null float64\n",
      "gender_Female                     26040 non-null uint8\n",
      "gender_Male                       26040 non-null uint8\n",
      "gender_Other                      26040 non-null uint8\n",
      "work_type_Govt_job                26040 non-null uint8\n",
      "work_type_Never_worked            26040 non-null uint8\n",
      "work_type_Private                 26040 non-null uint8\n",
      "work_type_Self-employed           26040 non-null uint8\n",
      "Residence_type_Rural              26040 non-null uint8\n",
      "Residence_type_Urban              26040 non-null uint8\n",
      "smoking_status_formerly smoked    26040 non-null uint8\n",
      "smoking_status_never smoked       26040 non-null uint8\n",
      "smoking_status_smokes             26040 non-null uint8\n",
      "stroke                            26040 non-null int64\n",
      "dtypes: float64(5), int64(4), uint8(12)\n",
      "memory usage: 2.3 MB\n"
     ]
    }
   ],
   "source": [
    "# Remove any columns with all na values\n",
    "train_df  = train_df.dropna(axis=1, how = 'all')\n",
    "train_df.info()"
   ]
  },
  {
   "cell_type": "code",
   "execution_count": 22,
   "metadata": {},
   "outputs": [
    {
     "name": "stdout",
     "output_type": "stream",
     "text": [
      "<class 'pandas.core.frame.DataFrame'>\n",
      "Int64Index: 26040 entries, 24106 to 32793\n",
      "Data columns (total 21 columns):\n",
      "id                                26040 non-null int64\n",
      "age                               26040 non-null float64\n",
      "hypertension                      26040 non-null int64\n",
      "heart_disease                     26040 non-null int64\n",
      "avg_glucose_level                 26040 non-null float64\n",
      "bmi                               25119 non-null float64\n",
      "log_hypertension                  26040 non-null float64\n",
      "log_heart_disease                 26040 non-null float64\n",
      "gender_Female                     26040 non-null uint8\n",
      "gender_Male                       26040 non-null uint8\n",
      "gender_Other                      26040 non-null uint8\n",
      "work_type_Govt_job                26040 non-null uint8\n",
      "work_type_Never_worked            26040 non-null uint8\n",
      "work_type_Private                 26040 non-null uint8\n",
      "work_type_Self-employed           26040 non-null uint8\n",
      "Residence_type_Rural              26040 non-null uint8\n",
      "Residence_type_Urban              26040 non-null uint8\n",
      "smoking_status_formerly smoked    26040 non-null uint8\n",
      "smoking_status_never smoked       26040 non-null uint8\n",
      "smoking_status_smokes             26040 non-null uint8\n",
      "stroke                            26040 non-null int64\n",
      "dtypes: float64(5), int64(4), uint8(12)\n",
      "memory usage: 2.3 MB\n"
     ]
    }
   ],
   "source": [
    "train_df.info()"
   ]
  },
  {
   "cell_type": "markdown",
   "metadata": {},
   "source": [
    "## Split into Training & Test Set"
   ]
  },
  {
   "cell_type": "code",
   "execution_count": 23,
   "metadata": {},
   "outputs": [
    {
     "name": "stdout",
     "output_type": "stream",
     "text": [
      "(0, 21)\n",
      "(26040, 21)\n"
     ]
    }
   ],
   "source": [
    "# Extract the buildings with no score and the buildings with a score\n",
    "no_score = train_df[train_df['stroke'].isna()]\n",
    "score = train_df[train_df['stroke'].notnull()]\n",
    "\n",
    "print(no_score.shape)\n",
    "print(score.shape)"
   ]
  },
  {
   "cell_type": "code",
   "execution_count": 24,
   "metadata": {},
   "outputs": [
    {
     "name": "stdout",
     "output_type": "stream",
     "text": [
      "(13020, 20)\n",
      "(13020, 20)\n",
      "(13020, 1)\n",
      "(13020, 1)\n"
     ]
    }
   ],
   "source": [
    "# Separate out the features and targets\n",
    "features = score.drop(columns='stroke')\n",
    "targets = pd.DataFrame(score['stroke'])\n",
    "\n",
    "# Replace the inf and -inf with nan (required for later imputation)\n",
    "features = features.replace({np.inf: np.nan, -np.inf: np.nan})\n",
    "\n",
    "# Split into 70% training and 30% testing set\n",
    "X, X_test, y, y_test = train_test_split(features, targets, test_size = 0.5, random_state = 42)\n",
    "\n",
    "print(X.shape)\n",
    "print(X_test.shape)\n",
    "print(y.shape)\n",
    "print(y_test.shape)"
   ]
  },
  {
   "cell_type": "markdown",
   "metadata": {},
   "source": [
    "# Machine Learning Modeling\n",
    "\n",
    "Once feature engineering/construction is done, we can get started with the machine learning! All of our data (both training and testing) is aggregated for each household and so can be directly used in a model. To first show the process of modeling, we'll use the capable Random Forest Classifier in Scikit-Learn. This probably won't get us to the top of the leaderboard, but it will allow us to establish a baseline. Later we'll try several other models including the powerful Gradient Boosting Machine.\n",
    "\n",
    "To assess our model, we'll use 10-fold cross validation on the training data. This will essentially _train and test the model 10 times_ using different splits of the training data. 10-fold cross validation is an effective method for estimating the performance of a model on the test set. We want to look at the average performance in cross validation as well as the standard deviation to see how much scores change between the folds. We use the `F1 Macro` measure to evaluate performance."
   ]
  },
  {
   "cell_type": "code",
   "execution_count": 25,
   "metadata": {},
   "outputs": [],
   "source": [
    "from sklearn.ensemble import RandomForestClassifier\n",
    "from sklearn.metrics import f1_score, make_scorer\n",
    "from sklearn.model_selection import cross_val_score\n",
    "from sklearn.preprocessing import Imputer\n",
    "from sklearn.preprocessing import MinMaxScaler\n",
    "from sklearn.pipeline import Pipeline\n",
    "\n",
    "# Custom scorer for cross validation\n",
    "scorer = make_scorer(f1_score, greater_is_better=True, average = 'macro')"
   ]
  },
  {
   "cell_type": "code",
   "execution_count": 26,
   "metadata": {},
   "outputs": [
    {
     "name": "stdout",
     "output_type": "stream",
     "text": [
      "Training Feature Size:  (13020, 20)\n",
      "Testing Feature Size:   (13020, 20)\n",
      "Training Labels Size:   (13020, 1)\n",
      "Testing Labels Size:    (13020, 1)\n"
     ]
    }
   ],
   "source": [
    "# Save the no scores\n",
    "#no_score.to_csv('data/no_score.csv', index = False)\n",
    "\n",
    "#Give training, and testing data more recognizable names\n",
    "train_features = X\n",
    "test_features = X_test\n",
    "train_labels = y\n",
    "test_labels = y_test\n",
    "\n",
    "# Display sizes of data\n",
    "print('Training Feature Size: ', train_features.shape)\n",
    "print('Testing Feature Size:  ', test_features.shape)\n",
    "print('Training Labels Size:  ', train_labels.shape)\n",
    "print('Testing Labels Size:   ', test_labels.shape)"
   ]
  },
  {
   "cell_type": "code",
   "execution_count": 27,
   "metadata": {},
   "outputs": [
    {
     "name": "stderr",
     "output_type": "stream",
     "text": [
      "C:\\Users\\Ismahfaris\\Anaconda3\\lib\\site-packages\\sklearn\\utils\\deprecation.py:66: DeprecationWarning: Class Imputer is deprecated; Imputer was deprecated in version 0.20 and will be removed in 0.22. Import impute.SimpleImputer from sklearn instead.\n",
      "  warnings.warn(msg, category=DeprecationWarning)\n"
     ]
    }
   ],
   "source": [
    "features = list(train_features.columns)\n",
    "\n",
    "pipeline = Pipeline([('imputer', Imputer(strategy = 'median')), \n",
    "                      ('scaler', MinMaxScaler())])\n",
    "\n",
    "# Fit and transform training data\n",
    "train_features = pipeline.fit_transform(train_features)\n",
    "test_features = pipeline.transform(test_features)"
   ]
  },
  {
   "cell_type": "code",
   "execution_count": null,
   "metadata": {},
   "outputs": [],
   "source": [
    "model = RandomForestClassifier(n_estimators=100, random_state=10, \n",
    "                               n_jobs = -1)\n",
    "# 10 fold cross validation\n",
    "cv_score = cross_val_score(model, train_features, train_labels.values.ravel(), cv = 10, scoring = scorer)\n",
    "\n",
    "print(f'10 Fold Cross Validation Score = {round(cv_score.mean(), 4)} with std = {round(cv_score.std(), 4)}')"
   ]
  },
  {
   "cell_type": "code",
   "execution_count": null,
   "metadata": {},
   "outputs": [],
   "source": [
    "model.fit(train_features, train_labels.values.ravel())\n",
    "\n",
    "# Feature importances into a dataframe\n",
    "feature_importances = pd.DataFrame({'feature': features, 'importance': model.feature_importances_})\n",
    "feature_importances.head()"
   ]
  },
  {
   "cell_type": "code",
   "execution_count": null,
   "metadata": {},
   "outputs": [],
   "source": [
    "def plot_feature_importances(df, n = 10, threshold = None):\n",
    "    \"\"\"Plots n most important features. Also plots the cumulative importance if\n",
    "    threshold is specified and prints the number of features needed to reach threshold cumulative importance.\n",
    "    Intended for use with any tree-based feature importances. \n",
    "    \n",
    "    Args:\n",
    "        df (dataframe): Dataframe of feature importances. Columns must be \"feature\" and \"importance\".\n",
    "    \n",
    "        n (int): Number of most important features to plot. Default is 15.\n",
    "    \n",
    "        threshold (float): Threshold for cumulative importance plot. If not provided, no plot is made. Default is None.\n",
    "        \n",
    "    Returns:\n",
    "        df (dataframe): Dataframe ordered by feature importances with a normalized column (sums to 1) \n",
    "                        and a cumulative importance column\n",
    "    \n",
    "    Note:\n",
    "    \n",
    "        * Normalization in this case means sums to 1. \n",
    "        * Cumulative importance is calculated by summing features from most to least important\n",
    "        * A threshold of 0.9 will show the most important features needed to reach 90% of cumulative importance\n",
    "    \n",
    "    \"\"\"\n",
    "    plt.style.use('fivethirtyeight')\n",
    "    \n",
    "    # Sort features with most important at the head\n",
    "    df = df.sort_values('importance', ascending = False).reset_index(drop = True)\n",
    "    \n",
    "    # Normalize the feature importances to add up to one and calculate cumulative importance\n",
    "    df['importance_normalized'] = df['importance'] / df['importance'].sum()\n",
    "    df['cumulative_importance'] = np.cumsum(df['importance_normalized'])\n",
    "    \n",
    "    plt.rcParams['font.size'] = 12\n",
    "    \n",
    "    # Bar plot of n most important features\n",
    "    df.loc[:n, :].plot.barh(y = 'importance_normalized', \n",
    "                            x = 'feature', color = 'darkgreen', \n",
    "                            edgecolor = 'k', figsize = (12, 8),\n",
    "                            legend = False, linewidth = 2)\n",
    "\n",
    "    plt.xlabel('Normalized Importance', size = 18); plt.ylabel(''); \n",
    "    plt.title(f'{n} Most Important Features', size = 18)\n",
    "    plt.gca().invert_yaxis()\n",
    "    \n",
    "    \n",
    "    if threshold:\n",
    "        # Cumulative importance plot\n",
    "        plt.figure(figsize = (8, 6))\n",
    "        plt.plot(list(range(len(df))), df['cumulative_importance'], 'b-')\n",
    "        plt.xlabel('Number of Features', size = 16); plt.ylabel('Cumulative Importance', size = 16); \n",
    "        plt.title('Cumulative Feature Importance', size = 18);\n",
    "        \n",
    "        # Number of features needed for threshold cumulative importance\n",
    "        # This is the index (will need to add 1 for the actual number)\n",
    "        importance_index = np.min(np.where(df['cumulative_importance'] > threshold))\n",
    "        \n",
    "        # Add vertical line to plot\n",
    "        plt.vlines(importance_index + 1, ymin = 0, ymax = 1.05, linestyles = '--', colors = 'red')\n",
    "        plt.show();\n",
    "        \n",
    "        print('{} features required for {:.0f}% of cumulative importance.'.format(importance_index + 1, \n",
    "                                                                                  100 * threshold))\n",
    "    \n",
    "    return df"
   ]
  },
  {
   "cell_type": "code",
   "execution_count": null,
   "metadata": {},
   "outputs": [],
   "source": [
    "norm_fi = plot_feature_importances(feature_importances, threshold=0.95)"
   ]
  },
  {
   "cell_type": "code",
   "execution_count": null,
   "metadata": {},
   "outputs": [],
   "source": [
    "# Model imports\n",
    "from sklearn.svm import LinearSVC\n",
    "from sklearn.naive_bayes import GaussianNB\n",
    "from sklearn.neural_network import MLPClassifier\n",
    "from sklearn.linear_model import LogisticRegressionCV, RidgeClassifierCV\n",
    "from sklearn.discriminant_analysis import LinearDiscriminantAnalysis\n",
    "from sklearn.neighbors import KNeighborsClassifier"
   ]
  },
  {
   "cell_type": "code",
   "execution_count": null,
   "metadata": {},
   "outputs": [],
   "source": [
    "import warnings \n",
    "from sklearn.exceptions import ConvergenceWarning\n",
    "\n",
    "# Filter out warnings from models\n",
    "warnings.filterwarnings('ignore', category = ConvergenceWarning)\n",
    "warnings.filterwarnings('ignore', category = DeprecationWarning)\n",
    "warnings.filterwarnings('ignore', category = UserWarning)\n",
    "\n",
    "# Dataframe to hold results\n",
    "model_results = pd.DataFrame(columns = ['model', 'cv_mean', 'cv_std'])\n",
    "\n",
    "def cv_model(train, train_labels, model, name, model_results=None):\n",
    "    \"\"\"Perform 10 fold cross validation of a model\"\"\"\n",
    "    \n",
    "    cv_scores = cross_val_score(model, train, train_labels.values.ravel(), cv = 10, scoring=scorer, n_jobs = -1)\n",
    "    print(f'10 Fold CV Score: {round(cv_scores.mean(), 5)} with std: {round(cv_scores.std(), 5)}')\n",
    "    \n",
    "    if model_results is not None:\n",
    "        model_results = model_results.append(pd.DataFrame({'model': name, \n",
    "                                                           'cv_mean': cv_scores.mean(), \n",
    "                                                            'cv_std': cv_scores.std()},\n",
    "                                                           index = [0]),\n",
    "                                             ignore_index = True)\n",
    "\n",
    "        return model_results"
   ]
  },
  {
   "cell_type": "code",
   "execution_count": null,
   "metadata": {},
   "outputs": [],
   "source": [
    "model_results = cv_model(train_features, train_labels, LinearSVC(), \n",
    "                         'LSVC', model_results)"
   ]
  },
  {
   "cell_type": "code",
   "execution_count": null,
   "metadata": {},
   "outputs": [],
   "source": [
    "model_results = cv_model(train_features, train_labels, \n",
    "                         GaussianNB(), 'GNB', model_results)"
   ]
  },
  {
   "cell_type": "code",
   "execution_count": null,
   "metadata": {},
   "outputs": [],
   "source": [
    "model_results = cv_model(train_features, train_labels, \n",
    "                         MLPClassifier(hidden_layer_sizes=(32, 64, 128, 64, 32)),\n",
    "                         'MLP', model_results)"
   ]
  },
  {
   "cell_type": "code",
   "execution_count": null,
   "metadata": {},
   "outputs": [],
   "source": [
    "model_results = cv_model(train_features, train_labels, \n",
    "                          LinearDiscriminantAnalysis(), \n",
    "                          'LDA', model_results)"
   ]
  },
  {
   "cell_type": "code",
   "execution_count": null,
   "metadata": {},
   "outputs": [],
   "source": [
    "model_results = cv_model(train_features, train_labels, \n",
    "                         RidgeClassifierCV(), 'RIDGE', model_results)"
   ]
  },
  {
   "cell_type": "code",
   "execution_count": null,
   "metadata": {},
   "outputs": [],
   "source": [
    "for n in [5, 10, 20]:\n",
    "    print(f'\\nKNN with {n} neighbors\\n')\n",
    "    model_results = cv_model(train_features, train_labels, \n",
    "                             KNeighborsClassifier(n_neighbors = n),\n",
    "                             f'knn-{n}', model_results)"
   ]
  },
  {
   "cell_type": "code",
   "execution_count": null,
   "metadata": {},
   "outputs": [],
   "source": [
    "from sklearn.ensemble import ExtraTreesClassifier\n",
    "\n",
    "model_results = cv_model(train_features, train_labels, \n",
    "                         ExtraTreesClassifier(n_estimators = 100, random_state = 10),\n",
    "                         'EXT', model_results)"
   ]
  },
  {
   "cell_type": "markdown",
   "metadata": {},
   "source": [
    "## Comparing Model Performance"
   ]
  },
  {
   "cell_type": "code",
   "execution_count": null,
   "metadata": {},
   "outputs": [],
   "source": [
    "model_results = cv_model(train_features, train_labels,\n",
    "                          RandomForestClassifier(100, random_state=10),\n",
    "                              'RF', model_results)"
   ]
  },
  {
   "cell_type": "code",
   "execution_count": null,
   "metadata": {},
   "outputs": [],
   "source": [
    "model_results.set_index('model', inplace = True)\n",
    "model_results['cv_mean'].plot.bar(color = 'orange', figsize = (8, 6),\n",
    "                                  yerr = list(model_results['cv_std']),\n",
    "                                  edgecolor = 'k', linewidth = 2)\n",
    "plt.title('Model F1 Score Results');\n",
    "plt.ylabel('Mean F1 Score (with error bar)');\n",
    "model_results.reset_index(inplace = True)"
   ]
  },
  {
   "cell_type": "markdown",
   "metadata": {},
   "source": [
    "# Upgrading Our Model: Gradient Boosting Machine\n",
    "\n",
    "\n",
    "### Choosing Number of Estimators with Early Stopping\n",
    "\n",
    "To choose the number of estimators (the number of decision trees in the ensemble, called `n_estimators` or `num_boost_rounds`), we'll use early stopping with 5-fold cross validation. This will keep adding estimators until the performance as measured by the Macro F1 Score has not increased for 100 training rounds. To use this metric, we'll have to define a custom metric."
   ]
  },
  {
   "cell_type": "code",
   "execution_count": null,
   "metadata": {},
   "outputs": [],
   "source": [
    "def macro_f1_score(labels, predictions):\n",
    "    # Reshape the predictions as needed\n",
    "    predictions = predictions.reshape(len(np.unique(labels)), -1 ).argmax(axis = 0)\n",
    "    \n",
    "    metric_value = f1_score(labels, predictions, average = 'macro')\n",
    "    \n",
    "    # Return is name, value, is_higher_better\n",
    "    return 'macro_f1', metric_value, True"
   ]
  },
  {
   "cell_type": "markdown",
   "metadata": {},
   "source": [
    "# Light Gradient Boosting Machine Implementation\n",
    "\n",
    "The function below implements training the gradient boosting machine with Stratified Kfold cross validation and early stopping to prevent overfitting to the training data (although this can still occur). The function performs training with cross validation and records the predictions in probability for each fold. To see how this works, we can return the predictions from each fold and then we'll return a submission to upload to the competition.\n",
    "\n",
    "Choosing hyperparameters for the Gradient Boosting Machine can be tough and generally is done through model optimization. In this notebook, we'll use a set of hyperparameters that I've found work well on previous problems (although they will not necessarily translate to this competition). \n",
    "\n",
    "We set the `n_estimators` to 10000 but we won't actually reach this number because we are using early stopping which will quit training estimators when the cross validation metric does not improve for `early_stopping_rounds`. There's a lot going on in this function, and read through it carefully to make sure you have it all! I've tried to make the comments and code straightforward. (The `display` is used to show custom information during training in combination with `%%capture` so we don't have to see all the LightGBM information during training)."
   ]
  },
  {
   "cell_type": "code",
   "execution_count": null,
   "metadata": {},
   "outputs": [],
   "source": [
    "import sys\n",
    "#!{sys.executable} -m pip install lightgbm"
   ]
  },
  {
   "cell_type": "code",
   "execution_count": null,
   "metadata": {
    "scrolled": false
   },
   "outputs": [],
   "source": [
    "from sklearn.model_selection import StratifiedKFold\n",
    "import lightgbm as lgb\n",
    "from IPython.display import display\n",
    "#\n",
    "# Create the LightGBM data containers\n",
    "#\n",
    "#categorical_features = [c for c, col in enumerate(train.columns) if 'cat' in col]\n",
    "train_data = lgb.Dataset(train_features, label=train_labels)\n",
    "test_data = lgb.Dataset(test_features, label=test_labels)\n",
    "\n",
    "\n",
    "#\n",
    "# Train the model\n",
    "#\n",
    "\n",
    "parameters = {\n",
    "    'application': 'binary',\n",
    "    'objective': 'binary',\n",
    "    'metric': 'auc',\n",
    "    'is_unbalance': 'true',\n",
    "    'boosting': 'gbdt',\n",
    "    'num_leaves': 31,\n",
    "    'feature_fraction': 0.5,\n",
    "    'bagging_fraction': 0.5,\n",
    "    'bagging_freq': 20,\n",
    "    'learning_rate': 0.05,\n",
    "    'verbose': 200\n",
    "}\n",
    "\n",
    "model = lgb.train(parameters,\n",
    "                       train_data,\n",
    "                       valid_sets=test_data,\n",
    "                       num_boost_round=5000,\n",
    "                       early_stopping_rounds=100)\n"
   ]
  },
  {
   "cell_type": "markdown",
   "metadata": {},
   "source": [
    "### Cross Validation with Early Stopping Notes\n",
    "\n",
    "Cross validation with early stopping is one of the most effective methods for preventing overfitting on the training set because it prevents us from continuing to add model complexity once it is clear that validation scores are not improving. Repeating this process across multiple folds helps to reduce the bias that comes from using a single fold. Early stopping also lets us train the model much quicker. Overall, __early stopping with cross validation__ is the best method to select the number of estimators in the Gradient Boosting Machine and should be our default technique when we desig an implementation."
   ]
  },
  {
   "cell_type": "code",
   "execution_count": null,
   "metadata": {},
   "outputs": [],
   "source": [
    "cv_results = lgb.cv(\n",
    "        parameters,\n",
    "        train_data,\n",
    "        num_boost_round=100,\n",
    "        metrics =\"auc\",\n",
    "        nfold=10,\n",
    "        early_stopping_rounds=10,\n",
    "\n",
    "        # This is what I added\n",
    "        stratified=False\n",
    "        )\n",
    "\n",
    "print(cv_results)"
   ]
  },
  {
   "cell_type": "markdown",
   "metadata": {},
   "source": [
    "The power of the Gradient Boosting Machine can be seen here! The cross validation score blows away anything we've done previously. \n",
    "\n",
    "Let's take a look at the predictions to understand what is going on with the predictions in each fold."
   ]
  },
  {
   "cell_type": "code",
   "execution_count": null,
   "metadata": {},
   "outputs": [],
   "source": [
    "ypred = model.predict(test_features)\n",
    "# show the inputs and predicted outputs\n",
    "for i in range(20):\n",
    "\tprint(\"X=%s, Predicted=%s\" % (test_features[i], ypred[i]))"
   ]
  },
  {
   "cell_type": "markdown",
   "metadata": {},
   "source": [
    "## Conclusion"
   ]
  },
  {
   "cell_type": "markdown",
   "metadata": {},
   "source": [
    "So what does it mean?\n"
   ]
  }
 ],
 "metadata": {
  "kernelspec": {
   "display_name": "Python 3",
   "language": "python",
   "name": "python3"
  },
  "language_info": {
   "codemirror_mode": {
    "name": "ipython",
    "version": 3
   },
   "file_extension": ".py",
   "mimetype": "text/x-python",
   "name": "python",
   "nbconvert_exporter": "python",
   "pygments_lexer": "ipython3",
   "version": "3.7.4"
  }
 },
 "nbformat": 4,
 "nbformat_minor": 2
}
