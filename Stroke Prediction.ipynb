{
 "cells": [
  {
   "cell_type": "markdown",
   "metadata": {},
   "source": [
    "# Project on Stroke Prediction"
   ]
  },
  {
   "cell_type": "markdown",
   "metadata": {},
   "source": [
    "## Machine Learning Workflow\n",
    "\n",
    "Although the exact implementation details can vary, the general structure of a machine learning project stays relatively constant:\n",
    "\n",
    "    1) Data cleaning and formatting\n",
    "    2) Exploratory data analysis\n",
    "    3) Feature engineering and selection\n",
    "    4) Establish a baseline and compare several machine learning models on a performance metric\n",
    "    5) Perform hyperparameter tuning on the best model to optimize it for the problem\n",
    "    6) Evaluate the best model on the testing set\n",
    "    7) Interpret the model results to the extent possible\n",
    "    8) Draw conclusions and write a well-documented report"
   ]
  },
  {
   "cell_type": "markdown",
   "metadata": {},
   "source": [
    "# Import\n",
    "We will use the standard data science and machine learning libraries: numpy, pandas, and scikit-learn. We also use matplotlib and seaborn for visualization."
   ]
  },
  {
   "cell_type": "code",
   "execution_count": 1,
   "metadata": {},
   "outputs": [],
   "source": [
    "# Pandas and numpy for data manipulation\n",
    "import pandas as pd\n",
    "import numpy as np\n",
    "\n",
    "# No warnings about setting value on copy of slice, i.e. no annoying pink boxes\n",
    "pd.options.mode.chained_assignment = None\n",
    "\n",
    "# Display up to 60 columns of a dataframe\n",
    "pd.set_option('display.max_columns', 60)\n",
    "\n",
    "# Matplotlib visualization\n",
    "import matplotlib.pyplot as plt\n",
    "%matplotlib inline\n",
    "\n",
    "# Set default font size\n",
    "plt.rcParams['font.size'] = 24\n",
    "\n",
    "# Internal ipython tool for setting figure size\n",
    "from IPython.core.pylabtools import figsize\n",
    "\n",
    "# Seaborn for visualization\n",
    "import seaborn as sns\n",
    "sns.set(font_scale = 2)\n",
    "\n",
    "# Splitting data into training and testing\n",
    "from sklearn.model_selection import train_test_split"
   ]
  },
  {
   "cell_type": "markdown",
   "metadata": {},
   "source": [
    "# Data Cleaning and Formatting\n",
    "\n",
    "## Load in the Data and Examine\n",
    "\n",
    "We will be loading our data into a pandas dataframe, one of the most useful data structures for data science. Think of it as a spreadsheet within Python that we can easily manipulate, clean, and visualize. [Pandas has many methods](http://pandas.pydata.org/pandas-docs/stable/) to help make the data science/machine learning pipeline as smooth as possible."
   ]
  },
  {
   "cell_type": "code",
   "execution_count": 2,
   "metadata": {},
   "outputs": [
    {
     "data": {
      "text/html": [
       "<div>\n",
       "<style scoped>\n",
       "    .dataframe tbody tr th:only-of-type {\n",
       "        vertical-align: middle;\n",
       "    }\n",
       "\n",
       "    .dataframe tbody tr th {\n",
       "        vertical-align: top;\n",
       "    }\n",
       "\n",
       "    .dataframe thead th {\n",
       "        text-align: right;\n",
       "    }\n",
       "</style>\n",
       "<table border=\"1\" class=\"dataframe\">\n",
       "  <thead>\n",
       "    <tr style=\"text-align: right;\">\n",
       "      <th></th>\n",
       "      <th>id</th>\n",
       "      <th>gender</th>\n",
       "      <th>age</th>\n",
       "      <th>hypertension</th>\n",
       "      <th>heart_disease</th>\n",
       "      <th>ever_married</th>\n",
       "      <th>work_type</th>\n",
       "      <th>Residence_type</th>\n",
       "      <th>avg_glucose_level</th>\n",
       "      <th>bmi</th>\n",
       "      <th>smoking_status</th>\n",
       "      <th>stroke</th>\n",
       "    </tr>\n",
       "  </thead>\n",
       "  <tbody>\n",
       "    <tr>\n",
       "      <td>16101</td>\n",
       "      <td>23646</td>\n",
       "      <td>Female</td>\n",
       "      <td>34.0</td>\n",
       "      <td>0</td>\n",
       "      <td>0</td>\n",
       "      <td>Yes</td>\n",
       "      <td>Govt_job</td>\n",
       "      <td>Urban</td>\n",
       "      <td>101.40</td>\n",
       "      <td>19.7</td>\n",
       "      <td>never smoked</td>\n",
       "      <td>0</td>\n",
       "    </tr>\n",
       "    <tr>\n",
       "      <td>2432</td>\n",
       "      <td>30145</td>\n",
       "      <td>Female</td>\n",
       "      <td>62.0</td>\n",
       "      <td>0</td>\n",
       "      <td>0</td>\n",
       "      <td>Yes</td>\n",
       "      <td>Private</td>\n",
       "      <td>Rural</td>\n",
       "      <td>72.19</td>\n",
       "      <td>22.4</td>\n",
       "      <td>NaN</td>\n",
       "      <td>0</td>\n",
       "    </tr>\n",
       "    <tr>\n",
       "      <td>22603</td>\n",
       "      <td>72507</td>\n",
       "      <td>Female</td>\n",
       "      <td>58.0</td>\n",
       "      <td>1</td>\n",
       "      <td>0</td>\n",
       "      <td>Yes</td>\n",
       "      <td>Self-employed</td>\n",
       "      <td>Urban</td>\n",
       "      <td>74.45</td>\n",
       "      <td>32.9</td>\n",
       "      <td>formerly smoked</td>\n",
       "      <td>0</td>\n",
       "    </tr>\n",
       "    <tr>\n",
       "      <td>6599</td>\n",
       "      <td>55781</td>\n",
       "      <td>Female</td>\n",
       "      <td>82.0</td>\n",
       "      <td>1</td>\n",
       "      <td>1</td>\n",
       "      <td>Yes</td>\n",
       "      <td>Self-employed</td>\n",
       "      <td>Rural</td>\n",
       "      <td>129.63</td>\n",
       "      <td>26.4</td>\n",
       "      <td>never smoked</td>\n",
       "      <td>0</td>\n",
       "    </tr>\n",
       "    <tr>\n",
       "      <td>29750</td>\n",
       "      <td>62197</td>\n",
       "      <td>Female</td>\n",
       "      <td>5.0</td>\n",
       "      <td>0</td>\n",
       "      <td>0</td>\n",
       "      <td>No</td>\n",
       "      <td>children</td>\n",
       "      <td>Rural</td>\n",
       "      <td>97.42</td>\n",
       "      <td>17.7</td>\n",
       "      <td>NaN</td>\n",
       "      <td>0</td>\n",
       "    </tr>\n",
       "  </tbody>\n",
       "</table>\n",
       "</div>"
      ],
      "text/plain": [
       "          id  gender   age  hypertension  heart_disease ever_married  \\\n",
       "16101  23646  Female  34.0             0              0          Yes   \n",
       "2432   30145  Female  62.0             0              0          Yes   \n",
       "22603  72507  Female  58.0             1              0          Yes   \n",
       "6599   55781  Female  82.0             1              1          Yes   \n",
       "29750  62197  Female   5.0             0              0           No   \n",
       "\n",
       "           work_type Residence_type  avg_glucose_level   bmi   smoking_status  \\\n",
       "16101       Govt_job          Urban             101.40  19.7     never smoked   \n",
       "2432         Private          Rural              72.19  22.4              NaN   \n",
       "22603  Self-employed          Urban              74.45  32.9  formerly smoked   \n",
       "6599   Self-employed          Rural             129.63  26.4     never smoked   \n",
       "29750       children          Rural              97.42  17.7              NaN   \n",
       "\n",
       "       stroke  \n",
       "16101       0  \n",
       "2432        0  \n",
       "22603       0  \n",
       "6599        0  \n",
       "29750       0  "
      ]
     },
     "execution_count": 2,
     "metadata": {},
     "output_type": "execute_result"
    }
   ],
   "source": [
    "# Read in data into a dataframe \n",
    "train_df = pd.read_csv('train_2v.csv')\n",
    "test_df = pd.read_csv('test_2v.csv')\n",
    "\n",
    "# Because data is huge, for purpose of practice, will reduce it to 20% sample of the whole population for the time being.\n",
    "train_df = train_df.sample(frac=0.6, replace=True)\n",
    "\n",
    "# Display top of dataframe\n",
    "train_df.head()"
   ]
  },
  {
   "cell_type": "code",
   "execution_count": 3,
   "metadata": {},
   "outputs": [
    {
     "name": "stdout",
     "output_type": "stream",
     "text": [
      "<class 'pandas.core.frame.DataFrame'>\n",
      "Int64Index: 26040 entries, 16101 to 14522\n",
      "Data columns (total 12 columns):\n",
      "id                   26040 non-null int64\n",
      "gender               26040 non-null object\n",
      "age                  26040 non-null float64\n",
      "hypertension         26040 non-null int64\n",
      "heart_disease        26040 non-null int64\n",
      "ever_married         26040 non-null object\n",
      "work_type            26040 non-null object\n",
      "Residence_type       26040 non-null object\n",
      "avg_glucose_level    26040 non-null float64\n",
      "bmi                  25091 non-null float64\n",
      "smoking_status       18035 non-null object\n",
      "stroke               26040 non-null int64\n",
      "dtypes: float64(3), int64(4), object(5)\n",
      "memory usage: 2.6+ MB\n"
     ]
    }
   ],
   "source": [
    "train_df.info()"
   ]
  },
  {
   "cell_type": "markdown",
   "metadata": {},
   "source": [
    "Let's take a look to see if there are missing data in this dataframe set for Stroke"
   ]
  },
  {
   "cell_type": "code",
   "execution_count": 4,
   "metadata": {},
   "outputs": [],
   "source": [
    "# Function to calculate missing values by column\n",
    "def missing_values_table(df):\n",
    "        # Total missing values\n",
    "        mis_val = df.isnull().sum()\n",
    "        \n",
    "        # Percentage of missing values\n",
    "        mis_val_percent = 100 * df.isnull().sum() / len(df)\n",
    "        \n",
    "        # Make a table with the results\n",
    "        mis_val_table = pd.concat([mis_val, mis_val_percent], axis=1)\n",
    "        \n",
    "        # Rename the columns\n",
    "        mis_val_table_ren_columns = mis_val_table.rename(\n",
    "        columns = {0 : 'Missing Values', 1 : '% of Total Values'})\n",
    "        \n",
    "        # Sort the table by percentage of missing descending\n",
    "        mis_val_table_ren_columns = mis_val_table_ren_columns[\n",
    "            mis_val_table_ren_columns.iloc[:,1] != 0].sort_values(\n",
    "        '% of Total Values', ascending=False).round(1)\n",
    "        \n",
    "        # Print some summary information\n",
    "        print (\"Your selected dataframe has \" + str(df.shape[1]) + \" columns.\\n\"      \n",
    "            \"There are \" + str(mis_val_table_ren_columns.shape[0]) +\n",
    "              \" columns that have missing values.\")\n",
    "        \n",
    "        # Return the dataframe with missing information\n",
    "        return mis_val_table_ren_columns"
   ]
  },
  {
   "cell_type": "code",
   "execution_count": 5,
   "metadata": {},
   "outputs": [
    {
     "name": "stdout",
     "output_type": "stream",
     "text": [
      "Your selected dataframe has 12 columns.\n",
      "There are 2 columns that have missing values.\n"
     ]
    },
    {
     "data": {
      "text/html": [
       "<div>\n",
       "<style scoped>\n",
       "    .dataframe tbody tr th:only-of-type {\n",
       "        vertical-align: middle;\n",
       "    }\n",
       "\n",
       "    .dataframe tbody tr th {\n",
       "        vertical-align: top;\n",
       "    }\n",
       "\n",
       "    .dataframe thead th {\n",
       "        text-align: right;\n",
       "    }\n",
       "</style>\n",
       "<table border=\"1\" class=\"dataframe\">\n",
       "  <thead>\n",
       "    <tr style=\"text-align: right;\">\n",
       "      <th></th>\n",
       "      <th>Missing Values</th>\n",
       "      <th>% of Total Values</th>\n",
       "    </tr>\n",
       "  </thead>\n",
       "  <tbody>\n",
       "    <tr>\n",
       "      <td>smoking_status</td>\n",
       "      <td>8005</td>\n",
       "      <td>30.7</td>\n",
       "    </tr>\n",
       "    <tr>\n",
       "      <td>bmi</td>\n",
       "      <td>949</td>\n",
       "      <td>3.6</td>\n",
       "    </tr>\n",
       "  </tbody>\n",
       "</table>\n",
       "</div>"
      ],
      "text/plain": [
       "                Missing Values  % of Total Values\n",
       "smoking_status            8005               30.7\n",
       "bmi                        949                3.6"
      ]
     },
     "execution_count": 5,
     "metadata": {},
     "output_type": "execute_result"
    }
   ],
   "source": [
    "missing_values_table(train_df)"
   ]
  },
  {
   "cell_type": "markdown",
   "metadata": {},
   "source": [
    "# Exploratory Data Analysis"
   ]
  },
  {
   "cell_type": "code",
   "execution_count": 6,
   "metadata": {},
   "outputs": [],
   "source": [
    "train_df_stroke = train_df.loc[train_df['stroke'] == 1]\n",
    "sns.set(style=\"ticks\")"
   ]
  },
  {
   "cell_type": "code",
   "execution_count": 7,
   "metadata": {},
   "outputs": [],
   "source": [
    "numerical = [\n",
    "  'age', 'bmi', 'avg_glucose_level'\n",
    "]\n",
    "categorical = [\n",
    "  'gender', 'hypertension', 'heart_disease', 'ever_married', 'work_type', 'Residence_type', 'smoking_status'\n",
    "]"
   ]
  },
  {
   "cell_type": "code",
   "execution_count": 8,
   "metadata": {
    "scrolled": true
   },
   "outputs": [
    {
     "data": {
      "image/png": "[encoded data removed]",
      "text/plain": [
       "<Figure size 1440x720 with 8 Axes>"
      ]
     },
     "metadata": {},
     "output_type": "display_data"
    }
   ],
   "source": [
    "train_df_stroke[numerical].hist(bins=15, figsize=(20, 10), layout=(2, 4));"
   ]
  },
  {
   "cell_type": "markdown",
   "metadata": {},
   "source": [
    "For the numerical data columns theres a few deductions can make by looking at the counts.\n",
    "1. Chances of stroke is higher for people reaching the age of late 70s to their 80s.\n",
    "2. Number of people with stroke is higher for those who seem to have average glucose level that is within the [permitted range](https://www.webmd.com/diabetes/qa/what-are-normal-blood-sugar-levels). \n",
    "3. Those whose BMI were at the higher end of 20s seem to be more susceptible to getting stroke."
   ]
  },
  {
   "cell_type": "code",
   "execution_count": 9,
   "metadata": {},
   "outputs": [
    {
     "data": {
      "image/png": "[encoded data removed]",
      "text/plain": [
       "<Figure size 1296x720 with 8 Axes>"
      ]
     },
     "metadata": {},
     "output_type": "display_data"
    }
   ],
   "source": [
    "fig, ax = plt.subplots(2, 4, figsize=(18, 10))\n",
    "for variable, subplot in zip(categorical, ax.flatten()):\n",
    "    sns.countplot(train_df_stroke[variable], ax=subplot)\n",
    "    for label in subplot.get_xticklabels():\n",
    "        label.set_rotation(90)"
   ]
  },
  {
   "cell_type": "markdown",
   "metadata": {},
   "source": [
    "If we look at the count of victims with stroke for each feature, the likely stroke victim seems to be one who is Female, Urban, Private, never smoke, married. Each of this feature seems to have an impact on the prediction one whether the person may have stroke. Some deductions like not smoking goes against some of our assumptions. One would have thought that smoking would likely lead you to have stroke in comparison to a non-smoker. So lets take a look at each of them further. We begin by doing a quantitative and categorical summary anaysis for the features."
   ]
  },
  {
   "cell_type": "code",
   "execution_count": 10,
   "metadata": {},
   "outputs": [],
   "source": [
    "def quantitative_summarized(dataframe, x=None, y=None, hue=None, palette='Set1', ax=None, verbose=True, swarm=False):\n",
    "    '''\n",
    "    Helper function that gives a quick summary of quantattive data\n",
    "    Arguments\n",
    "    =========\n",
    "    dataframe: pandas dataframe\n",
    "    x: str. horizontal axis to plot the labels of categorical data (usually the target variable)\n",
    "    y: str. vertical axis to plot the quantitative data\n",
    "    hue: str. if you want to compare it another categorical variable (usually the target variable if x is another variable)\n",
    "    palette: array-like. Colour of the plot\n",
    "    swarm: if swarm is set to True, a swarm plot would be overlayed\n",
    "    Returns\n",
    "    =======\n",
    "    Quick Stats of the data and also the box plot of the distribution\n",
    "    '''\n",
    "    series = dataframe[y]\n",
    "    print(series.describe())\n",
    "    print('mode: ', series.mode())\n",
    "    if verbose:\n",
    "        print('='*80)\n",
    "        print(series.value_counts())\n",
    "\n",
    "    sns.boxplot(x=x, y=y, hue=hue, data=dataframe, palette=palette, ax=ax)\n",
    "\n",
    "    if swarm:\n",
    "        sns.swarmplot(x=x, y=y, hue=hue, data=dataframe,\n",
    "                      palette=palette, ax=ax)\n",
    "\n",
    "    plt.show()"
   ]
  },
  {
   "cell_type": "code",
   "execution_count": 11,
   "metadata": {},
   "outputs": [],
   "source": [
    "def categorical_summarized(dataframe, x=None, y=None, hue=None, palette='Set1', verbose=True):\n",
    "    '''\n",
    "    Helper function that gives a quick summary of a given column of categorical data\n",
    "    Arguments\n",
    "    =========\n",
    "    dataframe: pandas dataframe\n",
    "    x: str. horizontal axis to plot the labels of categorical data, y would be the count\n",
    "    y: str. vertical axis to plot the labels of categorical data, x would be the count\n",
    "    hue: str. if you want to compare it another variable (usually the target variable)\n",
    "    palette: array-like. Colour of the plot\n",
    "    Returns\n",
    "    =======\n",
    "    Quick Stats of the data and also the count plot\n",
    "    '''\n",
    "    if x == None:\n",
    "        column_interested = y\n",
    "    else:\n",
    "        column_interested = x\n",
    "    series = dataframe[column_interested]\n",
    "    print(series.describe())\n",
    "    print('mode: ', series.mode())\n",
    "    if verbose:\n",
    "        print('='*80)\n",
    "        print(series.value_counts())\n",
    "\n",
    "    sns.countplot(x=x, y=y, hue=hue, data=dataframe, palette=palette)\n",
    "    plt.show()\n"
   ]
  },
  {
   "cell_type": "code",
   "execution_count": 12,
   "metadata": {},
   "outputs": [],
   "source": [
    "c_palette = ['tab:blue', 'tab:orange']"
   ]
  },
  {
   "cell_type": "code",
   "execution_count": 13,
   "metadata": {},
   "outputs": [
    {
     "name": "stdout",
     "output_type": "stream",
     "text": [
      "count    466.000000\n",
      "mean      67.086524\n",
      "std       12.430138\n",
      "min        1.320000\n",
      "25%       59.000000\n",
      "50%       69.000000\n",
      "75%       78.000000\n",
      "max       82.000000\n",
      "Name: age, dtype: float64\n",
      "mode:  0    79.0\n",
      "dtype: float64\n"
     ]
    },
    {
     "data": {
      "image/png": "[encoded data removed]",
      "text/plain": [
       "<Figure size 432x288 with 1 Axes>"
      ]
     },
     "metadata": {},
     "output_type": "display_data"
    }
   ],
   "source": [
    "#Bivariate Analysis with target variable\n",
    "quantitative_summarized(dataframe= train_df_stroke, y = 'age', x = 'gender', palette=c_palette, verbose=False, swarm=True)"
   ]
  },
  {
   "cell_type": "markdown",
   "metadata": {},
   "source": [
    "From the data we can see that the average age of people with stroke seem to be in their late 60s to 70s for both Males & Females. Females were likely to be a stroke victim at an older age among the 2 genders. It seems to me that gender may play a part in predicting stroke. Lets now take a look at smoking status of our data set. I'll be setting the hue to include gender to see if we can see any insights and relationship between gender and smoking status for our stroke victims."
   ]
  },
  {
   "cell_type": "code",
   "execution_count": 14,
   "metadata": {},
   "outputs": [
    {
     "data": {
      "image/png": "[encoded data removed]",
      "text/plain": [
       "<Figure size 436.35x360 with 1 Axes>"
      ]
     },
     "metadata": {},
     "output_type": "display_data"
    }
   ],
   "source": [
    "sns.catplot(x=\"smoking_status\", y=\"age\", hue=\"gender\", kind=\"swarm\", data=train_df_stroke);"
   ]
  },
  {
   "cell_type": "markdown",
   "metadata": {},
   "source": [
    "Based on the graph we can agree that our assumptions still hold that smoking does have an impact on stroke, in particular age. We can see that for the smoke category, age seems to have a wider spread. We can deduce that smoking does result in people getting stroke at a younger age in comparison to those that never smoke or formerly smoked. Lets take a look further at hypertension and age as a factor of stroke. We will carry out a multivariate analysis below on these variable factors. "
   ]
  },
  {
   "cell_type": "code",
   "execution_count": 15,
   "metadata": {},
   "outputs": [
    {
     "name": "stdout",
     "output_type": "stream",
     "text": [
      "count    466.000000\n",
      "mean      67.086524\n",
      "std       12.430138\n",
      "min        1.320000\n",
      "25%       59.000000\n",
      "50%       69.000000\n",
      "75%       78.000000\n",
      "max       82.000000\n",
      "Name: age, dtype: float64\n",
      "mode:  0    79.0\n",
      "dtype: float64\n"
     ]
    },
    {
     "data": {
      "image/png": "[encoded data removed]",
      "text/plain": [
       "<Figure size 432x288 with 1 Axes>"
      ]
     },
     "metadata": {},
     "output_type": "display_data"
    }
   ],
   "source": [
    "# multivariate analysis with Embarked variable and Pclass variable\n",
    "quantitative_summarized(dataframe= train_df_stroke, y = 'age', x = 'stroke', hue = 'hypertension', palette=c_palette, verbose=False, swarm=False)\n"
   ]
  },
  {
   "cell_type": "markdown",
   "metadata": {},
   "source": [
    "Surprisingly stroke victims were more likely to be older if they actually had hypertension. This may actually seem counter intuitive but I believe this could be due to the fact that people who have hypertension were more likely to be on medication to control their blood pressure. This could possible be a factor that helped those with hypertension to prolong their health before falling to stroke at a later age."
   ]
  },
  {
   "cell_type": "markdown",
   "metadata": {},
   "source": [
    "I also decided to create a jointplot between bmi & age for stroke data to see if they have any related relationship. From the jointplot below, we can see that there is no clear cut linear relationship. Nevertheless there is a possibility that BMI & age can help us predict if one were to have stroke."
   ]
  },
  {
   "cell_type": "code",
   "execution_count": 16,
   "metadata": {},
   "outputs": [
    {
     "data": {
      "image/png": "[encoded data removed]",
      "text/plain": [
       "<Figure size 432x432 with 3 Axes>"
      ]
     },
     "metadata": {},
     "output_type": "display_data"
    }
   ],
   "source": [
    "sns.jointplot(x=train_df_stroke['bmi'], y=train_df_stroke['age']);"
   ]
  },
  {
   "cell_type": "markdown",
   "metadata": {},
   "source": [
    "# Feature Engineering & Selection"
   ]
  },
  {
   "cell_type": "markdown",
   "metadata": {},
   "source": [
    "## One Hot Encoding for Categorical Variables"
   ]
  },
  {
   "cell_type": "code",
   "execution_count": 17,
   "metadata": {},
   "outputs": [
    {
     "name": "stderr",
     "output_type": "stream",
     "text": [
      "C:\\Users\\Ismahfaris\\Anaconda3\\lib\\site-packages\\pandas\\core\\series.py:853: RuntimeWarning: divide by zero encountered in log\n",
      "  result = getattr(ufunc, method)(*inputs, **kwargs)\n"
     ]
    },
    {
     "data": {
      "text/plain": [
       "(26040, 28)"
      ]
     },
     "execution_count": 17,
     "metadata": {},
     "output_type": "execute_result"
    }
   ],
   "source": [
    "# PENDING CODE FOR ONE HOT ENCODING\n",
    "\n",
    "# Select the numeric columns\n",
    "numeric_subset = train_df.select_dtypes('number')\n",
    "\n",
    "# Create columns with log of numeric columns\n",
    "for col in numeric_subset.columns:\n",
    "    # Skip the target column\n",
    "    if col == 'stroke':\n",
    "        next\n",
    "    else:\n",
    "        numeric_subset['log_' + col] = np.log(numeric_subset[col])\n",
    "        \n",
    "# Select the categorical columns\n",
    "categorical_subset = train_df[['gender','ever_married','work_type','Residence_type','smoking_status']]\n",
    "\n",
    "# One hot encode\n",
    "categorical_subset = pd.get_dummies(categorical_subset)\n",
    "\n",
    "# Join the two dataframes using concat\n",
    "# Make sure to use axis = 1 to perform a column bind\n",
    "train_df = pd.concat([numeric_subset, categorical_subset], axis = 1)\n",
    "\n",
    "train_df.shape"
   ]
  },
  {
   "cell_type": "markdown",
   "metadata": {},
   "source": [
    "\n",
    "## Remove Collinear Features\n",
    "\n",
    "Since I mentioned about linear relationships, I think its good to highlight that highly [collinear features](http://psychologicalstatistics.blogspot.com/2013/11/multicollinearity-and-collinearity-in.html) have a significant correlation coefficent between them. Thus, to opmitimize our models, we should look to remove any of the collinear features. "
   ]
  },
  {
   "cell_type": "code",
   "execution_count": 18,
   "metadata": {},
   "outputs": [],
   "source": [
    "def remove_collinear_features(x, threshold):\n",
    "    '''\n",
    "    Objective:\n",
    "        Remove collinear features in a dataframe with a correlation coefficient\n",
    "        greater than the threshold. Removing collinear features can help a model\n",
    "        to generalize and improves the interpretability of the model.\n",
    "        \n",
    "    Inputs: \n",
    "        threshold: any features with correlations greater than this value are removed\n",
    "    \n",
    "    Output: \n",
    "        dataframe that contains only the non-highly-collinear features\n",
    "    '''\n",
    "    \n",
    "    # Dont want to remove correlations between Score\n",
    "    y = x['stroke']\n",
    "    x = x.drop(columns = ['stroke'])\n",
    "    \n",
    "    # Calculate the correlation matrix\n",
    "    corr_matrix = x.corr()\n",
    "    iters = range(len(corr_matrix.columns) - 1)\n",
    "    drop_cols = []\n",
    "    \n",
    "    # Iterate through the correlation matrix and compare correlations\n",
    "    for i in iters:\n",
    "        for j in range(i):\n",
    "            item = corr_matrix.iloc[j:(j+1), (i+1):(i+2)]\n",
    "            col = item.columns\n",
    "            row = item.index\n",
    "            val = abs(item.values)\n",
    "            \n",
    "            # If correlation exceeds the threshold\n",
    "            if val >= threshold:\n",
    "                # Print the correlated features and the correlation value\n",
    "                # print(col.values[0], \"|\", row.values[0], \"|\", round(val[0][0], 2))\n",
    "                drop_cols.append(col.values[0])\n",
    "\n",
    "    # Drop one of each pair of correlated columns\n",
    "    drops = set(drop_cols)\n",
    "    x = x.drop(columns = drops)\n",
    "\n",
    "    \n",
    "    # Add the score back in to the data\n",
    "    x['stroke'] = y\n",
    "               \n",
    "    return x"
   ]
  },
  {
   "cell_type": "code",
   "execution_count": 19,
   "metadata": {},
   "outputs": [
    {
     "name": "stderr",
     "output_type": "stream",
     "text": [
      "C:\\Users\\Ismahfaris\\Anaconda3\\lib\\site-packages\\ipykernel_launcher.py:33: RuntimeWarning: invalid value encountered in greater_equal\n"
     ]
    }
   ],
   "source": [
    "# Remove the collinear features above a specified correlation coefficient\n",
    "train_df = remove_collinear_features(train_df, 0.6);"
   ]
  },
  {
   "cell_type": "code",
   "execution_count": 20,
   "metadata": {
    "scrolled": false
   },
   "outputs": [
    {
     "name": "stdout",
     "output_type": "stream",
     "text": [
      "<class 'pandas.core.frame.DataFrame'>\n",
      "Int64Index: 26040 entries, 16101 to 14522\n",
      "Data columns (total 21 columns):\n",
      "id                                26040 non-null int64\n",
      "age                               26040 non-null float64\n",
      "hypertension                      26040 non-null int64\n",
      "heart_disease                     26040 non-null int64\n",
      "avg_glucose_level                 26040 non-null float64\n",
      "bmi                               25091 non-null float64\n",
      "log_hypertension                  26040 non-null float64\n",
      "log_heart_disease                 26040 non-null float64\n",
      "gender_Female                     26040 non-null uint8\n",
      "gender_Male                       26040 non-null uint8\n",
      "gender_Other                      26040 non-null uint8\n",
      "work_type_Govt_job                26040 non-null uint8\n",
      "work_type_Never_worked            26040 non-null uint8\n",
      "work_type_Private                 26040 non-null uint8\n",
      "work_type_Self-employed           26040 non-null uint8\n",
      "Residence_type_Rural              26040 non-null uint8\n",
      "Residence_type_Urban              26040 non-null uint8\n",
      "smoking_status_formerly smoked    26040 non-null uint8\n",
      "smoking_status_never smoked       26040 non-null uint8\n",
      "smoking_status_smokes             26040 non-null uint8\n",
      "stroke                            26040 non-null int64\n",
      "dtypes: float64(5), int64(4), uint8(12)\n",
      "memory usage: 2.3 MB\n"
     ]
    }
   ],
   "source": [
    "# Remove any columns with all na values\n",
    "train_df  = train_df.dropna(axis=1, how = 'all')\n",
    "train_df.info()"
   ]
  },
  {
   "cell_type": "code",
   "execution_count": 21,
   "metadata": {},
   "outputs": [
    {
     "name": "stdout",
     "output_type": "stream",
     "text": [
      "<class 'pandas.core.frame.DataFrame'>\n",
      "Int64Index: 26040 entries, 16101 to 14522\n",
      "Data columns (total 21 columns):\n",
      "id                                26040 non-null int64\n",
      "age                               26040 non-null float64\n",
      "hypertension                      26040 non-null int64\n",
      "heart_disease                     26040 non-null int64\n",
      "avg_glucose_level                 26040 non-null float64\n",
      "bmi                               25091 non-null float64\n",
      "log_hypertension                  26040 non-null float64\n",
      "log_heart_disease                 26040 non-null float64\n",
      "gender_Female                     26040 non-null uint8\n",
      "gender_Male                       26040 non-null uint8\n",
      "gender_Other                      26040 non-null uint8\n",
      "work_type_Govt_job                26040 non-null uint8\n",
      "work_type_Never_worked            26040 non-null uint8\n",
      "work_type_Private                 26040 non-null uint8\n",
      "work_type_Self-employed           26040 non-null uint8\n",
      "Residence_type_Rural              26040 non-null uint8\n",
      "Residence_type_Urban              26040 non-null uint8\n",
      "smoking_status_formerly smoked    26040 non-null uint8\n",
      "smoking_status_never smoked       26040 non-null uint8\n",
      "smoking_status_smokes             26040 non-null uint8\n",
      "stroke                            26040 non-null int64\n",
      "dtypes: float64(5), int64(4), uint8(12)\n",
      "memory usage: 2.3 MB\n"
     ]
    }
   ],
   "source": [
    "train_df.info()"
   ]
  },
  {
   "cell_type": "markdown",
   "metadata": {},
   "source": [
    "## Split into Training & Test Set"
   ]
  },
  {
   "cell_type": "code",
   "execution_count": 22,
   "metadata": {},
   "outputs": [
    {
     "name": "stdout",
     "output_type": "stream",
     "text": [
      "(0, 21)\n",
      "(26040, 21)\n"
     ]
    }
   ],
   "source": [
    "# Extract the buildings with no score and the buildings with a score\n",
    "no_score = train_df[train_df['stroke'].isna()]\n",
    "score = train_df[train_df['stroke'].notnull()]\n",
    "\n",
    "print(no_score.shape)\n",
    "print(score.shape)"
   ]
  },
  {
   "cell_type": "code",
   "execution_count": 23,
   "metadata": {},
   "outputs": [
    {
     "name": "stdout",
     "output_type": "stream",
     "text": [
      "(13020, 20)\n",
      "(13020, 20)\n",
      "(13020, 1)\n",
      "(13020, 1)\n"
     ]
    }
   ],
   "source": [
    "# Separate out the features and targets\n",
    "features = score.drop(columns='stroke')\n",
    "targets = pd.DataFrame(score['stroke'])\n",
    "\n",
    "# Replace the inf and -inf with nan (required for later imputation)\n",
    "features = features.replace({np.inf: np.nan, -np.inf: np.nan})\n",
    "\n",
    "# Split into 70% training and 30% testing set\n",
    "X, X_test, y, y_test = train_test_split(features, targets, test_size = 0.5, random_state = 42)\n",
    "\n",
    "print(X.shape)\n",
    "print(X_test.shape)\n",
    "print(y.shape)\n",
    "print(y_test.shape)"
   ]
  },
  {
   "cell_type": "markdown",
   "metadata": {},
   "source": [
    "# Machine Learning Modeling\n",
    "\n",
    "Once feature engineering/construction is done, we can get started with the machine learning! All of our data (both training and testing) is aggregated for each household and so can be directly used in a model. To first show the process of modeling, we'll use the capable Random Forest Classifier in Scikit-Learn. This probably won't get us to the top of the leaderboard, but it will allow us to establish a baseline. Later we'll try several other models including the powerful Gradient Boosting Machine.\n",
    "\n",
    "To assess our model, we'll use 10-fold cross validation on the training data. This will essentially _train and test the model 10 times_ using different splits of the training data. 10-fold cross validation is an effective method for estimating the performance of a model on the test set. We want to look at the average performance in cross validation as well as the standard deviation to see how much scores change between the folds. We use the `F1 Macro` measure to evaluate performance."
   ]
  },
  {
   "cell_type": "code",
   "execution_count": 24,
   "metadata": {},
   "outputs": [],
   "source": [
    "from sklearn.ensemble import RandomForestClassifier\n",
    "from sklearn.metrics import f1_score, make_scorer\n",
    "from sklearn.model_selection import cross_val_score\n",
    "from sklearn.preprocessing import Imputer\n",
    "from sklearn.preprocessing import MinMaxScaler\n",
    "from sklearn.pipeline import Pipeline\n",
    "\n",
    "# Custom scorer for cross validation\n",
    "scorer = make_scorer(f1_score, greater_is_better=True, average = 'macro')"
   ]
  },
  {
   "cell_type": "code",
   "execution_count": 25,
   "metadata": {},
   "outputs": [
    {
     "name": "stdout",
     "output_type": "stream",
     "text": [
      "Training Feature Size:  (13020, 20)\n",
      "Testing Feature Size:   (13020, 20)\n",
      "Training Labels Size:   (13020, 1)\n",
      "Testing Labels Size:    (13020, 1)\n"
     ]
    }
   ],
   "source": [
    "# Save the no scores\n",
    "#no_score.to_csv('data/no_score.csv', index = False)\n",
    "\n",
    "#Give training, and testing data more recognizable names\n",
    "train_features = X\n",
    "test_features = X_test\n",
    "train_labels = y\n",
    "test_labels = y_test\n",
    "\n",
    "# Display sizes of data\n",
    "print('Training Feature Size: ', train_features.shape)\n",
    "print('Testing Feature Size:  ', test_features.shape)\n",
    "print('Training Labels Size:  ', train_labels.shape)\n",
    "print('Testing Labels Size:   ', test_labels.shape)"
   ]
  },
  {
   "cell_type": "code",
   "execution_count": 26,
   "metadata": {},
   "outputs": [
    {
     "name": "stderr",
     "output_type": "stream",
     "text": [
      "C:\\Users\\Ismahfaris\\Anaconda3\\lib\\site-packages\\sklearn\\utils\\deprecation.py:66: DeprecationWarning: Class Imputer is deprecated; Imputer was deprecated in version 0.20 and will be removed in 0.22. Import impute.SimpleImputer from sklearn instead.\n",
      "  warnings.warn(msg, category=DeprecationWarning)\n"
     ]
    }
   ],
   "source": [
    "features = list(train_features.columns)\n",
    "\n",
    "pipeline = Pipeline([('imputer', Imputer(strategy = 'median')), \n",
    "                      ('scaler', MinMaxScaler())])\n",
    "\n",
    "# Fit and transform training data\n",
    "train_features = pipeline.fit_transform(train_features)\n",
    "test_features = pipeline.transform(test_features)"
   ]
  },
  {
   "cell_type": "code",
   "execution_count": 27,
   "metadata": {},
   "outputs": [
    {
     "name": "stdout",
     "output_type": "stream",
     "text": [
      "10 Fold Cross Validation Score = 0.707 with std = 0.0414\n"
     ]
    }
   ],
   "source": [
    "model = RandomForestClassifier(n_estimators=100, random_state=10, \n",
    "                               n_jobs = -1)\n",
    "# 10 fold cross validation\n",
    "cv_score = cross_val_score(model, train_features, train_labels.values.ravel(), cv = 10, scoring = scorer)\n",
    "\n",
    "print(f'10 Fold Cross Validation Score = {round(cv_score.mean(), 4)} with std = {round(cv_score.std(), 4)}')"
   ]
  },
  {
   "cell_type": "code",
   "execution_count": 28,
   "metadata": {},
   "outputs": [
    {
     "data": {
      "text/html": [
       "<div>\n",
       "<style scoped>\n",
       "    .dataframe tbody tr th:only-of-type {\n",
       "        vertical-align: middle;\n",
       "    }\n",
       "\n",
       "    .dataframe tbody tr th {\n",
       "        vertical-align: top;\n",
       "    }\n",
       "\n",
       "    .dataframe thead th {\n",
       "        text-align: right;\n",
       "    }\n",
       "</style>\n",
       "<table border=\"1\" class=\"dataframe\">\n",
       "  <thead>\n",
       "    <tr style=\"text-align: right;\">\n",
       "      <th></th>\n",
       "      <th>feature</th>\n",
       "      <th>importance</th>\n",
       "    </tr>\n",
       "  </thead>\n",
       "  <tbody>\n",
       "    <tr>\n",
       "      <td>0</td>\n",
       "      <td>id</td>\n",
       "      <td>0.226972</td>\n",
       "    </tr>\n",
       "    <tr>\n",
       "      <td>1</td>\n",
       "      <td>age</td>\n",
       "      <td>0.174044</td>\n",
       "    </tr>\n",
       "    <tr>\n",
       "      <td>2</td>\n",
       "      <td>hypertension</td>\n",
       "      <td>0.020229</td>\n",
       "    </tr>\n",
       "    <tr>\n",
       "      <td>3</td>\n",
       "      <td>heart_disease</td>\n",
       "      <td>0.018877</td>\n",
       "    </tr>\n",
       "    <tr>\n",
       "      <td>4</td>\n",
       "      <td>avg_glucose_level</td>\n",
       "      <td>0.226687</td>\n",
       "    </tr>\n",
       "  </tbody>\n",
       "</table>\n",
       "</div>"
      ],
      "text/plain": [
       "             feature  importance\n",
       "0                 id    0.226972\n",
       "1                age    0.174044\n",
       "2       hypertension    0.020229\n",
       "3      heart_disease    0.018877\n",
       "4  avg_glucose_level    0.226687"
      ]
     },
     "execution_count": 28,
     "metadata": {},
     "output_type": "execute_result"
    }
   ],
   "source": [
    "model.fit(train_features, train_labels.values.ravel())\n",
    "\n",
    "# Feature importances into a dataframe\n",
    "feature_importances = pd.DataFrame({'feature': features, 'importance': model.feature_importances_})\n",
    "feature_importances.head()"
   ]
  },
  {
   "cell_type": "code",
   "execution_count": 29,
   "metadata": {},
   "outputs": [],
   "source": [
    "def plot_feature_importances(df, n = 10, threshold = None):\n",
    "    \"\"\"Plots n most important features. Also plots the cumulative importance if\n",
    "    threshold is specified and prints the number of features needed to reach threshold cumulative importance.\n",
    "    Intended for use with any tree-based feature importances. \n",
    "    \n",
    "    Args:\n",
    "        df (dataframe): Dataframe of feature importances. Columns must be \"feature\" and \"importance\".\n",
    "    \n",
    "        n (int): Number of most important features to plot. Default is 15.\n",
    "    \n",
    "        threshold (float): Threshold for cumulative importance plot. If not provided, no plot is made. Default is None.\n",
    "        \n",
    "    Returns:\n",
    "        df (dataframe): Dataframe ordered by feature importances with a normalized column (sums to 1) \n",
    "                        and a cumulative importance column\n",
    "    \n",
    "    Note:\n",
    "    \n",
    "        * Normalization in this case means sums to 1. \n",
    "        * Cumulative importance is calculated by summing features from most to least important\n",
    "        * A threshold of 0.9 will show the most important features needed to reach 90% of cumulative importance\n",
    "    \n",
    "    \"\"\"\n",
    "    plt.style.use('fivethirtyeight')\n",
    "    \n",
    "    # Sort features with most important at the head\n",
    "    df = df.sort_values('importance', ascending = False).reset_index(drop = True)\n",
    "    \n",
    "    # Normalize the feature importances to add up to one and calculate cumulative importance\n",
    "    df['importance_normalized'] = df['importance'] / df['importance'].sum()\n",
    "    df['cumulative_importance'] = np.cumsum(df['importance_normalized'])\n",
    "    \n",
    "    plt.rcParams['font.size'] = 12\n",
    "    \n",
    "    # Bar plot of n most important features\n",
    "    df.loc[:n, :].plot.barh(y = 'importance_normalized', \n",
    "                            x = 'feature', color = 'darkgreen', \n",
    "                            edgecolor = 'k', figsize = (12, 8),\n",
    "                            legend = False, linewidth = 2)\n",
    "\n",
    "    plt.xlabel('Normalized Importance', size = 18); plt.ylabel(''); \n",
    "    plt.title(f'{n} Most Important Features', size = 18)\n",
    "    plt.gca().invert_yaxis()\n",
    "    \n",
    "    \n",
    "    if threshold:\n",
    "        # Cumulative importance plot\n",
    "        plt.figure(figsize = (8, 6))\n",
    "        plt.plot(list(range(len(df))), df['cumulative_importance'], 'b-')\n",
    "        plt.xlabel('Number of Features', size = 16); plt.ylabel('Cumulative Importance', size = 16); \n",
    "        plt.title('Cumulative Feature Importance', size = 18);\n",
    "        \n",
    "        # Number of features needed for threshold cumulative importance\n",
    "        # This is the index (will need to add 1 for the actual number)\n",
    "        importance_index = np.min(np.where(df['cumulative_importance'] > threshold))\n",
    "        \n",
    "        # Add vertical line to plot\n",
    "        plt.vlines(importance_index + 1, ymin = 0, ymax = 1.05, linestyles = '--', colors = 'red')\n",
    "        plt.show();\n",
    "        \n",
    "        print('{} features required for {:.0f}% of cumulative importance.'.format(importance_index + 1, \n",
    "                                                                                  100 * threshold))\n",
    "    \n",
    "    return df"
   ]
  },
  {
   "cell_type": "code",
   "execution_count": 30,
   "metadata": {},
   "outputs": [
    {
     "data": {
      "image/png": "[encoded data removed]",
      "text/plain": [
       "<Figure size 864x576 with 1 Axes>"
      ]
     },
     "metadata": {},
     "output_type": "display_data"
    },
    {
     "data": {
      "image/png": "[encoded data removed]",
      "text/plain": [
       "<Figure size 576x432 with 1 Axes>"
      ]
     },
     "metadata": {},
     "output_type": "display_data"
    },
    {
     "name": "stdout",
     "output_type": "stream",
     "text": [
      "13 features required for 95% of cumulative importance.\n"
     ]
    }
   ],
   "source": [
    "norm_fi = plot_feature_importances(feature_importances, threshold=0.95)"
   ]
  },
  {
   "cell_type": "code",
   "execution_count": 31,
   "metadata": {},
   "outputs": [],
   "source": [
    "# Model imports\n",
    "from sklearn.svm import LinearSVC\n",
    "from sklearn.naive_bayes import GaussianNB\n",
    "from sklearn.neural_network import MLPClassifier\n",
    "from sklearn.linear_model import LogisticRegressionCV, RidgeClassifierCV\n",
    "from sklearn.discriminant_analysis import LinearDiscriminantAnalysis\n",
    "from sklearn.neighbors import KNeighborsClassifier"
   ]
  },
  {
   "cell_type": "code",
   "execution_count": 32,
   "metadata": {},
   "outputs": [],
   "source": [
    "import warnings \n",
    "from sklearn.exceptions import ConvergenceWarning\n",
    "\n",
    "# Filter out warnings from models\n",
    "warnings.filterwarnings('ignore', category = ConvergenceWarning)\n",
    "warnings.filterwarnings('ignore', category = DeprecationWarning)\n",
    "warnings.filterwarnings('ignore', category = UserWarning)\n",
    "\n",
    "# Dataframe to hold results\n",
    "model_results = pd.DataFrame(columns = ['model', 'cv_mean', 'cv_std'])\n",
    "\n",
    "def cv_model(train, train_labels, model, name, model_results=None):\n",
    "    \"\"\"Perform 10 fold cross validation of a model\"\"\"\n",
    "    \n",
    "    cv_scores = cross_val_score(model, train, train_labels.values.ravel(), cv = 10, scoring=scorer, n_jobs = -1)\n",
    "    print(f'10 Fold CV Score: {round(cv_scores.mean(), 5)} with std: {round(cv_scores.std(), 5)}')\n",
    "    \n",
    "    if model_results is not None:\n",
    "        model_results = model_results.append(pd.DataFrame({'model': name, \n",
    "                                                           'cv_mean': cv_scores.mean(), \n",
    "                                                            'cv_std': cv_scores.std()},\n",
    "                                                           index = [0]),\n",
    "                                             ignore_index = True)\n",
    "\n",
    "        return model_results"
   ]
  },
  {
   "cell_type": "code",
   "execution_count": 33,
   "metadata": {},
   "outputs": [
    {
     "name": "stdout",
     "output_type": "stream",
     "text": [
      "10 Fold CV Score: 0.49519 with std: 8e-05\n"
     ]
    }
   ],
   "source": [
    "model_results = cv_model(train_features, train_labels, LinearSVC(), \n",
    "                         'LSVC', model_results)"
   ]
  },
  {
   "cell_type": "code",
   "execution_count": 34,
   "metadata": {},
   "outputs": [
    {
     "name": "stdout",
     "output_type": "stream",
     "text": [
      "10 Fold CV Score: 0.32875 with std: 0.00443\n"
     ]
    }
   ],
   "source": [
    "model_results = cv_model(train_features, train_labels, \n",
    "                         GaussianNB(), 'GNB', model_results)"
   ]
  },
  {
   "cell_type": "code",
   "execution_count": 35,
   "metadata": {},
   "outputs": [
    {
     "name": "stdout",
     "output_type": "stream",
     "text": [
      "10 Fold CV Score: 0.61072 with std: 0.03045\n"
     ]
    }
   ],
   "source": [
    "model_results = cv_model(train_features, train_labels, \n",
    "                         MLPClassifier(hidden_layer_sizes=(32, 64, 128, 64, 32)),\n",
    "                         'MLP', model_results)"
   ]
  },
  {
   "cell_type": "code",
   "execution_count": 36,
   "metadata": {},
   "outputs": [
    {
     "name": "stdout",
     "output_type": "stream",
     "text": [
      "10 Fold CV Score: 0.50759 with std: 0.02206\n"
     ]
    }
   ],
   "source": [
    "model_results = cv_model(train_features, train_labels, \n",
    "                          LinearDiscriminantAnalysis(), \n",
    "                          'LDA', model_results)"
   ]
  },
  {
   "cell_type": "code",
   "execution_count": 37,
   "metadata": {},
   "outputs": [
    {
     "name": "stdout",
     "output_type": "stream",
     "text": [
      "10 Fold CV Score: 0.49519 with std: 8e-05\n"
     ]
    }
   ],
   "source": [
    "model_results = cv_model(train_features, train_labels, \n",
    "                         RidgeClassifierCV(), 'RIDGE', model_results)"
   ]
  },
  {
   "cell_type": "code",
   "execution_count": 38,
   "metadata": {},
   "outputs": [
    {
     "name": "stdout",
     "output_type": "stream",
     "text": [
      "\n",
      "KNN with 5 neighbors\n",
      "\n",
      "10 Fold CV Score: 0.49488 with std: 0.0002\n",
      "\n",
      "KNN with 10 neighbors\n",
      "\n",
      "10 Fold CV Score: 0.49519 with std: 8e-05\n",
      "\n",
      "KNN with 20 neighbors\n",
      "\n",
      "10 Fold CV Score: 0.49519 with std: 8e-05\n"
     ]
    }
   ],
   "source": [
    "for n in [5, 10, 20]:\n",
    "    print(f'\\nKNN with {n} neighbors\\n')\n",
    "    model_results = cv_model(train_features, train_labels, \n",
    "                             KNeighborsClassifier(n_neighbors = n),\n",
    "                             f'knn-{n}', model_results)"
   ]
  },
  {
   "cell_type": "code",
   "execution_count": 39,
   "metadata": {},
   "outputs": [
    {
     "name": "stdout",
     "output_type": "stream",
     "text": [
      "10 Fold CV Score: 0.70985 with std: 0.03876\n"
     ]
    }
   ],
   "source": [
    "from sklearn.ensemble import ExtraTreesClassifier\n",
    "\n",
    "model_results = cv_model(train_features, train_labels, \n",
    "                         ExtraTreesClassifier(n_estimators = 100, random_state = 10),\n",
    "                         'EXT', model_results)"
   ]
  },
  {
   "cell_type": "markdown",
   "metadata": {},
   "source": [
    "## Comparing Model Performance"
   ]
  },
  {
   "cell_type": "code",
   "execution_count": 40,
   "metadata": {},
   "outputs": [
    {
     "name": "stdout",
     "output_type": "stream",
     "text": [
      "10 Fold CV Score: 0.70702 with std: 0.04136\n"
     ]
    }
   ],
   "source": [
    "model_results = cv_model(train_features, train_labels,\n",
    "                          RandomForestClassifier(100, random_state=10),\n",
    "                              'RF', model_results)"
   ]
  },
  {
   "cell_type": "code",
   "execution_count": 41,
   "metadata": {},
   "outputs": [
    {
     "data": {
      "image/png": "[encoded data removed]",
      "text/plain": [
       "<Figure size 576x432 with 1 Axes>"
      ]
     },
     "metadata": {},
     "output_type": "display_data"
    }
   ],
   "source": [
    "model_results.set_index('model', inplace = True)\n",
    "model_results['cv_mean'].plot.bar(color = 'orange', figsize = (8, 6),\n",
    "                                  yerr = list(model_results['cv_std']),\n",
    "                                  edgecolor = 'k', linewidth = 2)\n",
    "plt.title('Model F1 Score Results');\n",
    "plt.ylabel('Mean F1 Score (with error bar)');\n",
    "model_results.reset_index(inplace = True)"
   ]
  },
  {
   "cell_type": "markdown",
   "metadata": {},
   "source": [
    "# Upgrading Our Model: Gradient Boosting Machine\n",
    "\n",
    "\n",
    "### Choosing Number of Estimators with Early Stopping\n",
    "\n",
    "To choose the number of estimators (the number of decision trees in the ensemble, called `n_estimators` or `num_boost_rounds`), we'll use early stopping with 5-fold cross validation. This will keep adding estimators until the performance as measured by the Macro F1 Score has not increased for 100 training rounds. To use this metric, we'll have to define a custom metric."
   ]
  },
  {
   "cell_type": "code",
   "execution_count": 42,
   "metadata": {},
   "outputs": [],
   "source": [
    "def macro_f1_score(labels, predictions):\n",
    "    # Reshape the predictions as needed\n",
    "    predictions = predictions.reshape(len(np.unique(labels)), -1 ).argmax(axis = 0)\n",
    "    \n",
    "    metric_value = f1_score(labels, predictions, average = 'macro')\n",
    "    \n",
    "    # Return is name, value, is_higher_better\n",
    "    return 'macro_f1', metric_value, True"
   ]
  },
  {
   "cell_type": "markdown",
   "metadata": {},
   "source": [
    "# Light Gradient Boosting Machine Implementation\n",
    "\n",
    "The function below implements training the gradient boosting machine with Stratified Kfold cross validation and early stopping to prevent overfitting to the training data (although this can still occur). The function performs training with cross validation and records the predictions in probability for each fold. To see how this works, we can return the predictions from each fold and then we'll return a submission to upload to the competition.\n",
    "\n",
    "Choosing hyperparameters for the Gradient Boosting Machine can be tough and generally is done through model optimization. In this notebook, we'll use a set of hyperparameters that I've found work well on previous problems (although they will not necessarily translate to this competition). \n",
    "\n",
    "We set the `n_estimators` to 10000 but we won't actually reach this number because we are using early stopping which will quit training estimators when the cross validation metric does not improve for `early_stopping_rounds`. There's a lot going on in this function, and read through it carefully to make sure you have it all! I've tried to make the comments and code straightforward. (The `display` is used to show custom information during training in combination with `%%capture` so we don't have to see all the LightGBM information during training)."
   ]
  },
  {
   "cell_type": "code",
   "execution_count": 43,
   "metadata": {},
   "outputs": [],
   "source": [
    "import sys\n",
    "#!{sys.executable} -m pip install lightgbm"
   ]
  },
  {
   "cell_type": "code",
   "execution_count": 44,
   "metadata": {
    "scrolled": false
   },
   "outputs": [
    {
     "name": "stdout",
     "output_type": "stream",
     "text": [
      "[1]\tvalid_0's auc: 0.626593\n",
      "Training until validation scores don't improve for 100 rounds\n",
      "[2]\tvalid_0's auc: 0.721682\n",
      "[3]\tvalid_0's auc: 0.733417\n",
      "[4]\tvalid_0's auc: 0.739922\n",
      "[5]\tvalid_0's auc: 0.742335\n",
      "[6]\tvalid_0's auc: 0.763894\n",
      "[7]\tvalid_0's auc: 0.777942\n",
      "[8]\tvalid_0's auc: 0.782934\n",
      "[9]\tvalid_0's auc: 0.794622\n",
      "[10]\tvalid_0's auc: 0.802947\n",
      "[11]\tvalid_0's auc: 0.803379\n",
      "[12]\tvalid_0's auc: 0.810557\n",
      "[13]\tvalid_0's auc: 0.816706\n",
      "[14]\tvalid_0's auc: 0.8224\n",
      "[15]\tvalid_0's auc: 0.82602\n",
      "[16]\tvalid_0's auc: 0.829036\n",
      "[17]\tvalid_0's auc: 0.831381\n",
      "[18]\tvalid_0's auc: 0.834887\n",
      "[19]\tvalid_0's auc: 0.837435\n",
      "[20]\tvalid_0's auc: 0.839361\n",
      "[21]\tvalid_0's auc: 0.843083\n",
      "[22]\tvalid_0's auc: 0.845321\n",
      "[23]\tvalid_0's auc: 0.8477\n",
      "[24]\tvalid_0's auc: 0.849015\n",
      "[25]\tvalid_0's auc: 0.850822\n",
      "[26]\tvalid_0's auc: 0.853039\n",
      "[27]\tvalid_0's auc: 0.853853\n",
      "[28]\tvalid_0's auc: 0.855076\n",
      "[29]\tvalid_0's auc: 0.855975\n",
      "[30]\tvalid_0's auc: 0.855895\n",
      "[31]\tvalid_0's auc: 0.857031\n",
      "[32]\tvalid_0's auc: 0.856357\n",
      "[33]\tvalid_0's auc: 0.855958\n",
      "[34]\tvalid_0's auc: 0.8552\n",
      "[35]\tvalid_0's auc: 0.854671\n",
      "[36]\tvalid_0's auc: 0.854569\n",
      "[37]\tvalid_0's auc: 0.854326\n",
      "[38]\tvalid_0's auc: 0.854511\n",
      "[39]\tvalid_0's auc: 0.853992\n",
      "[40]\tvalid_0's auc: 0.853521\n",
      "[41]\tvalid_0's auc: 0.855398\n",
      "[42]\tvalid_0's auc: 0.855925\n",
      "[43]\tvalid_0's auc: 0.856164\n",
      "[44]\tvalid_0's auc: 0.856736\n",
      "[45]\tvalid_0's auc: 0.857494\n",
      "[46]\tvalid_0's auc: 0.85749\n",
      "[47]\tvalid_0's auc: 0.857807\n",
      "[48]\tvalid_0's auc: 0.857341\n",
      "[49]\tvalid_0's auc: 0.8574\n",
      "[50]\tvalid_0's auc: 0.856771\n",
      "[51]\tvalid_0's auc: 0.858192\n",
      "[52]\tvalid_0's auc: 0.857563\n",
      "[53]\tvalid_0's auc: 0.85701\n",
      "[54]\tvalid_0's auc: 0.857061\n",
      "[55]\tvalid_0's auc: 0.857643\n",
      "[56]\tvalid_0's auc: 0.858314\n",
      "[57]\tvalid_0's auc: 0.858297\n",
      "[58]\tvalid_0's auc: 0.858435\n",
      "[59]\tvalid_0's auc: 0.858136\n",
      "[60]\tvalid_0's auc: 0.858391\n",
      "[61]\tvalid_0's auc: 0.859235\n",
      "[62]\tvalid_0's auc: 0.858767\n",
      "[63]\tvalid_0's auc: 0.858777\n",
      "[64]\tvalid_0's auc: 0.858394\n",
      "[65]\tvalid_0's auc: 0.858452\n",
      "[66]\tvalid_0's auc: 0.858392\n",
      "[67]\tvalid_0's auc: 0.858183\n",
      "[68]\tvalid_0's auc: 0.858421\n",
      "[69]\tvalid_0's auc: 0.859481\n",
      "[70]\tvalid_0's auc: 0.859786\n",
      "[71]\tvalid_0's auc: 0.859945\n",
      "[72]\tvalid_0's auc: 0.860459\n",
      "[73]\tvalid_0's auc: 0.860561\n",
      "[74]\tvalid_0's auc: 0.86047\n",
      "[75]\tvalid_0's auc: 0.860647\n",
      "[76]\tvalid_0's auc: 0.860416\n",
      "[77]\tvalid_0's auc: 0.8611\n",
      "[78]\tvalid_0's auc: 0.861229\n",
      "[79]\tvalid_0's auc: 0.861093\n",
      "[80]\tvalid_0's auc: 0.860551\n",
      "[81]\tvalid_0's auc: 0.858592\n",
      "[82]\tvalid_0's auc: 0.859108\n",
      "[83]\tvalid_0's auc: 0.859593\n",
      "[84]\tvalid_0's auc: 0.860358\n",
      "[85]\tvalid_0's auc: 0.860387\n",
      "[86]\tvalid_0's auc: 0.860522\n",
      "[87]\tvalid_0's auc: 0.860399\n",
      "[88]\tvalid_0's auc: 0.86143\n",
      "[89]\tvalid_0's auc: 0.862135\n",
      "[90]\tvalid_0's auc: 0.862402\n",
      "[91]\tvalid_0's auc: 0.863024\n",
      "[92]\tvalid_0's auc: 0.863276\n",
      "[93]\tvalid_0's auc: 0.86327\n",
      "[94]\tvalid_0's auc: 0.862906\n",
      "[95]\tvalid_0's auc: 0.863635\n",
      "[96]\tvalid_0's auc: 0.863817\n",
      "[97]\tvalid_0's auc: 0.864031\n",
      "[98]\tvalid_0's auc: 0.86351\n",
      "[99]\tvalid_0's auc: 0.863838\n",
      "[100]\tvalid_0's auc: 0.863579\n",
      "[101]\tvalid_0's auc: 0.8653\n",
      "[102]\tvalid_0's auc: 0.866301\n",
      "[103]\tvalid_0's auc: 0.867188\n",
      "[104]\tvalid_0's auc: 0.867865\n",
      "[105]\tvalid_0's auc: 0.867825\n",
      "[106]\tvalid_0's auc: 0.868017\n",
      "[107]\tvalid_0's auc: 0.868181\n",
      "[108]\tvalid_0's auc: 0.867527\n",
      "[109]\tvalid_0's auc: 0.86767\n",
      "[110]\tvalid_0's auc: 0.867918\n",
      "[111]\tvalid_0's auc: 0.867802\n",
      "[112]\tvalid_0's auc: 0.86732\n",
      "[113]\tvalid_0's auc: 0.867055\n",
      "[114]\tvalid_0's auc: 0.866241\n",
      "[115]\tvalid_0's auc: 0.866741\n",
      "[116]\tvalid_0's auc: 0.867342\n",
      "[117]\tvalid_0's auc: 0.866924\n",
      "[118]\tvalid_0's auc: 0.866898\n",
      "[119]\tvalid_0's auc: 0.867058\n",
      "[120]\tvalid_0's auc: 0.866704\n",
      "[121]\tvalid_0's auc: 0.866386\n",
      "[122]\tvalid_0's auc: 0.867326\n",
      "[123]\tvalid_0's auc: 0.867336\n",
      "[124]\tvalid_0's auc: 0.868232\n",
      "[125]\tvalid_0's auc: 0.868139\n",
      "[126]\tvalid_0's auc: 0.868295\n",
      "[127]\tvalid_0's auc: 0.868807\n",
      "[128]\tvalid_0's auc: 0.868395\n",
      "[129]\tvalid_0's auc: 0.868367\n",
      "[130]\tvalid_0's auc: 0.868205\n",
      "[131]\tvalid_0's auc: 0.868336\n",
      "[132]\tvalid_0's auc: 0.867525\n",
      "[133]\tvalid_0's auc: 0.867657\n",
      "[134]\tvalid_0's auc: 0.867239\n",
      "[135]\tvalid_0's auc: 0.867235\n",
      "[136]\tvalid_0's auc: 0.866638\n",
      "[137]\tvalid_0's auc: 0.865883\n",
      "[138]\tvalid_0's auc: 0.865672\n",
      "[139]\tvalid_0's auc: 0.865329\n",
      "[140]\tvalid_0's auc: 0.86458\n",
      "[141]\tvalid_0's auc: 0.864371\n",
      "[142]\tvalid_0's auc: 0.864901\n",
      "[143]\tvalid_0's auc: 0.86446\n",
      "[144]\tvalid_0's auc: 0.864507\n",
      "[145]\tvalid_0's auc: 0.864402\n",
      "[146]\tvalid_0's auc: 0.86428\n",
      "[147]\tvalid_0's auc: 0.864361\n",
      "[148]\tvalid_0's auc: 0.864195\n",
      "[149]\tvalid_0's auc: 0.863731\n",
      "[150]\tvalid_0's auc: 0.864127\n",
      "[151]\tvalid_0's auc: 0.863838\n",
      "[152]\tvalid_0's auc: 0.86396\n",
      "[153]\tvalid_0's auc: 0.863726\n",
      "[154]\tvalid_0's auc: 0.863342\n",
      "[155]\tvalid_0's auc: 0.86326\n",
      "[156]\tvalid_0's auc: 0.862443\n",
      "[157]\tvalid_0's auc: 0.861963\n",
      "[158]\tvalid_0's auc: 0.861076\n",
      "[159]\tvalid_0's auc: 0.861248\n",
      "[160]\tvalid_0's auc: 0.861329\n",
      "[161]\tvalid_0's auc: 0.86078\n",
      "[162]\tvalid_0's auc: 0.860761\n",
      "[163]\tvalid_0's auc: 0.860067\n",
      "[164]\tvalid_0's auc: 0.859727\n",
      "[165]\tvalid_0's auc: 0.85958\n",
      "[166]\tvalid_0's auc: 0.859779\n",
      "[167]\tvalid_0's auc: 0.8597\n",
      "[168]\tvalid_0's auc: 0.859684\n",
      "[169]\tvalid_0's auc: 0.859939\n",
      "[170]\tvalid_0's auc: 0.85977\n",
      "[171]\tvalid_0's auc: 0.859301\n",
      "[172]\tvalid_0's auc: 0.859553\n",
      "[173]\tvalid_0's auc: 0.860006\n",
      "[174]\tvalid_0's auc: 0.859543\n",
      "[175]\tvalid_0's auc: 0.859523\n",
      "[176]\tvalid_0's auc: 0.859217\n",
      "[177]\tvalid_0's auc: 0.859604\n",
      "[178]\tvalid_0's auc: 0.85903\n",
      "[179]\tvalid_0's auc: 0.859438\n",
      "[180]\tvalid_0's auc: 0.859208\n",
      "[181]\tvalid_0's auc: 0.858672\n",
      "[182]\tvalid_0's auc: 0.858825\n",
      "[183]\tvalid_0's auc: 0.859078\n",
      "[184]\tvalid_0's auc: 0.858734\n",
      "[185]\tvalid_0's auc: 0.858811\n",
      "[186]\tvalid_0's auc: 0.859041\n",
      "[187]\tvalid_0's auc: 0.859238\n",
      "[188]\tvalid_0's auc: 0.859403\n",
      "[189]\tvalid_0's auc: 0.859808\n",
      "[190]\tvalid_0's auc: 0.859895\n",
      "[191]\tvalid_0's auc: 0.860286\n",
      "[192]\tvalid_0's auc: 0.860405\n",
      "[193]\tvalid_0's auc: 0.860367\n",
      "[194]\tvalid_0's auc: 0.860223\n",
      "[195]\tvalid_0's auc: 0.860385\n",
      "[196]\tvalid_0's auc: 0.859993\n",
      "[197]\tvalid_0's auc: 0.860199\n",
      "[198]\tvalid_0's auc: 0.859754\n",
      "[199]\tvalid_0's auc: 0.859873\n",
      "[200]\tvalid_0's auc: 0.859533\n",
      "[201]\tvalid_0's auc: 0.859656\n",
      "[202]\tvalid_0's auc: 0.860084\n",
      "[203]\tvalid_0's auc: 0.86035\n",
      "[204]\tvalid_0's auc: 0.860248\n",
      "[205]\tvalid_0's auc: 0.859939\n",
      "[206]\tvalid_0's auc: 0.860137\n",
      "[207]\tvalid_0's auc: 0.860304\n",
      "[208]\tvalid_0's auc: 0.860507\n",
      "[209]\tvalid_0's auc: 0.860601\n",
      "[210]\tvalid_0's auc: 0.860665\n",
      "[211]\tvalid_0's auc: 0.860128\n",
      "[212]\tvalid_0's auc: 0.860108\n",
      "[213]\tvalid_0's auc: 0.859732\n",
      "[214]\tvalid_0's auc: 0.85921\n",
      "[215]\tvalid_0's auc: 0.859245\n",
      "[216]\tvalid_0's auc: 0.859628\n",
      "[217]\tvalid_0's auc: 0.85986\n",
      "[218]\tvalid_0's auc: 0.859389\n",
      "[219]\tvalid_0's auc: 0.859391\n",
      "[220]\tvalid_0's auc: 0.8592\n",
      "[221]\tvalid_0's auc: 0.859184\n",
      "[222]\tvalid_0's auc: 0.859569\n",
      "[223]\tvalid_0's auc: 0.859553\n",
      "[224]\tvalid_0's auc: 0.859731\n",
      "[225]\tvalid_0's auc: 0.859775\n",
      "[226]\tvalid_0's auc: 0.859571\n",
      "[227]\tvalid_0's auc: 0.859579\n",
      "Early stopping, best iteration is:\n",
      "[127]\tvalid_0's auc: 0.868807\n"
     ]
    }
   ],
   "source": [
    "from sklearn.model_selection import StratifiedKFold\n",
    "import lightgbm as lgb\n",
    "from IPython.display import display\n",
    "#\n",
    "# Create the LightGBM data containers\n",
    "#\n",
    "#categorical_features = [c for c, col in enumerate(train.columns) if 'cat' in col]\n",
    "train_data = lgb.Dataset(train_features, label=train_labels)\n",
    "test_data = lgb.Dataset(test_features, label=test_labels)\n",
    "\n",
    "\n",
    "#\n",
    "# Train the model\n",
    "#\n",
    "\n",
    "parameters = {\n",
    "    'application': 'binary',\n",
    "    'objective': 'binary',\n",
    "    'metric': 'auc',\n",
    "    'is_unbalance': 'true',\n",
    "    'boosting': 'gbdt',\n",
    "    'num_leaves': 31,\n",
    "    'feature_fraction': 0.5,\n",
    "    'bagging_fraction': 0.5,\n",
    "    'bagging_freq': 20,\n",
    "    'learning_rate': 0.05,\n",
    "    'verbose': 200\n",
    "}\n",
    "\n",
    "model = lgb.train(parameters,\n",
    "                       train_data,\n",
    "                       valid_sets=test_data,\n",
    "                       num_boost_round=5000,\n",
    "                       early_stopping_rounds=100)\n"
   ]
  },
  {
   "cell_type": "markdown",
   "metadata": {},
   "source": [
    "### Cross Validation with Early Stopping Notes\n",
    "\n",
    "Cross validation with early stopping is one of the most effective methods for preventing overfitting on the training set because it prevents us from continuing to add model complexity once it is clear that validation scores are not improving. Repeating this process across multiple folds helps to reduce the bias that comes from using a single fold. Early stopping also lets us train the model much quicker. Overall, __early stopping with cross validation__ is the best method to select the number of estimators in the Gradient Boosting Machine and should be our default technique when we desig an implementation."
   ]
  },
  {
   "cell_type": "code",
   "execution_count": 45,
   "metadata": {},
   "outputs": [
    {
     "name": "stdout",
     "output_type": "stream",
     "text": [
      "{'auc-mean': [0.5985214739770508, 0.6682275345332693, 0.6763317628885661, 0.6865163223464796, 0.6864549949856096, 0.7072156239432101, 0.7199887661157404, 0.7252891932132072, 0.7358603241243691, 0.7455243065687969, 0.7485031658910062, 0.7541806511035235, 0.7588193226389677, 0.7620381797215747, 0.7662630576551337, 0.7711790695833606, 0.7749675335360067, 0.7783945844669982, 0.7797182675354558, 0.7808383041868436, 0.7918552631173024, 0.7989378686747397, 0.8055031527416746, 0.8082857628729648, 0.8118830713851295, 0.814274535327324, 0.8174783526602096, 0.8204053442549185, 0.8225594552764933, 0.8228454430503234, 0.8235728321257338, 0.8241129618432878, 0.8245954180899228, 0.8249399976412581, 0.8261091320581533, 0.826832084902502, 0.8268998117220357, 0.8288643460581648, 0.8289441915887737, 0.8288683794015987, 0.8291427578861466, 0.8308677556862518, 0.8330327892572112, 0.833756389822662, 0.8350696534089529, 0.8360043327341489, 0.8365663787312014, 0.8367284712299335, 0.8375029596795068, 0.8370202825046725, 0.8381788838072779, 0.8389735821165528, 0.8386106718368602, 0.8390494800123134, 0.8396897434007083, 0.8405412572106451, 0.8412203154649246, 0.8414201213558101, 0.8415890733155662, 0.8418486133484393, 0.8408068171563684, 0.8410688665470856, 0.841853975775288, 0.8419115703200761, 0.8412012704297096, 0.8414137756412143, 0.841097621575417, 0.8416240242307401, 0.8426210177633713, 0.8433506538308381, 0.843615101894976, 0.8445025722270778, 0.8452191355432868, 0.845649529107931, 0.8461512861606849, 0.8463620400326107, 0.8466916160823846, 0.8466913092658691, 0.8471311364743143, 0.847001526956101, 0.8464994558045218, 0.8465695932855448, 0.8476696789422002, 0.8480462243153382, 0.8476740152763013, 0.8480640534582445, 0.8477928289988013, 0.8475439440554192, 0.8479083042442715, 0.8479553068807645, 0.8481695402483954, 0.8482779724533216, 0.8479743999024372, 0.8477549771688769, 0.8482047019379758, 0.8483009084285934], 'auc-stdv': [0.06676037597535545, 0.049916406859520215, 0.05169534449350052, 0.05256540178769978, 0.054153982891601234, 0.05045823695328448, 0.052577815514234155, 0.052126088389501245, 0.048324705647123455, 0.045368696593570706, 0.044171596950767736, 0.042858638981116984, 0.04277049189461815, 0.043905699675033334, 0.0435661758814886, 0.04520546527162469, 0.04522196970584271, 0.045537339364669915, 0.04528282724866847, 0.04602575361644553, 0.04261123289757052, 0.040324014530384505, 0.03637491447413159, 0.03446570379727559, 0.032987789085781045, 0.033277555437124406, 0.03263052260074188, 0.031490782310819934, 0.030923224323018143, 0.030268695666156985, 0.030698751666933102, 0.030114826703088484, 0.0301690168560357, 0.029227708849427877, 0.028878351909029414, 0.02914177261765717, 0.02910633413262226, 0.029062305396284936, 0.02970008832854507, 0.029622090621665934, 0.029201855211276755, 0.03012787305492844, 0.030340290289220955, 0.029721392114828132, 0.02955136380915409, 0.02935333497764494, 0.02942965572182649, 0.029022116541822653, 0.02910536431395969, 0.029578572504351364, 0.02932650006993443, 0.02896357920770608, 0.02891367299313404, 0.029192125249982794, 0.028888497045335085, 0.02947304115336066, 0.02953344685295279, 0.029112939890249375, 0.02893945053672175, 0.029019760957003985, 0.02801365419395235, 0.02767123254441299, 0.02692891984356287, 0.026446454864067492, 0.026845287870829394, 0.027067252254580176, 0.026986652199385598, 0.027015578285723808, 0.02632620611661093, 0.026109947754363764, 0.026301535408690273, 0.02621448957124129, 0.025557235570459014, 0.024839162063022446, 0.024258921982774642, 0.023800884190919396, 0.023049006576262347, 0.022931251146773638, 0.022195423612777758, 0.022098164158290055, 0.021759215598800546, 0.02169256290262191, 0.02164750923938582, 0.0214053120850769, 0.021383015531793413, 0.02082626019561519, 0.02102889155588003, 0.020983724340367087, 0.020789684992928454, 0.020740746573231387, 0.020426191303788286, 0.020413239680710574, 0.020847368578808857, 0.020579402275059097, 0.020286039758994328, 0.02078572307493017]}\n"
     ]
    }
   ],
   "source": [
    "cv_results = lgb.cv(\n",
    "        parameters,\n",
    "        train_data,\n",
    "        num_boost_round=100,\n",
    "        metrics =\"auc\",\n",
    "        nfold=10,\n",
    "        early_stopping_rounds=10,\n",
    "\n",
    "        # This is what I added\n",
    "        stratified=False\n",
    "        )\n",
    "\n",
    "print(cv_results)"
   ]
  },
  {
   "cell_type": "markdown",
   "metadata": {},
   "source": [
    "The power of the Gradient Boosting Machine can be seen here! The cross validation score blows away anything we've done previously. \n",
    "\n",
    "Let's take a look at the predictions to understand what is going on with the predictions in each fold."
   ]
  },
  {
   "cell_type": "code",
   "execution_count": 46,
   "metadata": {},
   "outputs": [
    {
     "name": "stdout",
     "output_type": "stream",
     "text": [
      "X=[0.83791491 0.609375   0.         0.         0.11267543 0.21126761\n",
      " 0.         0.         0.         1.         0.         1.\n",
      " 0.         0.         0.         1.         0.         0.\n",
      " 1.         0.        ], Predicted=0.11874442663632369\n",
      "X=[0.2459657  0.08447266 0.         0.         0.18108394 0.09346991\n",
      " 0.         0.         1.         0.         0.         0.\n",
      " 0.         0.         0.         0.         1.         0.\n",
      " 0.         0.        ], Predicted=0.0007771861682449971\n",
      "X=[0.23283107 0.65820312 1.         0.         0.86556625 0.30985915\n",
      " 0.         0.         1.         0.         0.         0.\n",
      " 0.         1.         0.         0.         1.         0.\n",
      " 0.         1.        ], Predicted=0.019532639154594522\n",
      "X=[0.74545155 0.06005859 0.         0.         0.29649572 0.31370038\n",
      " 0.         0.         0.         1.         0.         0.\n",
      " 0.         0.         0.         1.         0.         0.\n",
      " 0.         0.        ], Predicted=0.0020593251686661777\n",
      "X=[0.26492727 0.57275391 0.         0.         0.09237355 0.17285531\n",
      " 0.         0.         1.         0.         0.         0.\n",
      " 0.         0.         1.         0.         1.         0.\n",
      " 1.         0.        ], Predicted=0.035821772014820216\n",
      "X=[0.5016384  0.68261719 0.         0.         0.23797334 0.22535211\n",
      " 0.         0.         0.         1.         0.         1.\n",
      " 0.         0.         0.         1.         0.         0.\n",
      " 0.         1.        ], Predicted=0.019651107306306027\n",
      "X=[0.33157382 0.29199219 0.         0.         0.14643834 0.17669654\n",
      " 0.         0.         0.         1.         0.         0.\n",
      " 0.         1.         0.         0.         1.         0.\n",
      " 1.         0.        ], Predicted=0.0009922981586841986\n",
      "X=[0.95479661 0.25537109 0.         0.         0.1733604  0.16773367\n",
      " 0.         0.         0.         1.         0.         0.\n",
      " 0.         1.         0.         1.         0.         0.\n",
      " 0.         0.        ], Predicted=0.002231802590250562\n",
      "X=[0.61115757 0.19433594 0.         0.         0.07560244 0.20870679\n",
      " 0.         0.         1.         0.         0.         0.\n",
      " 0.         0.         1.         0.         1.         0.\n",
      " 1.         0.        ], Predicted=0.006722120573479936\n",
      "X=[0.51023486 0.96337891 1.         0.         0.02303822 0.25736236\n",
      " 0.         0.         0.         1.         0.         0.\n",
      " 0.         1.         0.         1.         0.         1.\n",
      " 0.         0.        ], Predicted=0.07305576398301415\n",
      "X=[0.52579624 0.75585938 0.         0.         0.16245918 0.11651729\n",
      " 0.         0.         1.         0.         0.         0.\n",
      " 0.         0.         1.         0.         1.         0.\n",
      " 0.         0.        ], Predicted=0.029548727741404632\n",
      "X=[0.33251985 0.04785156 0.         0.         0.15628034 0.07298335\n",
      " 0.         0.         0.         1.         0.         0.\n",
      " 0.         0.         0.         1.         0.         0.\n",
      " 0.         0.        ], Predicted=0.0006994187539018659\n",
      "X=[0.17084607 0.63378906 0.         0.         0.14577633 0.40460948\n",
      " 0.         0.         1.         0.         0.         0.\n",
      " 0.         1.         0.         1.         0.         0.\n",
      " 1.         0.        ], Predicted=0.009818637462112215\n",
      "X=[0.21015397 0.67041016 0.         0.         0.08257569 0.11139565\n",
      " 0.         0.         0.         1.         0.         0.\n",
      " 0.         1.         0.         0.         1.         0.\n",
      " 0.         1.        ], Predicted=0.0008302522351177644\n",
      "X=[0.67805092 0.10888672 0.         0.         0.02974667 0.07298335\n",
      " 0.         0.         0.         1.         0.         0.\n",
      " 0.         0.         0.         1.         0.         0.\n",
      " 0.         0.        ], Predicted=0.0016983597997966852\n",
      "X=[0.39551942 0.47509766 0.         0.         0.18170183 0.20614597\n",
      " 0.         0.         0.         1.         0.         0.\n",
      " 0.         1.         0.         0.         1.         0.\n",
      " 1.         0.        ], Predicted=0.0470130439756625\n",
      "X=[0.83801089 0.0078125  0.         0.         0.38066025 0.08066581\n",
      " 0.         0.         0.         1.         0.         0.\n",
      " 0.         0.         0.         1.         0.         0.\n",
      " 0.         0.        ], Predicted=0.0034730271245568345\n",
      "X=[0.62525193 0.29199219 0.         0.         0.01218113 0.37259923\n",
      " 0.         0.         1.         0.         0.         0.\n",
      " 0.         1.         0.         0.         1.         1.\n",
      " 0.         0.        ], Predicted=0.002922367209376635\n",
      "X=[0.60428863 0.42626953 0.         0.         0.17799453 0.30089629\n",
      " 0.         0.         1.         0.         0.         0.\n",
      " 0.         1.         0.         1.         0.         0.\n",
      " 1.         0.        ], Predicted=0.002623300766332808\n",
      "X=[0.26909525 0.87792969 0.         0.         0.8182099  0.27784891\n",
      " 0.         0.         0.         1.         0.         1.\n",
      " 0.         0.         0.         1.         0.         0.\n",
      " 1.         0.        ], Predicted=0.42791256678497264\n"
     ]
    }
   ],
   "source": [
    "ypred = model.predict(test_features)\n",
    "# show the inputs and predicted outputs\n",
    "for i in range(20):\n",
    "\tprint(\"X=%s, Predicted=%s\" % (test_features[i], ypred[i]))"
   ]
  },
  {
   "cell_type": "markdown",
   "metadata": {},
   "source": [
    "## Conclusion"
   ]
  }
 ],
 "metadata": {
  "kernelspec": {
   "display_name": "Python 3",
   "language": "python",
   "name": "python3"
  },
  "language_info": {
   "codemirror_mode": {
    "name": "ipython",
    "version": 3
   },
   "file_extension": ".py",
   "mimetype": "text/x-python",
   "name": "python",
   "nbconvert_exporter": "python",
   "pygments_lexer": "ipython3",
   "version": "3.7.4"
  }
 },
 "nbformat": 4,
 "nbformat_minor": 2
}
