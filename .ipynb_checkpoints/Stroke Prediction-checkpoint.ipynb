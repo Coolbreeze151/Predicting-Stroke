{
 "cells": [
  {
   "cell_type": "markdown",
   "metadata": {},
   "source": [
    "# Project on Stroke Prediction"
   ]
  },
  {
   "cell_type": "markdown",
   "metadata": {},
   "source": [
    "## Machine Learning Workflow\n",
    "\n",
    "Although the exact implementation details can vary, the general structure of a machine learning project stays relatively constant:\n",
    "\n",
    "    1) Data cleaning and formatting\n",
    "    2) Exploratory data analysis\n",
    "    3) Feature engineering and selection\n",
    "    4) Establish a baseline and compare several machine learning models on a performance metric\n",
    "    5) Perform hyperparameter tuning on the best model to optimize it for the problem\n",
    "    6) Evaluate the best model on the testing set\n",
    "    7) Interpret the model results to the extent possible\n",
    "    8) Draw conclusions and write a well-documented report"
   ]
  },
  {
   "cell_type": "markdown",
   "metadata": {},
   "source": [
    "# Import\n",
    "We will use the standard data science and machine learning libraries: numpy, pandas, and scikit-learn. We also use matplotlib and seaborn for visualization."
   ]
  },
  {
   "cell_type": "code",
   "execution_count": 1,
   "metadata": {},
   "outputs": [],
   "source": [
    "# Pandas and numpy for data manipulation\n",
    "import pandas as pd\n",
    "import numpy as np\n",
    "\n",
    "# No warnings about setting value on copy of slice, i.e. no annoying pink boxes\n",
    "pd.options.mode.chained_assignment = None\n",
    "\n",
    "# Display up to 60 columns of a dataframe\n",
    "pd.set_option('display.max_columns', 60)\n",
    "\n",
    "# Matplotlib visualization\n",
    "import matplotlib.pyplot as plt\n",
    "%matplotlib inline\n",
    "\n",
    "# Set default font size\n",
    "plt.rcParams['font.size'] = 24\n",
    "\n",
    "# Internal ipython tool for setting figure size\n",
    "from IPython.core.pylabtools import figsize\n",
    "\n",
    "# Seaborn for visualization\n",
    "import seaborn as sns\n",
    "sns.set(font_scale = 2)\n",
    "\n",
    "# Splitting data into training and testing\n",
    "from sklearn.model_selection import train_test_split"
   ]
  },
  {
   "cell_type": "markdown",
   "metadata": {},
   "source": [
    "# Data Cleaning and Formatting\n",
    "\n",
    "## Load in the Data and Examine\n",
    "\n",
    "We will be loading our data into a pandas dataframe, one of the most useful data structures for data science. Think of it as a spreadsheet within Python that we can easily manipulate, clean, and visualize. [Pandas has many methods](http://pandas.pydata.org/pandas-docs/stable/) to help make the data science/machine learning pipeline as smooth as possible."
   ]
  },
  {
   "cell_type": "code",
   "execution_count": 2,
   "metadata": {},
   "outputs": [
    {
     "data": {
      "text/html": [
       "<div>\n",
       "<style scoped>\n",
       "    .dataframe tbody tr th:only-of-type {\n",
       "        vertical-align: middle;\n",
       "    }\n",
       "\n",
       "    .dataframe tbody tr th {\n",
       "        vertical-align: top;\n",
       "    }\n",
       "\n",
       "    .dataframe thead th {\n",
       "        text-align: right;\n",
       "    }\n",
       "</style>\n",
       "<table border=\"1\" class=\"dataframe\">\n",
       "  <thead>\n",
       "    <tr style=\"text-align: right;\">\n",
       "      <th></th>\n",
       "      <th>id</th>\n",
       "      <th>gender</th>\n",
       "      <th>age</th>\n",
       "      <th>hypertension</th>\n",
       "      <th>heart_disease</th>\n",
       "      <th>ever_married</th>\n",
       "      <th>work_type</th>\n",
       "      <th>Residence_type</th>\n",
       "      <th>avg_glucose_level</th>\n",
       "      <th>bmi</th>\n",
       "      <th>smoking_status</th>\n",
       "      <th>stroke</th>\n",
       "    </tr>\n",
       "  </thead>\n",
       "  <tbody>\n",
       "    <tr>\n",
       "      <td>17056</td>\n",
       "      <td>68713</td>\n",
       "      <td>Male</td>\n",
       "      <td>54.0</td>\n",
       "      <td>0</td>\n",
       "      <td>0</td>\n",
       "      <td>Yes</td>\n",
       "      <td>Private</td>\n",
       "      <td>Rural</td>\n",
       "      <td>150.30</td>\n",
       "      <td>29.3</td>\n",
       "      <td>never smoked</td>\n",
       "      <td>0</td>\n",
       "    </tr>\n",
       "    <tr>\n",
       "      <td>32600</td>\n",
       "      <td>57040</td>\n",
       "      <td>Male</td>\n",
       "      <td>36.0</td>\n",
       "      <td>0</td>\n",
       "      <td>0</td>\n",
       "      <td>Yes</td>\n",
       "      <td>Govt_job</td>\n",
       "      <td>Rural</td>\n",
       "      <td>60.69</td>\n",
       "      <td>47.3</td>\n",
       "      <td>formerly smoked</td>\n",
       "      <td>0</td>\n",
       "    </tr>\n",
       "    <tr>\n",
       "      <td>5601</td>\n",
       "      <td>19785</td>\n",
       "      <td>Female</td>\n",
       "      <td>36.0</td>\n",
       "      <td>0</td>\n",
       "      <td>0</td>\n",
       "      <td>No</td>\n",
       "      <td>Govt_job</td>\n",
       "      <td>Rural</td>\n",
       "      <td>212.78</td>\n",
       "      <td>54.1</td>\n",
       "      <td>formerly smoked</td>\n",
       "      <td>0</td>\n",
       "    </tr>\n",
       "    <tr>\n",
       "      <td>27156</td>\n",
       "      <td>27773</td>\n",
       "      <td>Female</td>\n",
       "      <td>32.0</td>\n",
       "      <td>0</td>\n",
       "      <td>0</td>\n",
       "      <td>Yes</td>\n",
       "      <td>Private</td>\n",
       "      <td>Urban</td>\n",
       "      <td>73.19</td>\n",
       "      <td>25.8</td>\n",
       "      <td>formerly smoked</td>\n",
       "      <td>0</td>\n",
       "    </tr>\n",
       "    <tr>\n",
       "      <td>8487</td>\n",
       "      <td>53854</td>\n",
       "      <td>Female</td>\n",
       "      <td>48.0</td>\n",
       "      <td>0</td>\n",
       "      <td>0</td>\n",
       "      <td>Yes</td>\n",
       "      <td>Private</td>\n",
       "      <td>Urban</td>\n",
       "      <td>70.35</td>\n",
       "      <td>27.2</td>\n",
       "      <td>smokes</td>\n",
       "      <td>0</td>\n",
       "    </tr>\n",
       "  </tbody>\n",
       "</table>\n",
       "</div>"
      ],
      "text/plain": [
       "          id  gender   age  hypertension  heart_disease ever_married  \\\n",
       "17056  68713    Male  54.0             0              0          Yes   \n",
       "32600  57040    Male  36.0             0              0          Yes   \n",
       "5601   19785  Female  36.0             0              0           No   \n",
       "27156  27773  Female  32.0             0              0          Yes   \n",
       "8487   53854  Female  48.0             0              0          Yes   \n",
       "\n",
       "      work_type Residence_type  avg_glucose_level   bmi   smoking_status  \\\n",
       "17056   Private          Rural             150.30  29.3     never smoked   \n",
       "32600  Govt_job          Rural              60.69  47.3  formerly smoked   \n",
       "5601   Govt_job          Rural             212.78  54.1  formerly smoked   \n",
       "27156   Private          Urban              73.19  25.8  formerly smoked   \n",
       "8487    Private          Urban              70.35  27.2           smokes   \n",
       "\n",
       "       stroke  \n",
       "17056       0  \n",
       "32600       0  \n",
       "5601        0  \n",
       "27156       0  \n",
       "8487        0  "
      ]
     },
     "execution_count": 2,
     "metadata": {},
     "output_type": "execute_result"
    }
   ],
   "source": [
    "# Read in data into a dataframe \n",
    "train_df = pd.read_csv('train_2v.csv')\n",
    "test_df = pd.read_csv('test_2v.csv')\n",
    "\n",
    "# Because data is huge, for purpose of practice, will reduce it to 20% sample of the whole population for the time being.\n",
    "train_df = train_df.sample(frac=0.6, replace=True)\n",
    "\n",
    "# Display top of dataframe\n",
    "train_df.head()"
   ]
  },
  {
   "cell_type": "code",
   "execution_count": 3,
   "metadata": {},
   "outputs": [
    {
     "name": "stdout",
     "output_type": "stream",
     "text": [
      "<class 'pandas.core.frame.DataFrame'>\n",
      "Int64Index: 26040 entries, 17056 to 7764\n",
      "Data columns (total 12 columns):\n",
      "id                   26040 non-null int64\n",
      "gender               26040 non-null object\n",
      "age                  26040 non-null float64\n",
      "hypertension         26040 non-null int64\n",
      "heart_disease        26040 non-null int64\n",
      "ever_married         26040 non-null object\n",
      "work_type            26040 non-null object\n",
      "Residence_type       26040 non-null object\n",
      "avg_glucose_level    26040 non-null float64\n",
      "bmi                  25137 non-null float64\n",
      "smoking_status       18054 non-null object\n",
      "stroke               26040 non-null int64\n",
      "dtypes: float64(3), int64(4), object(5)\n",
      "memory usage: 2.6+ MB\n"
     ]
    }
   ],
   "source": [
    "train_df.info()"
   ]
  },
  {
   "cell_type": "markdown",
   "metadata": {},
   "source": [
    "Let's take a look to see if there are missing data in this dataframe set for Stroke"
   ]
  },
  {
   "cell_type": "code",
   "execution_count": 4,
   "metadata": {},
   "outputs": [],
   "source": [
    "# Function to calculate missing values by column\n",
    "def missing_values_table(df):\n",
    "        # Total missing values\n",
    "        mis_val = df.isnull().sum()\n",
    "        \n",
    "        # Percentage of missing values\n",
    "        mis_val_percent = 100 * df.isnull().sum() / len(df)\n",
    "        \n",
    "        # Make a table with the results\n",
    "        mis_val_table = pd.concat([mis_val, mis_val_percent], axis=1)\n",
    "        \n",
    "        # Rename the columns\n",
    "        mis_val_table_ren_columns = mis_val_table.rename(\n",
    "        columns = {0 : 'Missing Values', 1 : '% of Total Values'})\n",
    "        \n",
    "        # Sort the table by percentage of missing descending\n",
    "        mis_val_table_ren_columns = mis_val_table_ren_columns[\n",
    "            mis_val_table_ren_columns.iloc[:,1] != 0].sort_values(\n",
    "        '% of Total Values', ascending=False).round(1)\n",
    "        \n",
    "        # Print some summary information\n",
    "        print (\"Your selected dataframe has \" + str(df.shape[1]) + \" columns.\\n\"      \n",
    "            \"There are \" + str(mis_val_table_ren_columns.shape[0]) +\n",
    "              \" columns that have missing values.\")\n",
    "        \n",
    "        # Return the dataframe with missing information\n",
    "        return mis_val_table_ren_columns"
   ]
  },
  {
   "cell_type": "code",
   "execution_count": 5,
   "metadata": {},
   "outputs": [
    {
     "name": "stdout",
     "output_type": "stream",
     "text": [
      "Your selected dataframe has 12 columns.\n",
      "There are 2 columns that have missing values.\n"
     ]
    },
    {
     "data": {
      "text/html": [
       "<div>\n",
       "<style scoped>\n",
       "    .dataframe tbody tr th:only-of-type {\n",
       "        vertical-align: middle;\n",
       "    }\n",
       "\n",
       "    .dataframe tbody tr th {\n",
       "        vertical-align: top;\n",
       "    }\n",
       "\n",
       "    .dataframe thead th {\n",
       "        text-align: right;\n",
       "    }\n",
       "</style>\n",
       "<table border=\"1\" class=\"dataframe\">\n",
       "  <thead>\n",
       "    <tr style=\"text-align: right;\">\n",
       "      <th></th>\n",
       "      <th>Missing Values</th>\n",
       "      <th>% of Total Values</th>\n",
       "    </tr>\n",
       "  </thead>\n",
       "  <tbody>\n",
       "    <tr>\n",
       "      <td>smoking_status</td>\n",
       "      <td>7986</td>\n",
       "      <td>30.7</td>\n",
       "    </tr>\n",
       "    <tr>\n",
       "      <td>bmi</td>\n",
       "      <td>903</td>\n",
       "      <td>3.5</td>\n",
       "    </tr>\n",
       "  </tbody>\n",
       "</table>\n",
       "</div>"
      ],
      "text/plain": [
       "                Missing Values  % of Total Values\n",
       "smoking_status            7986               30.7\n",
       "bmi                        903                3.5"
      ]
     },
     "execution_count": 5,
     "metadata": {},
     "output_type": "execute_result"
    }
   ],
   "source": [
    "missing_values_table(train_df)"
   ]
  },
  {
   "cell_type": "markdown",
   "metadata": {},
   "source": [
    "# Exploratory Data Analysis"
   ]
  },
  {
   "cell_type": "code",
   "execution_count": 6,
   "metadata": {},
   "outputs": [],
   "source": [
    "train_df_stroke = train_df.loc[train_df['stroke'] == 1]\n",
    "sns.set(style=\"ticks\")"
   ]
  },
  {
   "cell_type": "code",
   "execution_count": 7,
   "metadata": {},
   "outputs": [],
   "source": [
    "numerical = [\n",
    "  'age', 'bmi', 'avg_glucose_level'\n",
    "]\n",
    "categorical = [\n",
    "  'gender', 'hypertension', 'heart_disease', 'ever_married', 'work_type', 'Residence_type', 'smoking_status'\n",
    "]"
   ]
  },
  {
   "cell_type": "code",
   "execution_count": 8,
   "metadata": {
    "scrolled": true
   },
   "outputs": [
    {
     "data": {
      "image/png": "[encoded data removed]",
      "text/plain": [
       "<Figure size 1440x720 with 8 Axes>"
      ]
     },
     "metadata": {},
     "output_type": "display_data"
    }
   ],
   "source": [
    "train_df_stroke[numerical].hist(bins=15, figsize=(20, 10), layout=(2, 4));"
   ]
  },
  {
   "cell_type": "markdown",
   "metadata": {},
   "source": [
    "For the numerical data columns theres a few deductions can make by looking at the counts.\n",
    "1. Chances of stroke is higher for people reaching the age of late 70s to their 80s.\n",
    "2. Number of people with stroke is higher for those who seem to have average glucose level that is within the [permitted range](https://www.webmd.com/diabetes/qa/what-are-normal-blood-sugar-levels). \n",
    "3. Those whose BMI were at the higher end of 20s seem to be more susceptible to getting stroke."
   ]
  },
  {
   "cell_type": "code",
   "execution_count": 9,
   "metadata": {},
   "outputs": [
    {
     "data": {
      "image/png": "[encoded data removed]",
      "text/plain": [
       "<Figure size 1296x720 with 8 Axes>"
      ]
     },
     "metadata": {},
     "output_type": "display_data"
    }
   ],
   "source": [
    "fig, ax = plt.subplots(2, 4, figsize=(18, 10))\n",
    "for variable, subplot in zip(categorical, ax.flatten()):\n",
    "    sns.countplot(train_df_stroke[variable], ax=subplot)\n",
    "    for label in subplot.get_xticklabels():\n",
    "        label.set_rotation(90)"
   ]
  },
  {
   "cell_type": "markdown",
   "metadata": {},
   "source": [
    "If we look at the count of victims with stroke for each feature, the likely stroke victim seems to be one who is Female, Urban, Private, never smoke, married. Each of this feature seems to have an impact on the prediction one whether the person may have stroke. Some deductions like not smoking goes against some of our assumptions. One would have thought that smoking would likely lead you to have stroke in comparison to a non-smoker. So lets take a look at each of them further. We begin by doing a quantitative and categorical summary anaysis for the features."
   ]
  },
  {
   "cell_type": "code",
   "execution_count": 10,
   "metadata": {},
   "outputs": [],
   "source": [
    "def quantitative_summarized(dataframe, x=None, y=None, hue=None, palette='Set1', ax=None, verbose=True, swarm=False):\n",
    "    '''\n",
    "    Helper function that gives a quick summary of quantattive data\n",
    "    Arguments\n",
    "    =========\n",
    "    dataframe: pandas dataframe\n",
    "    x: str. horizontal axis to plot the labels of categorical data (usually the target variable)\n",
    "    y: str. vertical axis to plot the quantitative data\n",
    "    hue: str. if you want to compare it another categorical variable (usually the target variable if x is another variable)\n",
    "    palette: array-like. Colour of the plot\n",
    "    swarm: if swarm is set to True, a swarm plot would be overlayed\n",
    "    Returns\n",
    "    =======\n",
    "    Quick Stats of the data and also the box plot of the distribution\n",
    "    '''\n",
    "    series = dataframe[y]\n",
    "    print(series.describe())\n",
    "    print('mode: ', series.mode())\n",
    "    if verbose:\n",
    "        print('='*80)\n",
    "        print(series.value_counts())\n",
    "\n",
    "    sns.boxplot(x=x, y=y, hue=hue, data=dataframe, palette=palette, ax=ax)\n",
    "\n",
    "    if swarm:\n",
    "        sns.swarmplot(x=x, y=y, hue=hue, data=dataframe,\n",
    "                      palette=palette, ax=ax)\n",
    "\n",
    "    plt.show()"
   ]
  },
  {
   "cell_type": "code",
   "execution_count": 11,
   "metadata": {},
   "outputs": [],
   "source": [
    "def categorical_summarized(dataframe, x=None, y=None, hue=None, palette='Set1', verbose=True):\n",
    "    '''\n",
    "    Helper function that gives a quick summary of a given column of categorical data\n",
    "    Arguments\n",
    "    =========\n",
    "    dataframe: pandas dataframe\n",
    "    x: str. horizontal axis to plot the labels of categorical data, y would be the count\n",
    "    y: str. vertical axis to plot the labels of categorical data, x would be the count\n",
    "    hue: str. if you want to compare it another variable (usually the target variable)\n",
    "    palette: array-like. Colour of the plot\n",
    "    Returns\n",
    "    =======\n",
    "    Quick Stats of the data and also the count plot\n",
    "    '''\n",
    "    if x == None:\n",
    "        column_interested = y\n",
    "    else:\n",
    "        column_interested = x\n",
    "    series = dataframe[column_interested]\n",
    "    print(series.describe())\n",
    "    print('mode: ', series.mode())\n",
    "    if verbose:\n",
    "        print('='*80)\n",
    "        print(series.value_counts())\n",
    "\n",
    "    sns.countplot(x=x, y=y, hue=hue, data=dataframe, palette=palette)\n",
    "    plt.show()\n"
   ]
  },
  {
   "cell_type": "code",
   "execution_count": 12,
   "metadata": {},
   "outputs": [],
   "source": [
    "c_palette = ['tab:blue', 'tab:orange']"
   ]
  },
  {
   "cell_type": "code",
   "execution_count": 13,
   "metadata": {},
   "outputs": [
    {
     "name": "stdout",
     "output_type": "stream",
     "text": [
      "count    452.000000\n",
      "mean      68.345133\n",
      "std       12.250540\n",
      "min       14.000000\n",
      "25%       60.000000\n",
      "50%       72.000000\n",
      "75%       78.000000\n",
      "max       82.000000\n",
      "Name: age, dtype: float64\n",
      "mode:  0    79.0\n",
      "dtype: float64\n"
     ]
    },
    {
     "data": {
      "image/png": "[encoded data removed]",
      "text/plain": [
       "<Figure size 432x288 with 1 Axes>"
      ]
     },
     "metadata": {},
     "output_type": "display_data"
    }
   ],
   "source": [
    "#Bivariate Analysis with target variable\n",
    "quantitative_summarized(dataframe= train_df_stroke, y = 'age', x = 'gender', palette=c_palette, verbose=False, swarm=True)"
   ]
  },
  {
   "cell_type": "markdown",
   "metadata": {},
   "source": [
    "From the data we can see that the average age of people with stroke seem to be in their late 60s to 70s for both Males & Females. Females were likely to be a stroke victim at an older age among the 2 genders. It seems to me that gender may play a part in predicting stroke. Lets now take a look at smoking status of our data set. I'll be setting the hue to include gender to see if we can see any insights and relationship between gender and smoking status for our stroke victims."
   ]
  },
  {
   "cell_type": "code",
   "execution_count": 14,
   "metadata": {},
   "outputs": [
    {
     "data": {
      "image/png": "[encoded data removed]",
      "text/plain": [
       "<Figure size 436.35x360 with 1 Axes>"
      ]
     },
     "metadata": {},
     "output_type": "display_data"
    }
   ],
   "source": [
    "sns.catplot(x=\"smoking_status\", y=\"age\", hue=\"gender\", kind=\"swarm\", data=train_df_stroke);"
   ]
  },
  {
   "cell_type": "markdown",
   "metadata": {},
   "source": [
    "Based on the graph we can agree that our assumptions still hold that smoking does have an impact on stroke, in particular age. We can see that for the smoke category, age seems to have a wider spread. We can deduce that smoking does result in people getting stroke at a younger age in comparison to those that never smoke or formerly smoked. Lets take a look further at hypertension and age as a factor of stroke. We will carry out a multivariate analysis below on these variable factors. "
   ]
  },
  {
   "cell_type": "code",
   "execution_count": 15,
   "metadata": {},
   "outputs": [
    {
     "name": "stdout",
     "output_type": "stream",
     "text": [
      "count    452.000000\n",
      "mean      68.345133\n",
      "std       12.250540\n",
      "min       14.000000\n",
      "25%       60.000000\n",
      "50%       72.000000\n",
      "75%       78.000000\n",
      "max       82.000000\n",
      "Name: age, dtype: float64\n",
      "mode:  0    79.0\n",
      "dtype: float64\n"
     ]
    },
    {
     "data": {
      "image/png": "[encoded data removed]",
      "text/plain": [
       "<Figure size 432x288 with 1 Axes>"
      ]
     },
     "metadata": {},
     "output_type": "display_data"
    }
   ],
   "source": [
    "# multivariate analysis with Embarked variable and Pclass variable\n",
    "quantitative_summarized(dataframe= train_df_stroke, y = 'age', x = 'stroke', hue = 'hypertension', palette=c_palette, verbose=False, swarm=False)\n"
   ]
  },
  {
   "cell_type": "markdown",
   "metadata": {},
   "source": [
    "Surprisingly stroke victims were more likely to be older if they actually had hypertension. This may actually seem counter intuitive but I believe this could be due to the fact that people who have hypertension were more likely to be on medication to control their blood pressure. This could possible be a factor that helped those with hypertension to prolong their health before falling to stroke at a later age."
   ]
  },
  {
   "cell_type": "markdown",
   "metadata": {},
   "source": [
    "I also decided to create a jointplot between bmi & age for stroke data to see if they have any related relationship. From the jointplot below, we can see that there is no clear cut linear relationship. Nevertheless there is a possibility that BMI & age can help us predict if one were to have stroke."
   ]
  },
  {
   "cell_type": "code",
   "execution_count": 16,
   "metadata": {},
   "outputs": [
    {
     "data": {
      "image/png": "[encoded data removed]",
      "text/plain": [
       "<Figure size 432x432 with 3 Axes>"
      ]
     },
     "metadata": {},
     "output_type": "display_data"
    }
   ],
   "source": [
    "sns.jointplot(x=train_df_stroke['bmi'], y=train_df_stroke['age']);"
   ]
  },
  {
   "cell_type": "markdown",
   "metadata": {},
   "source": [
    "# Feature Engineering & Selection"
   ]
  },
  {
   "cell_type": "markdown",
   "metadata": {},
   "source": [
    "## One Hot Encoding for Categorical Variables"
   ]
  },
  {
   "cell_type": "code",
   "execution_count": 17,
   "metadata": {},
   "outputs": [
    {
     "name": "stderr",
     "output_type": "stream",
     "text": [
      "C:\\Users\\Ismahfaris\\Anaconda3\\lib\\site-packages\\pandas\\core\\series.py:853: RuntimeWarning: divide by zero encountered in log\n",
      "  result = getattr(ufunc, method)(*inputs, **kwargs)\n"
     ]
    },
    {
     "data": {
      "text/plain": [
       "(26040, 28)"
      ]
     },
     "execution_count": 17,
     "metadata": {},
     "output_type": "execute_result"
    }
   ],
   "source": [
    "# PENDING CODE FOR ONE HOT ENCODING\n",
    "\n",
    "# Select the numeric columns\n",
    "numeric_subset = train_df.select_dtypes('number')\n",
    "\n",
    "# Create columns with log of numeric columns\n",
    "for col in numeric_subset.columns:\n",
    "    # Skip the target column\n",
    "    if col == 'stroke':\n",
    "        next\n",
    "    else:\n",
    "        numeric_subset['log_' + col] = np.log(numeric_subset[col])\n",
    "        \n",
    "# Select the categorical columns\n",
    "categorical_subset = train_df[['gender','ever_married','work_type','Residence_type','smoking_status']]\n",
    "\n",
    "# One hot encode\n",
    "categorical_subset = pd.get_dummies(categorical_subset)\n",
    "\n",
    "# Join the two dataframes using concat\n",
    "# Make sure to use axis = 1 to perform a column bind\n",
    "train_df = pd.concat([numeric_subset, categorical_subset], axis = 1)\n",
    "\n",
    "train_df.shape"
   ]
  },
  {
   "cell_type": "markdown",
   "metadata": {},
   "source": [
    "\n",
    "## Remove Collinear Features\n",
    "\n",
    "Since I mentioned about linear relationships, I think its good to highlight that highly [collinear features](http://psychologicalstatistics.blogspot.com/2013/11/multicollinearity-and-collinearity-in.html) have a significant correlation coefficent between them. Thus, to opmitimize our models, we should look to remove any of the collinear features. "
   ]
  },
  {
   "cell_type": "code",
   "execution_count": 18,
   "metadata": {},
   "outputs": [],
   "source": [
    "def remove_collinear_features(x, threshold):\n",
    "    '''\n",
    "    Objective:\n",
    "        Remove collinear features in a dataframe with a correlation coefficient\n",
    "        greater than the threshold. Removing collinear features can help a model\n",
    "        to generalize and improves the interpretability of the model.\n",
    "        \n",
    "    Inputs: \n",
    "        threshold: any features with correlations greater than this value are removed\n",
    "    \n",
    "    Output: \n",
    "        dataframe that contains only the non-highly-collinear features\n",
    "    '''\n",
    "    \n",
    "    # Dont want to remove correlations between Score\n",
    "    y = x['stroke']\n",
    "    x = x.drop(columns = ['stroke'])\n",
    "    \n",
    "    # Calculate the correlation matrix\n",
    "    corr_matrix = x.corr()\n",
    "    iters = range(len(corr_matrix.columns) - 1)\n",
    "    drop_cols = []\n",
    "    \n",
    "    # Iterate through the correlation matrix and compare correlations\n",
    "    for i in iters:\n",
    "        for j in range(i):\n",
    "            item = corr_matrix.iloc[j:(j+1), (i+1):(i+2)]\n",
    "            col = item.columns\n",
    "            row = item.index\n",
    "            val = abs(item.values)\n",
    "            \n",
    "            # If correlation exceeds the threshold\n",
    "            if val >= threshold:\n",
    "                # Print the correlated features and the correlation value\n",
    "                # print(col.values[0], \"|\", row.values[0], \"|\", round(val[0][0], 2))\n",
    "                drop_cols.append(col.values[0])\n",
    "\n",
    "    # Drop one of each pair of correlated columns\n",
    "    drops = set(drop_cols)\n",
    "    x = x.drop(columns = drops)\n",
    "\n",
    "    \n",
    "    # Add the score back in to the data\n",
    "    x['stroke'] = y\n",
    "               \n",
    "    return x"
   ]
  },
  {
   "cell_type": "code",
   "execution_count": 19,
   "metadata": {},
   "outputs": [
    {
     "name": "stderr",
     "output_type": "stream",
     "text": [
      "C:\\Users\\Ismahfaris\\Anaconda3\\lib\\site-packages\\ipykernel_launcher.py:33: RuntimeWarning: invalid value encountered in greater_equal\n"
     ]
    }
   ],
   "source": [
    "# Remove the collinear features above a specified correlation coefficient\n",
    "train_df = remove_collinear_features(train_df, 0.6);"
   ]
  },
  {
   "cell_type": "code",
   "execution_count": 20,
   "metadata": {
    "scrolled": false
   },
   "outputs": [
    {
     "name": "stdout",
     "output_type": "stream",
     "text": [
      "<class 'pandas.core.frame.DataFrame'>\n",
      "Int64Index: 26040 entries, 17056 to 7764\n",
      "Data columns (total 21 columns):\n",
      "id                                26040 non-null int64\n",
      "age                               26040 non-null float64\n",
      "hypertension                      26040 non-null int64\n",
      "heart_disease                     26040 non-null int64\n",
      "avg_glucose_level                 26040 non-null float64\n",
      "bmi                               25137 non-null float64\n",
      "log_hypertension                  26040 non-null float64\n",
      "log_heart_disease                 26040 non-null float64\n",
      "gender_Female                     26040 non-null uint8\n",
      "gender_Male                       26040 non-null uint8\n",
      "gender_Other                      26040 non-null uint8\n",
      "work_type_Govt_job                26040 non-null uint8\n",
      "work_type_Never_worked            26040 non-null uint8\n",
      "work_type_Private                 26040 non-null uint8\n",
      "work_type_Self-employed           26040 non-null uint8\n",
      "Residence_type_Rural              26040 non-null uint8\n",
      "Residence_type_Urban              26040 non-null uint8\n",
      "smoking_status_formerly smoked    26040 non-null uint8\n",
      "smoking_status_never smoked       26040 non-null uint8\n",
      "smoking_status_smokes             26040 non-null uint8\n",
      "stroke                            26040 non-null int64\n",
      "dtypes: float64(5), int64(4), uint8(12)\n",
      "memory usage: 2.3 MB\n"
     ]
    }
   ],
   "source": [
    "# Remove any columns with all na values\n",
    "train_df  = train_df.dropna(axis=1, how = 'all')\n",
    "train_df.info()"
   ]
  },
  {
   "cell_type": "code",
   "execution_count": 21,
   "metadata": {},
   "outputs": [
    {
     "name": "stdout",
     "output_type": "stream",
     "text": [
      "<class 'pandas.core.frame.DataFrame'>\n",
      "Int64Index: 26040 entries, 17056 to 7764\n",
      "Data columns (total 21 columns):\n",
      "id                                26040 non-null int64\n",
      "age                               26040 non-null float64\n",
      "hypertension                      26040 non-null int64\n",
      "heart_disease                     26040 non-null int64\n",
      "avg_glucose_level                 26040 non-null float64\n",
      "bmi                               25137 non-null float64\n",
      "log_hypertension                  26040 non-null float64\n",
      "log_heart_disease                 26040 non-null float64\n",
      "gender_Female                     26040 non-null uint8\n",
      "gender_Male                       26040 non-null uint8\n",
      "gender_Other                      26040 non-null uint8\n",
      "work_type_Govt_job                26040 non-null uint8\n",
      "work_type_Never_worked            26040 non-null uint8\n",
      "work_type_Private                 26040 non-null uint8\n",
      "work_type_Self-employed           26040 non-null uint8\n",
      "Residence_type_Rural              26040 non-null uint8\n",
      "Residence_type_Urban              26040 non-null uint8\n",
      "smoking_status_formerly smoked    26040 non-null uint8\n",
      "smoking_status_never smoked       26040 non-null uint8\n",
      "smoking_status_smokes             26040 non-null uint8\n",
      "stroke                            26040 non-null int64\n",
      "dtypes: float64(5), int64(4), uint8(12)\n",
      "memory usage: 2.3 MB\n"
     ]
    }
   ],
   "source": [
    "train_df.info()"
   ]
  },
  {
   "cell_type": "markdown",
   "metadata": {},
   "source": [
    "## Split into Training & Test Set"
   ]
  },
  {
   "cell_type": "code",
   "execution_count": 22,
   "metadata": {},
   "outputs": [
    {
     "name": "stdout",
     "output_type": "stream",
     "text": [
      "(0, 21)\n",
      "(26040, 21)\n"
     ]
    }
   ],
   "source": [
    "# Extract the buildings with no score and the buildings with a score\n",
    "no_score = train_df[train_df['stroke'].isna()]\n",
    "score = train_df[train_df['stroke'].notnull()]\n",
    "\n",
    "print(no_score.shape)\n",
    "print(score.shape)"
   ]
  },
  {
   "cell_type": "code",
   "execution_count": 23,
   "metadata": {},
   "outputs": [
    {
     "name": "stdout",
     "output_type": "stream",
     "text": [
      "(13020, 20)\n",
      "(13020, 20)\n",
      "(13020, 1)\n",
      "(13020, 1)\n"
     ]
    }
   ],
   "source": [
    "# Separate out the features and targets\n",
    "features = score.drop(columns='stroke')\n",
    "targets = pd.DataFrame(score['stroke'])\n",
    "\n",
    "# Replace the inf and -inf with nan (required for later imputation)\n",
    "features = features.replace({np.inf: np.nan, -np.inf: np.nan})\n",
    "\n",
    "# Split into 70% training and 30% testing set\n",
    "X, X_test, y, y_test = train_test_split(features, targets, test_size = 0.5, random_state = 42)\n",
    "\n",
    "print(X.shape)\n",
    "print(X_test.shape)\n",
    "print(y.shape)\n",
    "print(y_test.shape)"
   ]
  },
  {
   "cell_type": "markdown",
   "metadata": {},
   "source": [
    "# Machine Learning Modeling\n",
    "\n",
    "Once feature engineering/construction is done, we can get started with the machine learning! All of our data (both training and testing) is aggregated for each household and so can be directly used in a model. To first show the process of modeling, we'll use the capable Random Forest Classifier in Scikit-Learn. This probably won't get us to the top of the leaderboard, but it will allow us to establish a baseline. Later we'll try several other models including the powerful Gradient Boosting Machine.\n",
    "\n",
    "To assess our model, we'll use 10-fold cross validation on the training data. This will essentially _train and test the model 10 times_ using different splits of the training data. 10-fold cross validation is an effective method for estimating the performance of a model on the test set. We want to look at the average performance in cross validation as well as the standard deviation to see how much scores change between the folds. We use the `F1 Macro` measure to evaluate performance."
   ]
  },
  {
   "cell_type": "code",
   "execution_count": 24,
   "metadata": {},
   "outputs": [],
   "source": [
    "from sklearn.ensemble import RandomForestClassifier\n",
    "from sklearn.metrics import f1_score, make_scorer\n",
    "from sklearn.model_selection import cross_val_score\n",
    "from sklearn.preprocessing import Imputer\n",
    "from sklearn.preprocessing import MinMaxScaler\n",
    "from sklearn.pipeline import Pipeline\n",
    "\n",
    "# Custom scorer for cross validation\n",
    "scorer = make_scorer(f1_score, greater_is_better=True, average = 'macro')"
   ]
  },
  {
   "cell_type": "code",
   "execution_count": 25,
   "metadata": {},
   "outputs": [
    {
     "name": "stdout",
     "output_type": "stream",
     "text": [
      "Training Feature Size:  (13020, 20)\n",
      "Testing Feature Size:   (13020, 20)\n",
      "Training Labels Size:   (13020, 1)\n",
      "Testing Labels Size:    (13020, 1)\n"
     ]
    }
   ],
   "source": [
    "# Save the no scores\n",
    "#no_score.to_csv('data/no_score.csv', index = False)\n",
    "\n",
    "#Give training, and testing data more recognizable names\n",
    "train_features = X\n",
    "test_features = X_test\n",
    "train_labels = y\n",
    "test_labels = y_test\n",
    "\n",
    "# Display sizes of data\n",
    "print('Training Feature Size: ', train_features.shape)\n",
    "print('Testing Feature Size:  ', test_features.shape)\n",
    "print('Training Labels Size:  ', train_labels.shape)\n",
    "print('Testing Labels Size:   ', test_labels.shape)"
   ]
  },
  {
   "cell_type": "code",
   "execution_count": 26,
   "metadata": {},
   "outputs": [
    {
     "name": "stderr",
     "output_type": "stream",
     "text": [
      "C:\\Users\\Ismahfaris\\Anaconda3\\lib\\site-packages\\sklearn\\utils\\deprecation.py:66: DeprecationWarning: Class Imputer is deprecated; Imputer was deprecated in version 0.20 and will be removed in 0.22. Import impute.SimpleImputer from sklearn instead.\n",
      "  warnings.warn(msg, category=DeprecationWarning)\n"
     ]
    }
   ],
   "source": [
    "features = list(train_features.columns)\n",
    "\n",
    "pipeline = Pipeline([('imputer', Imputer(strategy = 'median')), \n",
    "                      ('scaler', MinMaxScaler())])\n",
    "\n",
    "# Fit and transform training data\n",
    "train_features = pipeline.fit_transform(train_features)\n",
    "test_features = pipeline.transform(test_features)"
   ]
  },
  {
   "cell_type": "code",
   "execution_count": 27,
   "metadata": {},
   "outputs": [
    {
     "name": "stdout",
     "output_type": "stream",
     "text": [
      "10 Fold Cross Validation Score = 0.6925 with std = 0.0463\n"
     ]
    }
   ],
   "source": [
    "model = RandomForestClassifier(n_estimators=100, random_state=10, \n",
    "                               n_jobs = -1)\n",
    "# 10 fold cross validation\n",
    "cv_score = cross_val_score(model, train_features, train_labels.values.ravel(), cv = 10, scoring = scorer)\n",
    "\n",
    "print(f'10 Fold Cross Validation Score = {round(cv_score.mean(), 4)} with std = {round(cv_score.std(), 4)}')"
   ]
  },
  {
   "cell_type": "code",
   "execution_count": 28,
   "metadata": {},
   "outputs": [
    {
     "data": {
      "text/html": [
       "<div>\n",
       "<style scoped>\n",
       "    .dataframe tbody tr th:only-of-type {\n",
       "        vertical-align: middle;\n",
       "    }\n",
       "\n",
       "    .dataframe tbody tr th {\n",
       "        vertical-align: top;\n",
       "    }\n",
       "\n",
       "    .dataframe thead th {\n",
       "        text-align: right;\n",
       "    }\n",
       "</style>\n",
       "<table border=\"1\" class=\"dataframe\">\n",
       "  <thead>\n",
       "    <tr style=\"text-align: right;\">\n",
       "      <th></th>\n",
       "      <th>feature</th>\n",
       "      <th>importance</th>\n",
       "    </tr>\n",
       "  </thead>\n",
       "  <tbody>\n",
       "    <tr>\n",
       "      <td>0</td>\n",
       "      <td>id</td>\n",
       "      <td>0.226350</td>\n",
       "    </tr>\n",
       "    <tr>\n",
       "      <td>1</td>\n",
       "      <td>age</td>\n",
       "      <td>0.166105</td>\n",
       "    </tr>\n",
       "    <tr>\n",
       "      <td>2</td>\n",
       "      <td>hypertension</td>\n",
       "      <td>0.018860</td>\n",
       "    </tr>\n",
       "    <tr>\n",
       "      <td>3</td>\n",
       "      <td>heart_disease</td>\n",
       "      <td>0.019654</td>\n",
       "    </tr>\n",
       "    <tr>\n",
       "      <td>4</td>\n",
       "      <td>avg_glucose_level</td>\n",
       "      <td>0.228925</td>\n",
       "    </tr>\n",
       "  </tbody>\n",
       "</table>\n",
       "</div>"
      ],
      "text/plain": [
       "             feature  importance\n",
       "0                 id    0.226350\n",
       "1                age    0.166105\n",
       "2       hypertension    0.018860\n",
       "3      heart_disease    0.019654\n",
       "4  avg_glucose_level    0.228925"
      ]
     },
     "execution_count": 28,
     "metadata": {},
     "output_type": "execute_result"
    }
   ],
   "source": [
    "model.fit(train_features, train_labels.values.ravel())\n",
    "\n",
    "# Feature importances into a dataframe\n",
    "feature_importances = pd.DataFrame({'feature': features, 'importance': model.feature_importances_})\n",
    "feature_importances.head()"
   ]
  },
  {
   "cell_type": "code",
   "execution_count": 29,
   "metadata": {},
   "outputs": [],
   "source": [
    "def plot_feature_importances(df, n = 10, threshold = None):\n",
    "    \"\"\"Plots n most important features. Also plots the cumulative importance if\n",
    "    threshold is specified and prints the number of features needed to reach threshold cumulative importance.\n",
    "    Intended for use with any tree-based feature importances. \n",
    "    \n",
    "    Args:\n",
    "        df (dataframe): Dataframe of feature importances. Columns must be \"feature\" and \"importance\".\n",
    "    \n",
    "        n (int): Number of most important features to plot. Default is 15.\n",
    "    \n",
    "        threshold (float): Threshold for cumulative importance plot. If not provided, no plot is made. Default is None.\n",
    "        \n",
    "    Returns:\n",
    "        df (dataframe): Dataframe ordered by feature importances with a normalized column (sums to 1) \n",
    "                        and a cumulative importance column\n",
    "    \n",
    "    Note:\n",
    "    \n",
    "        * Normalization in this case means sums to 1. \n",
    "        * Cumulative importance is calculated by summing features from most to least important\n",
    "        * A threshold of 0.9 will show the most important features needed to reach 90% of cumulative importance\n",
    "    \n",
    "    \"\"\"\n",
    "    plt.style.use('fivethirtyeight')\n",
    "    \n",
    "    # Sort features with most important at the head\n",
    "    df = df.sort_values('importance', ascending = False).reset_index(drop = True)\n",
    "    \n",
    "    # Normalize the feature importances to add up to one and calculate cumulative importance\n",
    "    df['importance_normalized'] = df['importance'] / df['importance'].sum()\n",
    "    df['cumulative_importance'] = np.cumsum(df['importance_normalized'])\n",
    "    \n",
    "    plt.rcParams['font.size'] = 12\n",
    "    \n",
    "    # Bar plot of n most important features\n",
    "    df.loc[:n, :].plot.barh(y = 'importance_normalized', \n",
    "                            x = 'feature', color = 'darkgreen', \n",
    "                            edgecolor = 'k', figsize = (12, 8),\n",
    "                            legend = False, linewidth = 2)\n",
    "\n",
    "    plt.xlabel('Normalized Importance', size = 18); plt.ylabel(''); \n",
    "    plt.title(f'{n} Most Important Features', size = 18)\n",
    "    plt.gca().invert_yaxis()\n",
    "    \n",
    "    \n",
    "    if threshold:\n",
    "        # Cumulative importance plot\n",
    "        plt.figure(figsize = (8, 6))\n",
    "        plt.plot(list(range(len(df))), df['cumulative_importance'], 'b-')\n",
    "        plt.xlabel('Number of Features', size = 16); plt.ylabel('Cumulative Importance', size = 16); \n",
    "        plt.title('Cumulative Feature Importance', size = 18);\n",
    "        \n",
    "        # Number of features needed for threshold cumulative importance\n",
    "        # This is the index (will need to add 1 for the actual number)\n",
    "        importance_index = np.min(np.where(df['cumulative_importance'] > threshold))\n",
    "        \n",
    "        # Add vertical line to plot\n",
    "        plt.vlines(importance_index + 1, ymin = 0, ymax = 1.05, linestyles = '--', colors = 'red')\n",
    "        plt.show();\n",
    "        \n",
    "        print('{} features required for {:.0f}% of cumulative importance.'.format(importance_index + 1, \n",
    "                                                                                  100 * threshold))\n",
    "    \n",
    "    return df"
   ]
  },
  {
   "cell_type": "code",
   "execution_count": 30,
   "metadata": {},
   "outputs": [
    {
     "data": {
      "image/png": "[encoded data removed]",
      "text/plain": [
       "<Figure size 864x576 with 1 Axes>"
      ]
     },
     "metadata": {},
     "output_type": "display_data"
    },
    {
     "data": {
      "image/png": "[encoded data removed]",
      "text/plain": [
       "<Figure size 576x432 with 1 Axes>"
      ]
     },
     "metadata": {},
     "output_type": "display_data"
    },
    {
     "name": "stdout",
     "output_type": "stream",
     "text": [
      "12 features required for 95% of cumulative importance.\n"
     ]
    }
   ],
   "source": [
    "norm_fi = plot_feature_importances(feature_importances, threshold=0.95)"
   ]
  },
  {
   "cell_type": "code",
   "execution_count": 31,
   "metadata": {},
   "outputs": [],
   "source": [
    "# Model imports\n",
    "from sklearn.svm import LinearSVC\n",
    "from sklearn.naive_bayes import GaussianNB\n",
    "from sklearn.neural_network import MLPClassifier\n",
    "from sklearn.linear_model import LogisticRegressionCV, RidgeClassifierCV\n",
    "from sklearn.discriminant_analysis import LinearDiscriminantAnalysis\n",
    "from sklearn.neighbors import KNeighborsClassifier"
   ]
  },
  {
   "cell_type": "code",
   "execution_count": 32,
   "metadata": {},
   "outputs": [],
   "source": [
    "import warnings \n",
    "from sklearn.exceptions import ConvergenceWarning\n",
    "\n",
    "# Filter out warnings from models\n",
    "warnings.filterwarnings('ignore', category = ConvergenceWarning)\n",
    "warnings.filterwarnings('ignore', category = DeprecationWarning)\n",
    "warnings.filterwarnings('ignore', category = UserWarning)\n",
    "\n",
    "# Dataframe to hold results\n",
    "model_results = pd.DataFrame(columns = ['model', 'cv_mean', 'cv_std'])\n",
    "\n",
    "def cv_model(train, train_labels, model, name, model_results=None):\n",
    "    \"\"\"Perform 10 fold cross validation of a model\"\"\"\n",
    "    \n",
    "    cv_scores = cross_val_score(model, train, train_labels.values.ravel(), cv = 10, scoring=scorer, n_jobs = -1)\n",
    "    print(f'10 Fold CV Score: {round(cv_scores.mean(), 5)} with std: {round(cv_scores.std(), 5)}')\n",
    "    \n",
    "    if model_results is not None:\n",
    "        model_results = model_results.append(pd.DataFrame({'model': name, \n",
    "                                                           'cv_mean': cv_scores.mean(), \n",
    "                                                            'cv_std': cv_scores.std()},\n",
    "                                                           index = [0]),\n",
    "                                             ignore_index = True)\n",
    "\n",
    "        return model_results"
   ]
  },
  {
   "cell_type": "code",
   "execution_count": 33,
   "metadata": {},
   "outputs": [
    {
     "name": "stdout",
     "output_type": "stream",
     "text": [
      "10 Fold CV Score: 0.49568 with std: 9e-05\n"
     ]
    }
   ],
   "source": [
    "model_results = cv_model(train_features, train_labels, LinearSVC(), \n",
    "                         'LSVC', model_results)"
   ]
  },
  {
   "cell_type": "code",
   "execution_count": 34,
   "metadata": {},
   "outputs": [
    {
     "name": "stdout",
     "output_type": "stream",
     "text": [
      "10 Fold CV Score: 0.12356 with std: 0.01468\n"
     ]
    }
   ],
   "source": [
    "model_results = cv_model(train_features, train_labels, \n",
    "                         GaussianNB(), 'GNB', model_results)"
   ]
  },
  {
   "cell_type": "code",
   "execution_count": 35,
   "metadata": {},
   "outputs": [
    {
     "name": "stdout",
     "output_type": "stream",
     "text": [
      "10 Fold CV Score: 0.60746 with std: 0.05692\n"
     ]
    }
   ],
   "source": [
    "model_results = cv_model(train_features, train_labels, \n",
    "                         MLPClassifier(hidden_layer_sizes=(32, 64, 128, 64, 32)),\n",
    "                         'MLP', model_results)"
   ]
  },
  {
   "cell_type": "code",
   "execution_count": 36,
   "metadata": {},
   "outputs": [
    {
     "name": "stdout",
     "output_type": "stream",
     "text": [
      "10 Fold CV Score: 0.51743 with std: 0.02483\n"
     ]
    }
   ],
   "source": [
    "model_results = cv_model(train_features, train_labels, \n",
    "                          LinearDiscriminantAnalysis(), \n",
    "                          'LDA', model_results)"
   ]
  },
  {
   "cell_type": "code",
   "execution_count": 37,
   "metadata": {},
   "outputs": [
    {
     "name": "stdout",
     "output_type": "stream",
     "text": [
      "10 Fold CV Score: 0.49568 with std: 9e-05\n"
     ]
    }
   ],
   "source": [
    "model_results = cv_model(train_features, train_labels, \n",
    "                         RidgeClassifierCV(), 'RIDGE', model_results)"
   ]
  },
  {
   "cell_type": "code",
   "execution_count": 38,
   "metadata": {},
   "outputs": [
    {
     "name": "stdout",
     "output_type": "stream",
     "text": [
      "\n",
      "KNN with 5 neighbors\n",
      "\n",
      "10 Fold CV Score: 0.51991 with std: 0.03212\n",
      "\n",
      "KNN with 10 neighbors\n",
      "\n",
      "10 Fold CV Score: 0.49562 with std: 0.00015\n",
      "\n",
      "KNN with 20 neighbors\n",
      "\n",
      "10 Fold CV Score: 0.49568 with std: 9e-05\n"
     ]
    }
   ],
   "source": [
    "for n in [5, 10, 20]:\n",
    "    print(f'\\nKNN with {n} neighbors\\n')\n",
    "    model_results = cv_model(train_features, train_labels, \n",
    "                             KNeighborsClassifier(n_neighbors = n),\n",
    "                             f'knn-{n}', model_results)"
   ]
  },
  {
   "cell_type": "code",
   "execution_count": 39,
   "metadata": {},
   "outputs": [
    {
     "name": "stdout",
     "output_type": "stream",
     "text": [
      "10 Fold CV Score: 0.68652 with std: 0.04579\n"
     ]
    }
   ],
   "source": [
    "from sklearn.ensemble import ExtraTreesClassifier\n",
    "\n",
    "model_results = cv_model(train_features, train_labels, \n",
    "                         ExtraTreesClassifier(n_estimators = 100, random_state = 10),\n",
    "                         'EXT', model_results)"
   ]
  },
  {
   "cell_type": "markdown",
   "metadata": {},
   "source": [
    "## Comparing Model Performance"
   ]
  },
  {
   "cell_type": "code",
   "execution_count": 40,
   "metadata": {},
   "outputs": [
    {
     "name": "stdout",
     "output_type": "stream",
     "text": [
      "10 Fold CV Score: 0.69253 with std: 0.04626\n"
     ]
    }
   ],
   "source": [
    "model_results = cv_model(train_features, train_labels,\n",
    "                          RandomForestClassifier(100, random_state=10),\n",
    "                              'RF', model_results)"
   ]
  },
  {
   "cell_type": "code",
   "execution_count": 41,
   "metadata": {},
   "outputs": [
    {
     "data": {
      "image/png": "[encoded data removed]",
      "text/plain": [
       "<Figure size 576x432 with 1 Axes>"
      ]
     },
     "metadata": {},
     "output_type": "display_data"
    }
   ],
   "source": [
    "model_results.set_index('model', inplace = True)\n",
    "model_results['cv_mean'].plot.bar(color = 'orange', figsize = (8, 6),\n",
    "                                  yerr = list(model_results['cv_std']),\n",
    "                                  edgecolor = 'k', linewidth = 2)\n",
    "plt.title('Model F1 Score Results');\n",
    "plt.ylabel('Mean F1 Score (with error bar)');\n",
    "model_results.reset_index(inplace = True)"
   ]
  },
  {
   "cell_type": "markdown",
   "metadata": {},
   "source": [
    "# Upgrading Our Model: Gradient Boosting Machine\n",
    "\n",
    "\n",
    "### Choosing Number of Estimators with Early Stopping\n",
    "\n",
    "To choose the number of estimators (the number of decision trees in the ensemble, called `n_estimators` or `num_boost_rounds`), we'll use early stopping with 5-fold cross validation. This will keep adding estimators until the performance as measured by the Macro F1 Score has not increased for 100 training rounds. To use this metric, we'll have to define a custom metric."
   ]
  },
  {
   "cell_type": "code",
   "execution_count": 42,
   "metadata": {},
   "outputs": [],
   "source": [
    "def macro_f1_score(labels, predictions):\n",
    "    # Reshape the predictions as needed\n",
    "    predictions = predictions.reshape(len(np.unique(labels)), -1 ).argmax(axis = 0)\n",
    "    \n",
    "    metric_value = f1_score(labels, predictions, average = 'macro')\n",
    "    \n",
    "    # Return is name, value, is_higher_better\n",
    "    return 'macro_f1', metric_value, True"
   ]
  },
  {
   "cell_type": "markdown",
   "metadata": {},
   "source": [
    "# Light Gradient Boosting Machine Implementation\n",
    "\n",
    "The function below implements training the gradient boosting machine with Stratified Kfold cross validation and early stopping to prevent overfitting to the training data (although this can still occur). The function performs training with cross validation and records the predictions in probability for each fold. To see how this works, we can return the predictions from each fold and then we'll return a submission to upload to the competition.\n",
    "\n",
    "Choosing hyperparameters for the Gradient Boosting Machine can be tough and generally is done through model optimization. In this notebook, we'll use a set of hyperparameters that I've found work well on previous problems (although they will not necessarily translate to this competition). \n",
    "\n",
    "We set the `n_estimators` to 10000 but we won't actually reach this number because we are using early stopping which will quit training estimators when the cross validation metric does not improve for `early_stopping_rounds`. There's a lot going on in this function, and read through it carefully to make sure you have it all! I've tried to make the comments and code straightforward. (The `display` is used to show custom information during training in combination with `%%capture` so we don't have to see all the LightGBM information during training)."
   ]
  },
  {
   "cell_type": "code",
   "execution_count": 43,
   "metadata": {},
   "outputs": [],
   "source": [
    "import sys\n",
    "#!{sys.executable} -m pip install lightgbm"
   ]
  },
  {
   "cell_type": "code",
   "execution_count": 44,
   "metadata": {
    "scrolled": false
   },
   "outputs": [
    {
     "name": "stdout",
     "output_type": "stream",
     "text": [
      "[1]\tvalid_0's auc: 0.637326\n",
      "Training until validation scores don't improve for 100 rounds\n",
      "[2]\tvalid_0's auc: 0.692751\n",
      "[3]\tvalid_0's auc: 0.697018\n",
      "[4]\tvalid_0's auc: 0.703367\n",
      "[5]\tvalid_0's auc: 0.705741\n",
      "[6]\tvalid_0's auc: 0.718017\n",
      "[7]\tvalid_0's auc: 0.728029\n",
      "[8]\tvalid_0's auc: 0.72938\n",
      "[9]\tvalid_0's auc: 0.740078\n",
      "[10]\tvalid_0's auc: 0.750978\n",
      "[11]\tvalid_0's auc: 0.753321\n",
      "[12]\tvalid_0's auc: 0.760995\n",
      "[13]\tvalid_0's auc: 0.770084\n",
      "[14]\tvalid_0's auc: 0.777262\n",
      "[15]\tvalid_0's auc: 0.784588\n",
      "[16]\tvalid_0's auc: 0.788308\n",
      "[17]\tvalid_0's auc: 0.792806\n",
      "[18]\tvalid_0's auc: 0.797274\n",
      "[19]\tvalid_0's auc: 0.801516\n",
      "[20]\tvalid_0's auc: 0.804185\n",
      "[21]\tvalid_0's auc: 0.809969\n",
      "[22]\tvalid_0's auc: 0.815842\n",
      "[23]\tvalid_0's auc: 0.818581\n",
      "[24]\tvalid_0's auc: 0.819745\n",
      "[25]\tvalid_0's auc: 0.823825\n",
      "[26]\tvalid_0's auc: 0.824809\n",
      "[27]\tvalid_0's auc: 0.825744\n",
      "[28]\tvalid_0's auc: 0.827581\n",
      "[29]\tvalid_0's auc: 0.82904\n",
      "[30]\tvalid_0's auc: 0.829348\n",
      "[31]\tvalid_0's auc: 0.829186\n",
      "[32]\tvalid_0's auc: 0.83073\n",
      "[33]\tvalid_0's auc: 0.83098\n",
      "[34]\tvalid_0's auc: 0.831153\n",
      "[35]\tvalid_0's auc: 0.831134\n",
      "[36]\tvalid_0's auc: 0.830957\n",
      "[37]\tvalid_0's auc: 0.830975\n",
      "[38]\tvalid_0's auc: 0.831326\n",
      "[39]\tvalid_0's auc: 0.831709\n",
      "[40]\tvalid_0's auc: 0.832013\n",
      "[41]\tvalid_0's auc: 0.831934\n",
      "[42]\tvalid_0's auc: 0.832265\n",
      "[43]\tvalid_0's auc: 0.833827\n",
      "[44]\tvalid_0's auc: 0.833248\n",
      "[45]\tvalid_0's auc: 0.833765\n",
      "[46]\tvalid_0's auc: 0.834072\n",
      "[47]\tvalid_0's auc: 0.834872\n",
      "[48]\tvalid_0's auc: 0.834814\n",
      "[49]\tvalid_0's auc: 0.834602\n",
      "[50]\tvalid_0's auc: 0.834826\n",
      "[51]\tvalid_0's auc: 0.835941\n",
      "[52]\tvalid_0's auc: 0.835948\n",
      "[53]\tvalid_0's auc: 0.835803\n",
      "[54]\tvalid_0's auc: 0.83529\n",
      "[55]\tvalid_0's auc: 0.834874\n",
      "[56]\tvalid_0's auc: 0.835858\n",
      "[57]\tvalid_0's auc: 0.83769\n",
      "[58]\tvalid_0's auc: 0.838372\n",
      "[59]\tvalid_0's auc: 0.838507\n",
      "[60]\tvalid_0's auc: 0.839205\n",
      "[61]\tvalid_0's auc: 0.840428\n",
      "[62]\tvalid_0's auc: 0.840994\n",
      "[63]\tvalid_0's auc: 0.842049\n",
      "[64]\tvalid_0's auc: 0.842059\n",
      "[65]\tvalid_0's auc: 0.843207\n",
      "[66]\tvalid_0's auc: 0.843802\n",
      "[67]\tvalid_0's auc: 0.843894\n",
      "[68]\tvalid_0's auc: 0.845001\n",
      "[69]\tvalid_0's auc: 0.845746\n",
      "[70]\tvalid_0's auc: 0.845837\n",
      "[71]\tvalid_0's auc: 0.846854\n",
      "[72]\tvalid_0's auc: 0.847316\n",
      "[73]\tvalid_0's auc: 0.847759\n",
      "[74]\tvalid_0's auc: 0.847948\n",
      "[75]\tvalid_0's auc: 0.848359\n",
      "[76]\tvalid_0's auc: 0.848687\n",
      "[77]\tvalid_0's auc: 0.848987\n",
      "[78]\tvalid_0's auc: 0.848997\n",
      "[79]\tvalid_0's auc: 0.848943\n",
      "[80]\tvalid_0's auc: 0.848806\n",
      "[81]\tvalid_0's auc: 0.849116\n",
      "[82]\tvalid_0's auc: 0.848342\n",
      "[83]\tvalid_0's auc: 0.848648\n",
      "[84]\tvalid_0's auc: 0.848129\n",
      "[85]\tvalid_0's auc: 0.847901\n",
      "[86]\tvalid_0's auc: 0.847923\n",
      "[87]\tvalid_0's auc: 0.847773\n",
      "[88]\tvalid_0's auc: 0.847965\n",
      "[89]\tvalid_0's auc: 0.848983\n",
      "[90]\tvalid_0's auc: 0.848524\n",
      "[91]\tvalid_0's auc: 0.84883\n",
      "[92]\tvalid_0's auc: 0.848836\n",
      "[93]\tvalid_0's auc: 0.848501\n",
      "[94]\tvalid_0's auc: 0.848454\n",
      "[95]\tvalid_0's auc: 0.848448\n",
      "[96]\tvalid_0's auc: 0.848373\n",
      "[97]\tvalid_0's auc: 0.84811\n",
      "[98]\tvalid_0's auc: 0.848454\n",
      "[99]\tvalid_0's auc: 0.848303\n",
      "[100]\tvalid_0's auc: 0.84818\n",
      "[101]\tvalid_0's auc: 0.848735\n",
      "[102]\tvalid_0's auc: 0.849748\n",
      "[103]\tvalid_0's auc: 0.850326\n",
      "[104]\tvalid_0's auc: 0.851104\n",
      "[105]\tvalid_0's auc: 0.85139\n",
      "[106]\tvalid_0's auc: 0.851398\n",
      "[107]\tvalid_0's auc: 0.852244\n",
      "[108]\tvalid_0's auc: 0.852404\n",
      "[109]\tvalid_0's auc: 0.852949\n",
      "[110]\tvalid_0's auc: 0.853301\n",
      "[111]\tvalid_0's auc: 0.853747\n",
      "[112]\tvalid_0's auc: 0.852926\n",
      "[113]\tvalid_0's auc: 0.853305\n",
      "[114]\tvalid_0's auc: 0.853206\n",
      "[115]\tvalid_0's auc: 0.853148\n",
      "[116]\tvalid_0's auc: 0.853039\n",
      "[117]\tvalid_0's auc: 0.85324\n",
      "[118]\tvalid_0's auc: 0.853688\n",
      "[119]\tvalid_0's auc: 0.85382\n",
      "[120]\tvalid_0's auc: 0.854053\n",
      "[121]\tvalid_0's auc: 0.854044\n",
      "[122]\tvalid_0's auc: 0.853714\n",
      "[123]\tvalid_0's auc: 0.853393\n",
      "[124]\tvalid_0's auc: 0.853475\n",
      "[125]\tvalid_0's auc: 0.852575\n",
      "[126]\tvalid_0's auc: 0.85246\n",
      "[127]\tvalid_0's auc: 0.853026\n",
      "[128]\tvalid_0's auc: 0.852543\n",
      "[129]\tvalid_0's auc: 0.851992\n",
      "[130]\tvalid_0's auc: 0.852322\n",
      "[131]\tvalid_0's auc: 0.852725\n",
      "[132]\tvalid_0's auc: 0.852411\n",
      "[133]\tvalid_0's auc: 0.852455\n",
      "[134]\tvalid_0's auc: 0.852291\n",
      "[135]\tvalid_0's auc: 0.85276\n",
      "[136]\tvalid_0's auc: 0.852634\n",
      "[137]\tvalid_0's auc: 0.852764\n",
      "[138]\tvalid_0's auc: 0.852274\n",
      "[139]\tvalid_0's auc: 0.852142\n",
      "[140]\tvalid_0's auc: 0.8516\n",
      "[141]\tvalid_0's auc: 0.84938\n",
      "[142]\tvalid_0's auc: 0.850135\n",
      "[143]\tvalid_0's auc: 0.850629\n",
      "[144]\tvalid_0's auc: 0.851552\n",
      "[145]\tvalid_0's auc: 0.851409\n",
      "[146]\tvalid_0's auc: 0.851523\n",
      "[147]\tvalid_0's auc: 0.851643\n",
      "[148]\tvalid_0's auc: 0.852567\n",
      "[149]\tvalid_0's auc: 0.852584\n",
      "[150]\tvalid_0's auc: 0.853266\n",
      "[151]\tvalid_0's auc: 0.85341\n",
      "[152]\tvalid_0's auc: 0.852897\n",
      "[153]\tvalid_0's auc: 0.852813\n",
      "[154]\tvalid_0's auc: 0.853108\n",
      "[155]\tvalid_0's auc: 0.852543\n",
      "[156]\tvalid_0's auc: 0.852672\n",
      "[157]\tvalid_0's auc: 0.852599\n",
      "[158]\tvalid_0's auc: 0.852405\n",
      "[159]\tvalid_0's auc: 0.852346\n",
      "[160]\tvalid_0's auc: 0.852611\n",
      "[161]\tvalid_0's auc: 0.85215\n",
      "[162]\tvalid_0's auc: 0.851801\n",
      "[163]\tvalid_0's auc: 0.851841\n",
      "[164]\tvalid_0's auc: 0.85211\n",
      "[165]\tvalid_0's auc: 0.851964\n",
      "[166]\tvalid_0's auc: 0.851445\n",
      "[167]\tvalid_0's auc: 0.851493\n",
      "[168]\tvalid_0's auc: 0.850593\n",
      "[169]\tvalid_0's auc: 0.850545\n",
      "[170]\tvalid_0's auc: 0.850042\n",
      "[171]\tvalid_0's auc: 0.849901\n",
      "[172]\tvalid_0's auc: 0.849747\n",
      "[173]\tvalid_0's auc: 0.849427\n",
      "[174]\tvalid_0's auc: 0.848895\n",
      "[175]\tvalid_0's auc: 0.848726\n",
      "[176]\tvalid_0's auc: 0.848601\n",
      "[177]\tvalid_0's auc: 0.848467\n",
      "[178]\tvalid_0's auc: 0.848037\n",
      "[179]\tvalid_0's auc: 0.847862\n",
      "[180]\tvalid_0's auc: 0.847825\n",
      "[181]\tvalid_0's auc: 0.847977\n",
      "[182]\tvalid_0's auc: 0.848137\n",
      "[183]\tvalid_0's auc: 0.847523\n",
      "[184]\tvalid_0's auc: 0.847688\n",
      "[185]\tvalid_0's auc: 0.847793\n",
      "[186]\tvalid_0's auc: 0.847718\n",
      "[187]\tvalid_0's auc: 0.847884\n",
      "[188]\tvalid_0's auc: 0.848161\n",
      "[189]\tvalid_0's auc: 0.848424\n",
      "[190]\tvalid_0's auc: 0.848674\n",
      "[191]\tvalid_0's auc: 0.848417\n",
      "[192]\tvalid_0's auc: 0.848378\n",
      "[193]\tvalid_0's auc: 0.848707\n",
      "[194]\tvalid_0's auc: 0.8488\n",
      "[195]\tvalid_0's auc: 0.848919\n",
      "[196]\tvalid_0's auc: 0.849265\n",
      "[197]\tvalid_0's auc: 0.849641\n",
      "[198]\tvalid_0's auc: 0.849824\n",
      "[199]\tvalid_0's auc: 0.850002\n",
      "[200]\tvalid_0's auc: 0.849812\n",
      "[201]\tvalid_0's auc: 0.850148\n",
      "[202]\tvalid_0's auc: 0.850419\n",
      "[203]\tvalid_0's auc: 0.850758\n",
      "[204]\tvalid_0's auc: 0.851029\n",
      "[205]\tvalid_0's auc: 0.85127\n",
      "[206]\tvalid_0's auc: 0.851515\n",
      "[207]\tvalid_0's auc: 0.851738\n",
      "[208]\tvalid_0's auc: 0.85169\n",
      "[209]\tvalid_0's auc: 0.852333\n",
      "[210]\tvalid_0's auc: 0.852648\n",
      "[211]\tvalid_0's auc: 0.852514\n",
      "[212]\tvalid_0's auc: 0.852703\n",
      "[213]\tvalid_0's auc: 0.852381\n",
      "[214]\tvalid_0's auc: 0.852437\n",
      "[215]\tvalid_0's auc: 0.852528\n",
      "[216]\tvalid_0's auc: 0.85278\n",
      "[217]\tvalid_0's auc: 0.853072\n",
      "[218]\tvalid_0's auc: 0.852908\n",
      "[219]\tvalid_0's auc: 0.852971\n",
      "[220]\tvalid_0's auc: 0.853322\n",
      "Early stopping, best iteration is:\n",
      "[120]\tvalid_0's auc: 0.854053\n"
     ]
    }
   ],
   "source": [
    "from sklearn.model_selection import StratifiedKFold\n",
    "import lightgbm as lgb\n",
    "from IPython.display import display\n",
    "#\n",
    "# Create the LightGBM data containers\n",
    "#\n",
    "#categorical_features = [c for c, col in enumerate(train.columns) if 'cat' in col]\n",
    "train_data = lgb.Dataset(train_features, label=train_labels)\n",
    "test_data = lgb.Dataset(test_features, label=test_labels)\n",
    "\n",
    "\n",
    "#\n",
    "# Train the model\n",
    "#\n",
    "\n",
    "parameters = {\n",
    "    'application': 'binary',\n",
    "    'objective': 'binary',\n",
    "    'metric': 'auc',\n",
    "    'is_unbalance': 'true',\n",
    "    'boosting': 'gbdt',\n",
    "    'num_leaves': 31,\n",
    "    'feature_fraction': 0.5,\n",
    "    'bagging_fraction': 0.5,\n",
    "    'bagging_freq': 20,\n",
    "    'learning_rate': 0.05,\n",
    "    'verbose': 200\n",
    "}\n",
    "\n",
    "model = lgb.train(parameters,\n",
    "                       train_data,\n",
    "                       valid_sets=test_data,\n",
    "                       num_boost_round=5000,\n",
    "                       early_stopping_rounds=100)\n"
   ]
  },
  {
   "cell_type": "code",
   "execution_count": 57,
   "metadata": {},
   "outputs": [
    {
     "name": "stdout",
     "output_type": "stream",
     "text": [
      "(13020, 20)\n",
      "(13020, 1)\n"
     ]
    }
   ],
   "source": [
    "print(train_features.shape)\n",
    "print(train_labels.shape)"
   ]
  },
  {
   "cell_type": "markdown",
   "metadata": {},
   "source": [
    "### Cross Validation with Early Stopping Notes\n",
    "\n",
    "Cross validation with early stopping is one of the most effective methods for preventing overfitting on the training set because it prevents us from continuing to add model complexity once it is clear that validation scores are not improving. Repeating this process across multiple folds helps to reduce the bias that comes from using a single fold. Early stopping also lets us train the model much quicker. Overall, __early stopping with cross validation__ is the best method to select the number of estimators in the Gradient Boosting Machine and should be our default technique when we desig an implementation."
   ]
  },
  {
   "cell_type": "code",
   "execution_count": 62,
   "metadata": {},
   "outputs": [
    {
     "name": "stdout",
     "output_type": "stream",
     "text": [
      "{'auc-mean': [0.6002392106656939, 0.6625843794474933, 0.6678982692992438, 0.6743766811904671, 0.6730927431155103, 0.6890564455736392, 0.701892721091443, 0.7042402038133025, 0.7164144289449677, 0.7252923734491549, 0.7284449682866674, 0.7368752847135903, 0.7447600575681669, 0.7519892972109451, 0.7601372867062486, 0.7672147199988004, 0.7719386649433952, 0.7773088007433147, 0.7813308972267732, 0.7854520275671442, 0.7883626948189923, 0.7920705304334741, 0.7970095277286344, 0.7965081417902937, 0.7992814671050312, 0.8008163838889786, 0.8028079312879852, 0.8047010727106162, 0.8054014899022466, 0.8051881125107038, 0.804889252568082, 0.8068871022003752, 0.8069090474688683, 0.8071313443072125], 'auc-stdv': [0.0511289362209278, 0.04644743599508544, 0.04653298299321698, 0.047921522939601065, 0.0486984542494124, 0.04819875558116418, 0.04699704711289073, 0.046400035031489456, 0.04483720064860812, 0.04419896948655792, 0.04453016261722315, 0.04354632475182073, 0.042570001616140205, 0.041270954600834714, 0.03925048943825733, 0.038652137937942074, 0.03753577626377494, 0.03607680408045941, 0.03473373738696484, 0.033587110017089895, 0.03582661303846845, 0.035159077673729125, 0.034681908703769936, 0.03408233005253632, 0.0342452746937152, 0.03479176611377448, 0.03507230192162827, 0.03426541040222751, 0.034525824486490234, 0.034394762131219773, 0.03483116118553547, 0.034456910668699534, 0.034703045936830317, 0.03443424828217255]}\n"
     ]
    }
   ],
   "source": [
    "cv_results = lgb.cv(\n",
    "        parameters,\n",
    "        train_data,\n",
    "        num_boost_round=100,\n",
    "        nfold=10,\n",
    "        early_stopping_rounds=10,\n",
    "\n",
    "        # This is what I added\n",
    "        stratified=False\n",
    "        )\n",
    "\n",
    "print(cv_results)"
   ]
  },
  {
   "cell_type": "markdown",
   "metadata": {},
   "source": [
    "The power of the Gradient Boosting Machine can be seen here! The cross validation score blows away anything we've done previously. \n",
    "\n",
    "Let's take a look at the predictions to understand what is going on with the predictions in each fold."
   ]
  },
  {
   "cell_type": "code",
   "execution_count": 65,
   "metadata": {},
   "outputs": [
    {
     "name": "stdout",
     "output_type": "stream",
     "text": [
      "[0.0025771  0.01167717 0.07207957 ... 0.00302126 0.00218389 0.00350239]\n"
     ]
    }
   ],
   "source": [
    "ypred = model.predict(test_features)\n",
    "print(ypred)"
   ]
  }
 ],
 "metadata": {
  "kernelspec": {
   "display_name": "Python 3",
   "language": "python",
   "name": "python3"
  },
  "language_info": {
   "codemirror_mode": {
    "name": "ipython",
    "version": 3
   },
   "file_extension": ".py",
   "mimetype": "text/x-python",
   "name": "python",
   "nbconvert_exporter": "python",
   "pygments_lexer": "ipython3",
   "version": "3.7.4"
  }
 },
 "nbformat": 4,
 "nbformat_minor": 2
}
